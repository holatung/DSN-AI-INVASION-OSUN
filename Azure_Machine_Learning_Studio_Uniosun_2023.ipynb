{
  "nbformat": 4,
  "nbformat_minor": 0,
  "metadata": {
    "colab": {
      "provenance": [],
      "authorship_tag": "ABX9TyMhYY0wdZQG6NWXzN6+zwkL",
      "include_colab_link": true
    },
    "kernelspec": {
      "name": "python3",
      "display_name": "Python 3"
    },
    "language_info": {
      "name": "python"
    }
  },
  "cells": [
    {
      "cell_type": "markdown",
      "metadata": {
        "id": "view-in-github",
        "colab_type": "text"
      },
      "source": [
        "<a href=\"https://colab.research.google.com/github/holatung/DSN-AI-INVASION-OSUN/blob/main/Azure_Machine_Learning_Studio_Uniosun_2023.ipynb\" target=\"_parent\"><img src=\"https://colab.research.google.com/assets/colab-badge.svg\" alt=\"Open In Colab\"/></a>"
      ]
    },
    {
      "cell_type": "markdown",
      "source": [
        "1. You want to create a model to predict sales of ice cream based on historic data that includes daily ice cream sales totals and weather measurements. Which Azure service should you use?\n",
        "\n",
        "A. Azure Machine Learning\n",
        "\n",
        "B. Azure Bot\n",
        "\n",
        "C. Language\n",
        "\n",
        "\n",
        "2. You are designing an AI application that uses images to detect cracks in car windshields and warn drivers when a windshield should be repaired or replaced. What AI workload is described?\n",
        "\n",
        "A. Computer Vision\n",
        "\n",
        "B. Anomaly Detection\n",
        "\n",
        "C. Natural Language Processing\n",
        "\n",
        "3. A predictive app provides audio output for visually impaired users. Which principle of Responsible AI is reflected here?\n",
        "\n",
        "A. Transparency\n",
        "\n",
        "B. Inclusiveness\n",
        "\n",
        "C. Fairness"
      ],
      "metadata": {
        "id": "ScfjrRXbuEs6"
      }
    },
    {
      "cell_type": "code",
      "execution_count": null,
      "metadata": {
        "colab": {
          "base_uri": "https://localhost:8080/"
        },
        "id": "ZdsCbHJebdCH",
        "outputId": "b29fbe1c-88f7-4047-b769-fe337ed5147d"
      },
      "outputs": [
        {
          "output_type": "stream",
          "name": "stdout",
          "text": [
            "--2023-06-23 10:07:55--  https://raw.githubusercontent.com/MicrosoftDocs/mslearn-introduction-to-machine-learning/main/graphing.py\n",
            "Resolving raw.githubusercontent.com (raw.githubusercontent.com)... 185.199.108.133, 185.199.109.133, 185.199.110.133, ...\n",
            "Connecting to raw.githubusercontent.com (raw.githubusercontent.com)|185.199.108.133|:443... connected.\n",
            "HTTP request sent, awaiting response... 200 OK\n",
            "Length: 21511 (21K) [text/plain]\n",
            "Saving to: ‘graphing.py’\n",
            "\n",
            "\rgraphing.py           0%[                    ]       0  --.-KB/s               \rgraphing.py         100%[===================>]  21.01K  --.-KB/s    in 0.001s  \n",
            "\n",
            "2023-06-23 10:07:55 (31.4 MB/s) - ‘graphing.py’ saved [21511/21511]\n",
            "\n",
            "--2023-06-23 10:07:55--  https://raw.githubusercontent.com/MicrosoftDocs/mslearn-introduction-to-machine-learning/main/Data/doggy-boot-harness.csv\n",
            "Resolving raw.githubusercontent.com (raw.githubusercontent.com)... 185.199.108.133, 185.199.109.133, 185.199.110.133, ...\n",
            "Connecting to raw.githubusercontent.com (raw.githubusercontent.com)|185.199.108.133|:443... connected.\n",
            "HTTP request sent, awaiting response... 200 OK\n",
            "Length: 838 [text/plain]\n",
            "Saving to: ‘doggy-boot-harness.csv’\n",
            "\n",
            "doggy-boot-harness. 100%[===================>]     838  --.-KB/s    in 0s      \n",
            "\n",
            "2023-06-23 10:07:55 (25.7 MB/s) - ‘doggy-boot-harness.csv’ saved [838/838]\n",
            "\n"
          ]
        }
      ],
      "source": [
        "import pandas\n",
        "!wget https://raw.githubusercontent.com/MicrosoftDocs/mslearn-introduction-to-machine-learning/main/graphing.py\n",
        "!wget https://raw.githubusercontent.com/MicrosoftDocs/mslearn-introduction-to-machine-learning/main/Data/doggy-boot-harness.csv"
      ]
    },
    {
      "cell_type": "code",
      "source": [
        "pip install statsmodels"
      ],
      "metadata": {
        "colab": {
          "base_uri": "https://localhost:8080/"
        },
        "id": "2i7Rvynyb9q_",
        "outputId": "859dc62b-fb34-4c44-ebbf-0bc239e00e13"
      },
      "execution_count": null,
      "outputs": [
        {
          "output_type": "stream",
          "name": "stdout",
          "text": [
            "Looking in indexes: https://pypi.org/simple, https://us-python.pkg.dev/colab-wheels/public/simple/\n",
            "Requirement already satisfied: statsmodels in /usr/local/lib/python3.10/dist-packages (0.13.5)\n",
            "Requirement already satisfied: pandas>=0.25 in /usr/local/lib/python3.10/dist-packages (from statsmodels) (1.5.3)\n",
            "Requirement already satisfied: patsy>=0.5.2 in /usr/local/lib/python3.10/dist-packages (from statsmodels) (0.5.3)\n",
            "Requirement already satisfied: packaging>=21.3 in /usr/local/lib/python3.10/dist-packages (from statsmodels) (23.1)\n",
            "Requirement already satisfied: scipy>=1.3 in /usr/local/lib/python3.10/dist-packages (from statsmodels) (1.10.1)\n",
            "Requirement already satisfied: numpy>=1.17 in /usr/local/lib/python3.10/dist-packages (from statsmodels) (1.22.4)\n",
            "Requirement already satisfied: python-dateutil>=2.8.1 in /usr/local/lib/python3.10/dist-packages (from pandas>=0.25->statsmodels) (2.8.2)\n",
            "Requirement already satisfied: pytz>=2020.1 in /usr/local/lib/python3.10/dist-packages (from pandas>=0.25->statsmodels) (2022.7.1)\n",
            "Requirement already satisfied: six in /usr/local/lib/python3.10/dist-packages (from patsy>=0.5.2->statsmodels) (1.16.0)\n"
          ]
        }
      ]
    },
    {
      "cell_type": "code",
      "source": [
        "data = {\n",
        "    'boot_size' : [ 39, 38, 37, 39, 38, 35, 37, 36, 35, 40,\n",
        "                    40, 36, 38, 39, 42, 42, 36, 36, 35, 41,\n",
        "                    42, 38, 37, 35, 40, 36, 35, 39, 41, 37,\n",
        "                    35, 41, 39, 41, 42, 42, 36, 37, 37, 39,\n",
        "                    42, 35, 36, 41, 41, 41, 39, 39, 35, 39\n",
        " ],\n",
        "    'harness_size': [ 58, 58, 52, 58, 57, 52, 55, 53, 49, 54,\n",
        "                59, 56, 53, 58, 57, 58, 56, 51, 50, 59,\n",
        "                59, 59, 55, 50, 55, 52, 53, 54, 61, 56,\n",
        "                55, 60, 57, 56, 61, 58, 53, 57, 57, 55,\n",
        "                60, 51, 52, 56, 55, 57, 58, 57, 51, 59\n",
        "                ]\n",
        "}\n"
      ],
      "metadata": {
        "id": "MfiF1zb8cH-2"
      },
      "execution_count": null,
      "outputs": []
    },
    {
      "cell_type": "code",
      "source": [
        "dataset = pandas.DataFrame(data)\n",
        "(dataset)"
      ],
      "metadata": {
        "colab": {
          "base_uri": "https://localhost:8080/",
          "height": 1000
        },
        "id": "GzZHjkzdcT53",
        "outputId": "a9656a02-2866-43eb-e65b-ea7caa159bdc"
      },
      "execution_count": null,
      "outputs": [
        {
          "output_type": "execute_result",
          "data": {
            "text/plain": [
              "    boot_size  harness_size\n",
              "0          39            58\n",
              "1          38            58\n",
              "2          37            52\n",
              "3          39            58\n",
              "4          38            57\n",
              "5          35            52\n",
              "6          37            55\n",
              "7          36            53\n",
              "8          35            49\n",
              "9          40            54\n",
              "10         40            59\n",
              "11         36            56\n",
              "12         38            53\n",
              "13         39            58\n",
              "14         42            57\n",
              "15         42            58\n",
              "16         36            56\n",
              "17         36            51\n",
              "18         35            50\n",
              "19         41            59\n",
              "20         42            59\n",
              "21         38            59\n",
              "22         37            55\n",
              "23         35            50\n",
              "24         40            55\n",
              "25         36            52\n",
              "26         35            53\n",
              "27         39            54\n",
              "28         41            61\n",
              "29         37            56\n",
              "30         35            55\n",
              "31         41            60\n",
              "32         39            57\n",
              "33         41            56\n",
              "34         42            61\n",
              "35         42            58\n",
              "36         36            53\n",
              "37         37            57\n",
              "38         37            57\n",
              "39         39            55\n",
              "40         42            60\n",
              "41         35            51\n",
              "42         36            52\n",
              "43         41            56\n",
              "44         41            55\n",
              "45         41            57\n",
              "46         39            58\n",
              "47         39            57\n",
              "48         35            51\n",
              "49         39            59"
            ],
            "text/html": [
              "\n",
              "  <div id=\"df-c97a3bb9-ad8e-459d-8044-0f865462f0ab\">\n",
              "    <div class=\"colab-df-container\">\n",
              "      <div>\n",
              "<style scoped>\n",
              "    .dataframe tbody tr th:only-of-type {\n",
              "        vertical-align: middle;\n",
              "    }\n",
              "\n",
              "    .dataframe tbody tr th {\n",
              "        vertical-align: top;\n",
              "    }\n",
              "\n",
              "    .dataframe thead th {\n",
              "        text-align: right;\n",
              "    }\n",
              "</style>\n",
              "<table border=\"1\" class=\"dataframe\">\n",
              "  <thead>\n",
              "    <tr style=\"text-align: right;\">\n",
              "      <th></th>\n",
              "      <th>boot_size</th>\n",
              "      <th>harness_size</th>\n",
              "    </tr>\n",
              "  </thead>\n",
              "  <tbody>\n",
              "    <tr>\n",
              "      <th>0</th>\n",
              "      <td>39</td>\n",
              "      <td>58</td>\n",
              "    </tr>\n",
              "    <tr>\n",
              "      <th>1</th>\n",
              "      <td>38</td>\n",
              "      <td>58</td>\n",
              "    </tr>\n",
              "    <tr>\n",
              "      <th>2</th>\n",
              "      <td>37</td>\n",
              "      <td>52</td>\n",
              "    </tr>\n",
              "    <tr>\n",
              "      <th>3</th>\n",
              "      <td>39</td>\n",
              "      <td>58</td>\n",
              "    </tr>\n",
              "    <tr>\n",
              "      <th>4</th>\n",
              "      <td>38</td>\n",
              "      <td>57</td>\n",
              "    </tr>\n",
              "    <tr>\n",
              "      <th>5</th>\n",
              "      <td>35</td>\n",
              "      <td>52</td>\n",
              "    </tr>\n",
              "    <tr>\n",
              "      <th>6</th>\n",
              "      <td>37</td>\n",
              "      <td>55</td>\n",
              "    </tr>\n",
              "    <tr>\n",
              "      <th>7</th>\n",
              "      <td>36</td>\n",
              "      <td>53</td>\n",
              "    </tr>\n",
              "    <tr>\n",
              "      <th>8</th>\n",
              "      <td>35</td>\n",
              "      <td>49</td>\n",
              "    </tr>\n",
              "    <tr>\n",
              "      <th>9</th>\n",
              "      <td>40</td>\n",
              "      <td>54</td>\n",
              "    </tr>\n",
              "    <tr>\n",
              "      <th>10</th>\n",
              "      <td>40</td>\n",
              "      <td>59</td>\n",
              "    </tr>\n",
              "    <tr>\n",
              "      <th>11</th>\n",
              "      <td>36</td>\n",
              "      <td>56</td>\n",
              "    </tr>\n",
              "    <tr>\n",
              "      <th>12</th>\n",
              "      <td>38</td>\n",
              "      <td>53</td>\n",
              "    </tr>\n",
              "    <tr>\n",
              "      <th>13</th>\n",
              "      <td>39</td>\n",
              "      <td>58</td>\n",
              "    </tr>\n",
              "    <tr>\n",
              "      <th>14</th>\n",
              "      <td>42</td>\n",
              "      <td>57</td>\n",
              "    </tr>\n",
              "    <tr>\n",
              "      <th>15</th>\n",
              "      <td>42</td>\n",
              "      <td>58</td>\n",
              "    </tr>\n",
              "    <tr>\n",
              "      <th>16</th>\n",
              "      <td>36</td>\n",
              "      <td>56</td>\n",
              "    </tr>\n",
              "    <tr>\n",
              "      <th>17</th>\n",
              "      <td>36</td>\n",
              "      <td>51</td>\n",
              "    </tr>\n",
              "    <tr>\n",
              "      <th>18</th>\n",
              "      <td>35</td>\n",
              "      <td>50</td>\n",
              "    </tr>\n",
              "    <tr>\n",
              "      <th>19</th>\n",
              "      <td>41</td>\n",
              "      <td>59</td>\n",
              "    </tr>\n",
              "    <tr>\n",
              "      <th>20</th>\n",
              "      <td>42</td>\n",
              "      <td>59</td>\n",
              "    </tr>\n",
              "    <tr>\n",
              "      <th>21</th>\n",
              "      <td>38</td>\n",
              "      <td>59</td>\n",
              "    </tr>\n",
              "    <tr>\n",
              "      <th>22</th>\n",
              "      <td>37</td>\n",
              "      <td>55</td>\n",
              "    </tr>\n",
              "    <tr>\n",
              "      <th>23</th>\n",
              "      <td>35</td>\n",
              "      <td>50</td>\n",
              "    </tr>\n",
              "    <tr>\n",
              "      <th>24</th>\n",
              "      <td>40</td>\n",
              "      <td>55</td>\n",
              "    </tr>\n",
              "    <tr>\n",
              "      <th>25</th>\n",
              "      <td>36</td>\n",
              "      <td>52</td>\n",
              "    </tr>\n",
              "    <tr>\n",
              "      <th>26</th>\n",
              "      <td>35</td>\n",
              "      <td>53</td>\n",
              "    </tr>\n",
              "    <tr>\n",
              "      <th>27</th>\n",
              "      <td>39</td>\n",
              "      <td>54</td>\n",
              "    </tr>\n",
              "    <tr>\n",
              "      <th>28</th>\n",
              "      <td>41</td>\n",
              "      <td>61</td>\n",
              "    </tr>\n",
              "    <tr>\n",
              "      <th>29</th>\n",
              "      <td>37</td>\n",
              "      <td>56</td>\n",
              "    </tr>\n",
              "    <tr>\n",
              "      <th>30</th>\n",
              "      <td>35</td>\n",
              "      <td>55</td>\n",
              "    </tr>\n",
              "    <tr>\n",
              "      <th>31</th>\n",
              "      <td>41</td>\n",
              "      <td>60</td>\n",
              "    </tr>\n",
              "    <tr>\n",
              "      <th>32</th>\n",
              "      <td>39</td>\n",
              "      <td>57</td>\n",
              "    </tr>\n",
              "    <tr>\n",
              "      <th>33</th>\n",
              "      <td>41</td>\n",
              "      <td>56</td>\n",
              "    </tr>\n",
              "    <tr>\n",
              "      <th>34</th>\n",
              "      <td>42</td>\n",
              "      <td>61</td>\n",
              "    </tr>\n",
              "    <tr>\n",
              "      <th>35</th>\n",
              "      <td>42</td>\n",
              "      <td>58</td>\n",
              "    </tr>\n",
              "    <tr>\n",
              "      <th>36</th>\n",
              "      <td>36</td>\n",
              "      <td>53</td>\n",
              "    </tr>\n",
              "    <tr>\n",
              "      <th>37</th>\n",
              "      <td>37</td>\n",
              "      <td>57</td>\n",
              "    </tr>\n",
              "    <tr>\n",
              "      <th>38</th>\n",
              "      <td>37</td>\n",
              "      <td>57</td>\n",
              "    </tr>\n",
              "    <tr>\n",
              "      <th>39</th>\n",
              "      <td>39</td>\n",
              "      <td>55</td>\n",
              "    </tr>\n",
              "    <tr>\n",
              "      <th>40</th>\n",
              "      <td>42</td>\n",
              "      <td>60</td>\n",
              "    </tr>\n",
              "    <tr>\n",
              "      <th>41</th>\n",
              "      <td>35</td>\n",
              "      <td>51</td>\n",
              "    </tr>\n",
              "    <tr>\n",
              "      <th>42</th>\n",
              "      <td>36</td>\n",
              "      <td>52</td>\n",
              "    </tr>\n",
              "    <tr>\n",
              "      <th>43</th>\n",
              "      <td>41</td>\n",
              "      <td>56</td>\n",
              "    </tr>\n",
              "    <tr>\n",
              "      <th>44</th>\n",
              "      <td>41</td>\n",
              "      <td>55</td>\n",
              "    </tr>\n",
              "    <tr>\n",
              "      <th>45</th>\n",
              "      <td>41</td>\n",
              "      <td>57</td>\n",
              "    </tr>\n",
              "    <tr>\n",
              "      <th>46</th>\n",
              "      <td>39</td>\n",
              "      <td>58</td>\n",
              "    </tr>\n",
              "    <tr>\n",
              "      <th>47</th>\n",
              "      <td>39</td>\n",
              "      <td>57</td>\n",
              "    </tr>\n",
              "    <tr>\n",
              "      <th>48</th>\n",
              "      <td>35</td>\n",
              "      <td>51</td>\n",
              "    </tr>\n",
              "    <tr>\n",
              "      <th>49</th>\n",
              "      <td>39</td>\n",
              "      <td>59</td>\n",
              "    </tr>\n",
              "  </tbody>\n",
              "</table>\n",
              "</div>\n",
              "      <button class=\"colab-df-convert\" onclick=\"convertToInteractive('df-c97a3bb9-ad8e-459d-8044-0f865462f0ab')\"\n",
              "              title=\"Convert this dataframe to an interactive table.\"\n",
              "              style=\"display:none;\">\n",
              "        \n",
              "  <svg xmlns=\"http://www.w3.org/2000/svg\" height=\"24px\"viewBox=\"0 0 24 24\"\n",
              "       width=\"24px\">\n",
              "    <path d=\"M0 0h24v24H0V0z\" fill=\"none\"/>\n",
              "    <path d=\"M18.56 5.44l.94 2.06.94-2.06 2.06-.94-2.06-.94-.94-2.06-.94 2.06-2.06.94zm-11 1L8.5 8.5l.94-2.06 2.06-.94-2.06-.94L8.5 2.5l-.94 2.06-2.06.94zm10 10l.94 2.06.94-2.06 2.06-.94-2.06-.94-.94-2.06-.94 2.06-2.06.94z\"/><path d=\"M17.41 7.96l-1.37-1.37c-.4-.4-.92-.59-1.43-.59-.52 0-1.04.2-1.43.59L10.3 9.45l-7.72 7.72c-.78.78-.78 2.05 0 2.83L4 21.41c.39.39.9.59 1.41.59.51 0 1.02-.2 1.41-.59l7.78-7.78 2.81-2.81c.8-.78.8-2.07 0-2.86zM5.41 20L4 18.59l7.72-7.72 1.47 1.35L5.41 20z\"/>\n",
              "  </svg>\n",
              "      </button>\n",
              "      \n",
              "  <style>\n",
              "    .colab-df-container {\n",
              "      display:flex;\n",
              "      flex-wrap:wrap;\n",
              "      gap: 12px;\n",
              "    }\n",
              "\n",
              "    .colab-df-convert {\n",
              "      background-color: #E8F0FE;\n",
              "      border: none;\n",
              "      border-radius: 50%;\n",
              "      cursor: pointer;\n",
              "      display: none;\n",
              "      fill: #1967D2;\n",
              "      height: 32px;\n",
              "      padding: 0 0 0 0;\n",
              "      width: 32px;\n",
              "    }\n",
              "\n",
              "    .colab-df-convert:hover {\n",
              "      background-color: #E2EBFA;\n",
              "      box-shadow: 0px 1px 2px rgba(60, 64, 67, 0.3), 0px 1px 3px 1px rgba(60, 64, 67, 0.15);\n",
              "      fill: #174EA6;\n",
              "    }\n",
              "\n",
              "    [theme=dark] .colab-df-convert {\n",
              "      background-color: #3B4455;\n",
              "      fill: #D2E3FC;\n",
              "    }\n",
              "\n",
              "    [theme=dark] .colab-df-convert:hover {\n",
              "      background-color: #434B5C;\n",
              "      box-shadow: 0px 1px 3px 1px rgba(0, 0, 0, 0.15);\n",
              "      filter: drop-shadow(0px 1px 2px rgba(0, 0, 0, 0.3));\n",
              "      fill: #FFFFFF;\n",
              "    }\n",
              "  </style>\n",
              "\n",
              "      <script>\n",
              "        const buttonEl =\n",
              "          document.querySelector('#df-c97a3bb9-ad8e-459d-8044-0f865462f0ab button.colab-df-convert');\n",
              "        buttonEl.style.display =\n",
              "          google.colab.kernel.accessAllowed ? 'block' : 'none';\n",
              "\n",
              "        async function convertToInteractive(key) {\n",
              "          const element = document.querySelector('#df-c97a3bb9-ad8e-459d-8044-0f865462f0ab');\n",
              "          const dataTable =\n",
              "            await google.colab.kernel.invokeFunction('convertToInteractive',\n",
              "                                                     [key], {});\n",
              "          if (!dataTable) return;\n",
              "\n",
              "          const docLinkHtml = 'Like what you see? Visit the ' +\n",
              "            '<a target=\"_blank\" href=https://colab.research.google.com/notebooks/data_table.ipynb>data table notebook</a>'\n",
              "            + ' to learn more about interactive tables.';\n",
              "          element.innerHTML = '';\n",
              "          dataTable['output_type'] = 'display_data';\n",
              "          await google.colab.output.renderOutput(dataTable, element);\n",
              "          const docLink = document.createElement('div');\n",
              "          docLink.innerHTML = docLinkHtml;\n",
              "          element.appendChild(docLink);\n",
              "        }\n",
              "      </script>\n",
              "    </div>\n",
              "  </div>\n",
              "  "
            ]
          },
          "metadata": {},
          "execution_count": 4
        }
      ]
    },
    {
      "cell_type": "code",
      "source": [
        "dataset = pandas.read_csv('doggy-boot-harness.csv')"
      ],
      "metadata": {
        "id": "KENf8jilJsnR"
      },
      "execution_count": null,
      "outputs": []
    },
    {
      "cell_type": "code",
      "source": [
        "(dataset)"
      ],
      "metadata": {
        "colab": {
          "base_uri": "https://localhost:8080/",
          "height": 1000
        },
        "id": "f8o6hWTDJ2ji",
        "outputId": "22aa3921-b7eb-4148-a8e5-99d5d81a74f5"
      },
      "execution_count": null,
      "outputs": [
        {
          "output_type": "execute_result",
          "data": {
            "text/plain": [
              "    boot_size  harness_size     sex  age_years\n",
              "0          39            58    male       12.0\n",
              "1          38            58    male        9.6\n",
              "2          37            52  female        8.6\n",
              "3          39            58    male       10.2\n",
              "4          38            57    male        7.8\n",
              "5          35            52  female        4.4\n",
              "6          37            55  female        6.0\n",
              "7          36            53  female       14.2\n",
              "8          35            49    male       13.2\n",
              "9          40            54  female       15.2\n",
              "10         40            59    male        3.6\n",
              "11         36            56    male       10.0\n",
              "12         38            53  female        7.0\n",
              "13         39            58    male       12.4\n",
              "14         42            57    male        7.4\n",
              "15         42            58    male       12.0\n",
              "16         36            56    male       11.4\n",
              "17         36            51  female        5.0\n",
              "18         35            50  female       15.2\n",
              "19         41            59    male       11.4\n",
              "20         42            59  female        6.6\n",
              "21         38            59    male        9.6\n",
              "22         37            55  female        7.8\n",
              "23         35            50    male        6.4\n",
              "24         40            55  female        8.8\n",
              "25         36            52  female       13.2\n",
              "26         35            53  female       13.2\n",
              "27         39            54  female        6.8\n",
              "28         41            61    male       10.8\n",
              "29         37            56    male        6.2\n",
              "30         35            55  female       11.8\n",
              "31         41            60    male        4.2\n",
              "32         39            57  female        3.6\n",
              "33         41            56    male        5.2\n",
              "34         42            61    male        5.8\n",
              "35         42            58    male        6.6\n",
              "36         36            53  female        4.6\n",
              "37         37            57    male       14.0\n",
              "38         37            57    male       10.2\n",
              "39         39            55  female        8.4\n",
              "40         42            60    male       12.4\n",
              "41         35            51  female        3.8\n",
              "42         36            52  female        4.2\n",
              "43         41            56    male       11.0\n",
              "44         41            55  female       13.6\n",
              "45         41            57  female       12.6\n",
              "46         39            58    male       14.6\n",
              "47         39            57    male       15.0\n",
              "48         35            51  female       14.2\n",
              "49         39            59    male        9.4"
            ],
            "text/html": [
              "\n",
              "  <div id=\"df-bd2d04e3-2666-4b8e-845e-480048e755e0\">\n",
              "    <div class=\"colab-df-container\">\n",
              "      <div>\n",
              "<style scoped>\n",
              "    .dataframe tbody tr th:only-of-type {\n",
              "        vertical-align: middle;\n",
              "    }\n",
              "\n",
              "    .dataframe tbody tr th {\n",
              "        vertical-align: top;\n",
              "    }\n",
              "\n",
              "    .dataframe thead th {\n",
              "        text-align: right;\n",
              "    }\n",
              "</style>\n",
              "<table border=\"1\" class=\"dataframe\">\n",
              "  <thead>\n",
              "    <tr style=\"text-align: right;\">\n",
              "      <th></th>\n",
              "      <th>boot_size</th>\n",
              "      <th>harness_size</th>\n",
              "      <th>sex</th>\n",
              "      <th>age_years</th>\n",
              "    </tr>\n",
              "  </thead>\n",
              "  <tbody>\n",
              "    <tr>\n",
              "      <th>0</th>\n",
              "      <td>39</td>\n",
              "      <td>58</td>\n",
              "      <td>male</td>\n",
              "      <td>12.0</td>\n",
              "    </tr>\n",
              "    <tr>\n",
              "      <th>1</th>\n",
              "      <td>38</td>\n",
              "      <td>58</td>\n",
              "      <td>male</td>\n",
              "      <td>9.6</td>\n",
              "    </tr>\n",
              "    <tr>\n",
              "      <th>2</th>\n",
              "      <td>37</td>\n",
              "      <td>52</td>\n",
              "      <td>female</td>\n",
              "      <td>8.6</td>\n",
              "    </tr>\n",
              "    <tr>\n",
              "      <th>3</th>\n",
              "      <td>39</td>\n",
              "      <td>58</td>\n",
              "      <td>male</td>\n",
              "      <td>10.2</td>\n",
              "    </tr>\n",
              "    <tr>\n",
              "      <th>4</th>\n",
              "      <td>38</td>\n",
              "      <td>57</td>\n",
              "      <td>male</td>\n",
              "      <td>7.8</td>\n",
              "    </tr>\n",
              "    <tr>\n",
              "      <th>5</th>\n",
              "      <td>35</td>\n",
              "      <td>52</td>\n",
              "      <td>female</td>\n",
              "      <td>4.4</td>\n",
              "    </tr>\n",
              "    <tr>\n",
              "      <th>6</th>\n",
              "      <td>37</td>\n",
              "      <td>55</td>\n",
              "      <td>female</td>\n",
              "      <td>6.0</td>\n",
              "    </tr>\n",
              "    <tr>\n",
              "      <th>7</th>\n",
              "      <td>36</td>\n",
              "      <td>53</td>\n",
              "      <td>female</td>\n",
              "      <td>14.2</td>\n",
              "    </tr>\n",
              "    <tr>\n",
              "      <th>8</th>\n",
              "      <td>35</td>\n",
              "      <td>49</td>\n",
              "      <td>male</td>\n",
              "      <td>13.2</td>\n",
              "    </tr>\n",
              "    <tr>\n",
              "      <th>9</th>\n",
              "      <td>40</td>\n",
              "      <td>54</td>\n",
              "      <td>female</td>\n",
              "      <td>15.2</td>\n",
              "    </tr>\n",
              "    <tr>\n",
              "      <th>10</th>\n",
              "      <td>40</td>\n",
              "      <td>59</td>\n",
              "      <td>male</td>\n",
              "      <td>3.6</td>\n",
              "    </tr>\n",
              "    <tr>\n",
              "      <th>11</th>\n",
              "      <td>36</td>\n",
              "      <td>56</td>\n",
              "      <td>male</td>\n",
              "      <td>10.0</td>\n",
              "    </tr>\n",
              "    <tr>\n",
              "      <th>12</th>\n",
              "      <td>38</td>\n",
              "      <td>53</td>\n",
              "      <td>female</td>\n",
              "      <td>7.0</td>\n",
              "    </tr>\n",
              "    <tr>\n",
              "      <th>13</th>\n",
              "      <td>39</td>\n",
              "      <td>58</td>\n",
              "      <td>male</td>\n",
              "      <td>12.4</td>\n",
              "    </tr>\n",
              "    <tr>\n",
              "      <th>14</th>\n",
              "      <td>42</td>\n",
              "      <td>57</td>\n",
              "      <td>male</td>\n",
              "      <td>7.4</td>\n",
              "    </tr>\n",
              "    <tr>\n",
              "      <th>15</th>\n",
              "      <td>42</td>\n",
              "      <td>58</td>\n",
              "      <td>male</td>\n",
              "      <td>12.0</td>\n",
              "    </tr>\n",
              "    <tr>\n",
              "      <th>16</th>\n",
              "      <td>36</td>\n",
              "      <td>56</td>\n",
              "      <td>male</td>\n",
              "      <td>11.4</td>\n",
              "    </tr>\n",
              "    <tr>\n",
              "      <th>17</th>\n",
              "      <td>36</td>\n",
              "      <td>51</td>\n",
              "      <td>female</td>\n",
              "      <td>5.0</td>\n",
              "    </tr>\n",
              "    <tr>\n",
              "      <th>18</th>\n",
              "      <td>35</td>\n",
              "      <td>50</td>\n",
              "      <td>female</td>\n",
              "      <td>15.2</td>\n",
              "    </tr>\n",
              "    <tr>\n",
              "      <th>19</th>\n",
              "      <td>41</td>\n",
              "      <td>59</td>\n",
              "      <td>male</td>\n",
              "      <td>11.4</td>\n",
              "    </tr>\n",
              "    <tr>\n",
              "      <th>20</th>\n",
              "      <td>42</td>\n",
              "      <td>59</td>\n",
              "      <td>female</td>\n",
              "      <td>6.6</td>\n",
              "    </tr>\n",
              "    <tr>\n",
              "      <th>21</th>\n",
              "      <td>38</td>\n",
              "      <td>59</td>\n",
              "      <td>male</td>\n",
              "      <td>9.6</td>\n",
              "    </tr>\n",
              "    <tr>\n",
              "      <th>22</th>\n",
              "      <td>37</td>\n",
              "      <td>55</td>\n",
              "      <td>female</td>\n",
              "      <td>7.8</td>\n",
              "    </tr>\n",
              "    <tr>\n",
              "      <th>23</th>\n",
              "      <td>35</td>\n",
              "      <td>50</td>\n",
              "      <td>male</td>\n",
              "      <td>6.4</td>\n",
              "    </tr>\n",
              "    <tr>\n",
              "      <th>24</th>\n",
              "      <td>40</td>\n",
              "      <td>55</td>\n",
              "      <td>female</td>\n",
              "      <td>8.8</td>\n",
              "    </tr>\n",
              "    <tr>\n",
              "      <th>25</th>\n",
              "      <td>36</td>\n",
              "      <td>52</td>\n",
              "      <td>female</td>\n",
              "      <td>13.2</td>\n",
              "    </tr>\n",
              "    <tr>\n",
              "      <th>26</th>\n",
              "      <td>35</td>\n",
              "      <td>53</td>\n",
              "      <td>female</td>\n",
              "      <td>13.2</td>\n",
              "    </tr>\n",
              "    <tr>\n",
              "      <th>27</th>\n",
              "      <td>39</td>\n",
              "      <td>54</td>\n",
              "      <td>female</td>\n",
              "      <td>6.8</td>\n",
              "    </tr>\n",
              "    <tr>\n",
              "      <th>28</th>\n",
              "      <td>41</td>\n",
              "      <td>61</td>\n",
              "      <td>male</td>\n",
              "      <td>10.8</td>\n",
              "    </tr>\n",
              "    <tr>\n",
              "      <th>29</th>\n",
              "      <td>37</td>\n",
              "      <td>56</td>\n",
              "      <td>male</td>\n",
              "      <td>6.2</td>\n",
              "    </tr>\n",
              "    <tr>\n",
              "      <th>30</th>\n",
              "      <td>35</td>\n",
              "      <td>55</td>\n",
              "      <td>female</td>\n",
              "      <td>11.8</td>\n",
              "    </tr>\n",
              "    <tr>\n",
              "      <th>31</th>\n",
              "      <td>41</td>\n",
              "      <td>60</td>\n",
              "      <td>male</td>\n",
              "      <td>4.2</td>\n",
              "    </tr>\n",
              "    <tr>\n",
              "      <th>32</th>\n",
              "      <td>39</td>\n",
              "      <td>57</td>\n",
              "      <td>female</td>\n",
              "      <td>3.6</td>\n",
              "    </tr>\n",
              "    <tr>\n",
              "      <th>33</th>\n",
              "      <td>41</td>\n",
              "      <td>56</td>\n",
              "      <td>male</td>\n",
              "      <td>5.2</td>\n",
              "    </tr>\n",
              "    <tr>\n",
              "      <th>34</th>\n",
              "      <td>42</td>\n",
              "      <td>61</td>\n",
              "      <td>male</td>\n",
              "      <td>5.8</td>\n",
              "    </tr>\n",
              "    <tr>\n",
              "      <th>35</th>\n",
              "      <td>42</td>\n",
              "      <td>58</td>\n",
              "      <td>male</td>\n",
              "      <td>6.6</td>\n",
              "    </tr>\n",
              "    <tr>\n",
              "      <th>36</th>\n",
              "      <td>36</td>\n",
              "      <td>53</td>\n",
              "      <td>female</td>\n",
              "      <td>4.6</td>\n",
              "    </tr>\n",
              "    <tr>\n",
              "      <th>37</th>\n",
              "      <td>37</td>\n",
              "      <td>57</td>\n",
              "      <td>male</td>\n",
              "      <td>14.0</td>\n",
              "    </tr>\n",
              "    <tr>\n",
              "      <th>38</th>\n",
              "      <td>37</td>\n",
              "      <td>57</td>\n",
              "      <td>male</td>\n",
              "      <td>10.2</td>\n",
              "    </tr>\n",
              "    <tr>\n",
              "      <th>39</th>\n",
              "      <td>39</td>\n",
              "      <td>55</td>\n",
              "      <td>female</td>\n",
              "      <td>8.4</td>\n",
              "    </tr>\n",
              "    <tr>\n",
              "      <th>40</th>\n",
              "      <td>42</td>\n",
              "      <td>60</td>\n",
              "      <td>male</td>\n",
              "      <td>12.4</td>\n",
              "    </tr>\n",
              "    <tr>\n",
              "      <th>41</th>\n",
              "      <td>35</td>\n",
              "      <td>51</td>\n",
              "      <td>female</td>\n",
              "      <td>3.8</td>\n",
              "    </tr>\n",
              "    <tr>\n",
              "      <th>42</th>\n",
              "      <td>36</td>\n",
              "      <td>52</td>\n",
              "      <td>female</td>\n",
              "      <td>4.2</td>\n",
              "    </tr>\n",
              "    <tr>\n",
              "      <th>43</th>\n",
              "      <td>41</td>\n",
              "      <td>56</td>\n",
              "      <td>male</td>\n",
              "      <td>11.0</td>\n",
              "    </tr>\n",
              "    <tr>\n",
              "      <th>44</th>\n",
              "      <td>41</td>\n",
              "      <td>55</td>\n",
              "      <td>female</td>\n",
              "      <td>13.6</td>\n",
              "    </tr>\n",
              "    <tr>\n",
              "      <th>45</th>\n",
              "      <td>41</td>\n",
              "      <td>57</td>\n",
              "      <td>female</td>\n",
              "      <td>12.6</td>\n",
              "    </tr>\n",
              "    <tr>\n",
              "      <th>46</th>\n",
              "      <td>39</td>\n",
              "      <td>58</td>\n",
              "      <td>male</td>\n",
              "      <td>14.6</td>\n",
              "    </tr>\n",
              "    <tr>\n",
              "      <th>47</th>\n",
              "      <td>39</td>\n",
              "      <td>57</td>\n",
              "      <td>male</td>\n",
              "      <td>15.0</td>\n",
              "    </tr>\n",
              "    <tr>\n",
              "      <th>48</th>\n",
              "      <td>35</td>\n",
              "      <td>51</td>\n",
              "      <td>female</td>\n",
              "      <td>14.2</td>\n",
              "    </tr>\n",
              "    <tr>\n",
              "      <th>49</th>\n",
              "      <td>39</td>\n",
              "      <td>59</td>\n",
              "      <td>male</td>\n",
              "      <td>9.4</td>\n",
              "    </tr>\n",
              "  </tbody>\n",
              "</table>\n",
              "</div>\n",
              "      <button class=\"colab-df-convert\" onclick=\"convertToInteractive('df-bd2d04e3-2666-4b8e-845e-480048e755e0')\"\n",
              "              title=\"Convert this dataframe to an interactive table.\"\n",
              "              style=\"display:none;\">\n",
              "        \n",
              "  <svg xmlns=\"http://www.w3.org/2000/svg\" height=\"24px\"viewBox=\"0 0 24 24\"\n",
              "       width=\"24px\">\n",
              "    <path d=\"M0 0h24v24H0V0z\" fill=\"none\"/>\n",
              "    <path d=\"M18.56 5.44l.94 2.06.94-2.06 2.06-.94-2.06-.94-.94-2.06-.94 2.06-2.06.94zm-11 1L8.5 8.5l.94-2.06 2.06-.94-2.06-.94L8.5 2.5l-.94 2.06-2.06.94zm10 10l.94 2.06.94-2.06 2.06-.94-2.06-.94-.94-2.06-.94 2.06-2.06.94z\"/><path d=\"M17.41 7.96l-1.37-1.37c-.4-.4-.92-.59-1.43-.59-.52 0-1.04.2-1.43.59L10.3 9.45l-7.72 7.72c-.78.78-.78 2.05 0 2.83L4 21.41c.39.39.9.59 1.41.59.51 0 1.02-.2 1.41-.59l7.78-7.78 2.81-2.81c.8-.78.8-2.07 0-2.86zM5.41 20L4 18.59l7.72-7.72 1.47 1.35L5.41 20z\"/>\n",
              "  </svg>\n",
              "      </button>\n",
              "      \n",
              "  <style>\n",
              "    .colab-df-container {\n",
              "      display:flex;\n",
              "      flex-wrap:wrap;\n",
              "      gap: 12px;\n",
              "    }\n",
              "\n",
              "    .colab-df-convert {\n",
              "      background-color: #E8F0FE;\n",
              "      border: none;\n",
              "      border-radius: 50%;\n",
              "      cursor: pointer;\n",
              "      display: none;\n",
              "      fill: #1967D2;\n",
              "      height: 32px;\n",
              "      padding: 0 0 0 0;\n",
              "      width: 32px;\n",
              "    }\n",
              "\n",
              "    .colab-df-convert:hover {\n",
              "      background-color: #E2EBFA;\n",
              "      box-shadow: 0px 1px 2px rgba(60, 64, 67, 0.3), 0px 1px 3px 1px rgba(60, 64, 67, 0.15);\n",
              "      fill: #174EA6;\n",
              "    }\n",
              "\n",
              "    [theme=dark] .colab-df-convert {\n",
              "      background-color: #3B4455;\n",
              "      fill: #D2E3FC;\n",
              "    }\n",
              "\n",
              "    [theme=dark] .colab-df-convert:hover {\n",
              "      background-color: #434B5C;\n",
              "      box-shadow: 0px 1px 3px 1px rgba(0, 0, 0, 0.15);\n",
              "      filter: drop-shadow(0px 1px 2px rgba(0, 0, 0, 0.3));\n",
              "      fill: #FFFFFF;\n",
              "    }\n",
              "  </style>\n",
              "\n",
              "      <script>\n",
              "        const buttonEl =\n",
              "          document.querySelector('#df-bd2d04e3-2666-4b8e-845e-480048e755e0 button.colab-df-convert');\n",
              "        buttonEl.style.display =\n",
              "          google.colab.kernel.accessAllowed ? 'block' : 'none';\n",
              "\n",
              "        async function convertToInteractive(key) {\n",
              "          const element = document.querySelector('#df-bd2d04e3-2666-4b8e-845e-480048e755e0');\n",
              "          const dataTable =\n",
              "            await google.colab.kernel.invokeFunction('convertToInteractive',\n",
              "                                                     [key], {});\n",
              "          if (!dataTable) return;\n",
              "\n",
              "          const docLinkHtml = 'Like what you see? Visit the ' +\n",
              "            '<a target=\"_blank\" href=https://colab.research.google.com/notebooks/data_table.ipynb>data table notebook</a>'\n",
              "            + ' to learn more about interactive tables.';\n",
              "          element.innerHTML = '';\n",
              "          dataTable['output_type'] = 'display_data';\n",
              "          await google.colab.output.renderOutput(dataTable, element);\n",
              "          const docLink = document.createElement('div');\n",
              "          docLink.innerHTML = docLinkHtml;\n",
              "          element.appendChild(docLink);\n",
              "        }\n",
              "      </script>\n",
              "    </div>\n",
              "  </div>\n",
              "  "
            ]
          },
          "metadata": {},
          "execution_count": 6
        }
      ]
    },
    {
      "cell_type": "code",
      "source": [
        "print(dataset.harness_size)"
      ],
      "metadata": {
        "colab": {
          "base_uri": "https://localhost:8080/"
        },
        "id": "Em_E4tvyKlLy",
        "outputId": "7e309002-ebe2-44d2-d7d1-5e0bd1476f8f"
      },
      "execution_count": null,
      "outputs": [
        {
          "output_type": "stream",
          "name": "stdout",
          "text": [
            "0     58\n",
            "1     58\n",
            "2     52\n",
            "3     58\n",
            "4     57\n",
            "5     52\n",
            "6     55\n",
            "7     53\n",
            "8     49\n",
            "9     54\n",
            "10    59\n",
            "11    56\n",
            "12    53\n",
            "13    58\n",
            "14    57\n",
            "15    58\n",
            "16    56\n",
            "17    51\n",
            "18    50\n",
            "19    59\n",
            "20    59\n",
            "21    59\n",
            "22    55\n",
            "23    50\n",
            "24    55\n",
            "25    52\n",
            "26    53\n",
            "27    54\n",
            "28    61\n",
            "29    56\n",
            "30    55\n",
            "31    60\n",
            "32    57\n",
            "33    56\n",
            "34    61\n",
            "35    58\n",
            "36    53\n",
            "37    57\n",
            "38    57\n",
            "39    55\n",
            "40    60\n",
            "41    51\n",
            "42    52\n",
            "43    56\n",
            "44    55\n",
            "45    57\n",
            "46    58\n",
            "47    57\n",
            "48    51\n",
            "49    59\n",
            "Name: harness_size, dtype: int64\n"
          ]
        }
      ]
    },
    {
      "cell_type": "code",
      "source": [
        "del dataset[\"sex\"]\n",
        "del dataset[\"age_years\"]"
      ],
      "metadata": {
        "id": "NW_TZYgkKq05"
      },
      "execution_count": null,
      "outputs": []
    },
    {
      "cell_type": "code",
      "source": [
        "print(dataset.columns.values)"
      ],
      "metadata": {
        "colab": {
          "base_uri": "https://localhost:8080/"
        },
        "id": "QLma1lwgKx00",
        "outputId": "7e2e1e63-0142-4142-ca17-698da524179a"
      },
      "execution_count": null,
      "outputs": [
        {
          "output_type": "stream",
          "name": "stdout",
          "text": [
            "['boot_size' 'harness_size']\n"
          ]
        }
      ]
    },
    {
      "cell_type": "code",
      "source": [
        "(dataset)"
      ],
      "metadata": {
        "colab": {
          "base_uri": "https://localhost:8080/",
          "height": 1000
        },
        "id": "tkk9qJRdK2NB",
        "outputId": "982142f5-2722-49c5-f7e1-ae8f7d0fbeb6"
      },
      "execution_count": null,
      "outputs": [
        {
          "output_type": "execute_result",
          "data": {
            "text/plain": [
              "    boot_size  harness_size\n",
              "0          39            58\n",
              "1          38            58\n",
              "2          37            52\n",
              "3          39            58\n",
              "4          38            57\n",
              "5          35            52\n",
              "6          37            55\n",
              "7          36            53\n",
              "8          35            49\n",
              "9          40            54\n",
              "10         40            59\n",
              "11         36            56\n",
              "12         38            53\n",
              "13         39            58\n",
              "14         42            57\n",
              "15         42            58\n",
              "16         36            56\n",
              "17         36            51\n",
              "18         35            50\n",
              "19         41            59\n",
              "20         42            59\n",
              "21         38            59\n",
              "22         37            55\n",
              "23         35            50\n",
              "24         40            55\n",
              "25         36            52\n",
              "26         35            53\n",
              "27         39            54\n",
              "28         41            61\n",
              "29         37            56\n",
              "30         35            55\n",
              "31         41            60\n",
              "32         39            57\n",
              "33         41            56\n",
              "34         42            61\n",
              "35         42            58\n",
              "36         36            53\n",
              "37         37            57\n",
              "38         37            57\n",
              "39         39            55\n",
              "40         42            60\n",
              "41         35            51\n",
              "42         36            52\n",
              "43         41            56\n",
              "44         41            55\n",
              "45         41            57\n",
              "46         39            58\n",
              "47         39            57\n",
              "48         35            51\n",
              "49         39            59"
            ],
            "text/html": [
              "\n",
              "  <div id=\"df-45fffa10-1161-4eb5-bd1f-b5c7963d1e09\">\n",
              "    <div class=\"colab-df-container\">\n",
              "      <div>\n",
              "<style scoped>\n",
              "    .dataframe tbody tr th:only-of-type {\n",
              "        vertical-align: middle;\n",
              "    }\n",
              "\n",
              "    .dataframe tbody tr th {\n",
              "        vertical-align: top;\n",
              "    }\n",
              "\n",
              "    .dataframe thead th {\n",
              "        text-align: right;\n",
              "    }\n",
              "</style>\n",
              "<table border=\"1\" class=\"dataframe\">\n",
              "  <thead>\n",
              "    <tr style=\"text-align: right;\">\n",
              "      <th></th>\n",
              "      <th>boot_size</th>\n",
              "      <th>harness_size</th>\n",
              "    </tr>\n",
              "  </thead>\n",
              "  <tbody>\n",
              "    <tr>\n",
              "      <th>0</th>\n",
              "      <td>39</td>\n",
              "      <td>58</td>\n",
              "    </tr>\n",
              "    <tr>\n",
              "      <th>1</th>\n",
              "      <td>38</td>\n",
              "      <td>58</td>\n",
              "    </tr>\n",
              "    <tr>\n",
              "      <th>2</th>\n",
              "      <td>37</td>\n",
              "      <td>52</td>\n",
              "    </tr>\n",
              "    <tr>\n",
              "      <th>3</th>\n",
              "      <td>39</td>\n",
              "      <td>58</td>\n",
              "    </tr>\n",
              "    <tr>\n",
              "      <th>4</th>\n",
              "      <td>38</td>\n",
              "      <td>57</td>\n",
              "    </tr>\n",
              "    <tr>\n",
              "      <th>5</th>\n",
              "      <td>35</td>\n",
              "      <td>52</td>\n",
              "    </tr>\n",
              "    <tr>\n",
              "      <th>6</th>\n",
              "      <td>37</td>\n",
              "      <td>55</td>\n",
              "    </tr>\n",
              "    <tr>\n",
              "      <th>7</th>\n",
              "      <td>36</td>\n",
              "      <td>53</td>\n",
              "    </tr>\n",
              "    <tr>\n",
              "      <th>8</th>\n",
              "      <td>35</td>\n",
              "      <td>49</td>\n",
              "    </tr>\n",
              "    <tr>\n",
              "      <th>9</th>\n",
              "      <td>40</td>\n",
              "      <td>54</td>\n",
              "    </tr>\n",
              "    <tr>\n",
              "      <th>10</th>\n",
              "      <td>40</td>\n",
              "      <td>59</td>\n",
              "    </tr>\n",
              "    <tr>\n",
              "      <th>11</th>\n",
              "      <td>36</td>\n",
              "      <td>56</td>\n",
              "    </tr>\n",
              "    <tr>\n",
              "      <th>12</th>\n",
              "      <td>38</td>\n",
              "      <td>53</td>\n",
              "    </tr>\n",
              "    <tr>\n",
              "      <th>13</th>\n",
              "      <td>39</td>\n",
              "      <td>58</td>\n",
              "    </tr>\n",
              "    <tr>\n",
              "      <th>14</th>\n",
              "      <td>42</td>\n",
              "      <td>57</td>\n",
              "    </tr>\n",
              "    <tr>\n",
              "      <th>15</th>\n",
              "      <td>42</td>\n",
              "      <td>58</td>\n",
              "    </tr>\n",
              "    <tr>\n",
              "      <th>16</th>\n",
              "      <td>36</td>\n",
              "      <td>56</td>\n",
              "    </tr>\n",
              "    <tr>\n",
              "      <th>17</th>\n",
              "      <td>36</td>\n",
              "      <td>51</td>\n",
              "    </tr>\n",
              "    <tr>\n",
              "      <th>18</th>\n",
              "      <td>35</td>\n",
              "      <td>50</td>\n",
              "    </tr>\n",
              "    <tr>\n",
              "      <th>19</th>\n",
              "      <td>41</td>\n",
              "      <td>59</td>\n",
              "    </tr>\n",
              "    <tr>\n",
              "      <th>20</th>\n",
              "      <td>42</td>\n",
              "      <td>59</td>\n",
              "    </tr>\n",
              "    <tr>\n",
              "      <th>21</th>\n",
              "      <td>38</td>\n",
              "      <td>59</td>\n",
              "    </tr>\n",
              "    <tr>\n",
              "      <th>22</th>\n",
              "      <td>37</td>\n",
              "      <td>55</td>\n",
              "    </tr>\n",
              "    <tr>\n",
              "      <th>23</th>\n",
              "      <td>35</td>\n",
              "      <td>50</td>\n",
              "    </tr>\n",
              "    <tr>\n",
              "      <th>24</th>\n",
              "      <td>40</td>\n",
              "      <td>55</td>\n",
              "    </tr>\n",
              "    <tr>\n",
              "      <th>25</th>\n",
              "      <td>36</td>\n",
              "      <td>52</td>\n",
              "    </tr>\n",
              "    <tr>\n",
              "      <th>26</th>\n",
              "      <td>35</td>\n",
              "      <td>53</td>\n",
              "    </tr>\n",
              "    <tr>\n",
              "      <th>27</th>\n",
              "      <td>39</td>\n",
              "      <td>54</td>\n",
              "    </tr>\n",
              "    <tr>\n",
              "      <th>28</th>\n",
              "      <td>41</td>\n",
              "      <td>61</td>\n",
              "    </tr>\n",
              "    <tr>\n",
              "      <th>29</th>\n",
              "      <td>37</td>\n",
              "      <td>56</td>\n",
              "    </tr>\n",
              "    <tr>\n",
              "      <th>30</th>\n",
              "      <td>35</td>\n",
              "      <td>55</td>\n",
              "    </tr>\n",
              "    <tr>\n",
              "      <th>31</th>\n",
              "      <td>41</td>\n",
              "      <td>60</td>\n",
              "    </tr>\n",
              "    <tr>\n",
              "      <th>32</th>\n",
              "      <td>39</td>\n",
              "      <td>57</td>\n",
              "    </tr>\n",
              "    <tr>\n",
              "      <th>33</th>\n",
              "      <td>41</td>\n",
              "      <td>56</td>\n",
              "    </tr>\n",
              "    <tr>\n",
              "      <th>34</th>\n",
              "      <td>42</td>\n",
              "      <td>61</td>\n",
              "    </tr>\n",
              "    <tr>\n",
              "      <th>35</th>\n",
              "      <td>42</td>\n",
              "      <td>58</td>\n",
              "    </tr>\n",
              "    <tr>\n",
              "      <th>36</th>\n",
              "      <td>36</td>\n",
              "      <td>53</td>\n",
              "    </tr>\n",
              "    <tr>\n",
              "      <th>37</th>\n",
              "      <td>37</td>\n",
              "      <td>57</td>\n",
              "    </tr>\n",
              "    <tr>\n",
              "      <th>38</th>\n",
              "      <td>37</td>\n",
              "      <td>57</td>\n",
              "    </tr>\n",
              "    <tr>\n",
              "      <th>39</th>\n",
              "      <td>39</td>\n",
              "      <td>55</td>\n",
              "    </tr>\n",
              "    <tr>\n",
              "      <th>40</th>\n",
              "      <td>42</td>\n",
              "      <td>60</td>\n",
              "    </tr>\n",
              "    <tr>\n",
              "      <th>41</th>\n",
              "      <td>35</td>\n",
              "      <td>51</td>\n",
              "    </tr>\n",
              "    <tr>\n",
              "      <th>42</th>\n",
              "      <td>36</td>\n",
              "      <td>52</td>\n",
              "    </tr>\n",
              "    <tr>\n",
              "      <th>43</th>\n",
              "      <td>41</td>\n",
              "      <td>56</td>\n",
              "    </tr>\n",
              "    <tr>\n",
              "      <th>44</th>\n",
              "      <td>41</td>\n",
              "      <td>55</td>\n",
              "    </tr>\n",
              "    <tr>\n",
              "      <th>45</th>\n",
              "      <td>41</td>\n",
              "      <td>57</td>\n",
              "    </tr>\n",
              "    <tr>\n",
              "      <th>46</th>\n",
              "      <td>39</td>\n",
              "      <td>58</td>\n",
              "    </tr>\n",
              "    <tr>\n",
              "      <th>47</th>\n",
              "      <td>39</td>\n",
              "      <td>57</td>\n",
              "    </tr>\n",
              "    <tr>\n",
              "      <th>48</th>\n",
              "      <td>35</td>\n",
              "      <td>51</td>\n",
              "    </tr>\n",
              "    <tr>\n",
              "      <th>49</th>\n",
              "      <td>39</td>\n",
              "      <td>59</td>\n",
              "    </tr>\n",
              "  </tbody>\n",
              "</table>\n",
              "</div>\n",
              "      <button class=\"colab-df-convert\" onclick=\"convertToInteractive('df-45fffa10-1161-4eb5-bd1f-b5c7963d1e09')\"\n",
              "              title=\"Convert this dataframe to an interactive table.\"\n",
              "              style=\"display:none;\">\n",
              "        \n",
              "  <svg xmlns=\"http://www.w3.org/2000/svg\" height=\"24px\"viewBox=\"0 0 24 24\"\n",
              "       width=\"24px\">\n",
              "    <path d=\"M0 0h24v24H0V0z\" fill=\"none\"/>\n",
              "    <path d=\"M18.56 5.44l.94 2.06.94-2.06 2.06-.94-2.06-.94-.94-2.06-.94 2.06-2.06.94zm-11 1L8.5 8.5l.94-2.06 2.06-.94-2.06-.94L8.5 2.5l-.94 2.06-2.06.94zm10 10l.94 2.06.94-2.06 2.06-.94-2.06-.94-.94-2.06-.94 2.06-2.06.94z\"/><path d=\"M17.41 7.96l-1.37-1.37c-.4-.4-.92-.59-1.43-.59-.52 0-1.04.2-1.43.59L10.3 9.45l-7.72 7.72c-.78.78-.78 2.05 0 2.83L4 21.41c.39.39.9.59 1.41.59.51 0 1.02-.2 1.41-.59l7.78-7.78 2.81-2.81c.8-.78.8-2.07 0-2.86zM5.41 20L4 18.59l7.72-7.72 1.47 1.35L5.41 20z\"/>\n",
              "  </svg>\n",
              "      </button>\n",
              "      \n",
              "  <style>\n",
              "    .colab-df-container {\n",
              "      display:flex;\n",
              "      flex-wrap:wrap;\n",
              "      gap: 12px;\n",
              "    }\n",
              "\n",
              "    .colab-df-convert {\n",
              "      background-color: #E8F0FE;\n",
              "      border: none;\n",
              "      border-radius: 50%;\n",
              "      cursor: pointer;\n",
              "      display: none;\n",
              "      fill: #1967D2;\n",
              "      height: 32px;\n",
              "      padding: 0 0 0 0;\n",
              "      width: 32px;\n",
              "    }\n",
              "\n",
              "    .colab-df-convert:hover {\n",
              "      background-color: #E2EBFA;\n",
              "      box-shadow: 0px 1px 2px rgba(60, 64, 67, 0.3), 0px 1px 3px 1px rgba(60, 64, 67, 0.15);\n",
              "      fill: #174EA6;\n",
              "    }\n",
              "\n",
              "    [theme=dark] .colab-df-convert {\n",
              "      background-color: #3B4455;\n",
              "      fill: #D2E3FC;\n",
              "    }\n",
              "\n",
              "    [theme=dark] .colab-df-convert:hover {\n",
              "      background-color: #434B5C;\n",
              "      box-shadow: 0px 1px 3px 1px rgba(0, 0, 0, 0.15);\n",
              "      filter: drop-shadow(0px 1px 2px rgba(0, 0, 0, 0.3));\n",
              "      fill: #FFFFFF;\n",
              "    }\n",
              "  </style>\n",
              "\n",
              "      <script>\n",
              "        const buttonEl =\n",
              "          document.querySelector('#df-45fffa10-1161-4eb5-bd1f-b5c7963d1e09 button.colab-df-convert');\n",
              "        buttonEl.style.display =\n",
              "          google.colab.kernel.accessAllowed ? 'block' : 'none';\n",
              "\n",
              "        async function convertToInteractive(key) {\n",
              "          const element = document.querySelector('#df-45fffa10-1161-4eb5-bd1f-b5c7963d1e09');\n",
              "          const dataTable =\n",
              "            await google.colab.kernel.invokeFunction('convertToInteractive',\n",
              "                                                     [key], {});\n",
              "          if (!dataTable) return;\n",
              "\n",
              "          const docLinkHtml = 'Like what you see? Visit the ' +\n",
              "            '<a target=\"_blank\" href=https://colab.research.google.com/notebooks/data_table.ipynb>data table notebook</a>'\n",
              "            + ' to learn more about interactive tables.';\n",
              "          element.innerHTML = '';\n",
              "          dataTable['output_type'] = 'display_data';\n",
              "          await google.colab.output.renderOutput(dataTable, element);\n",
              "          const docLink = document.createElement('div');\n",
              "          docLink.innerHTML = docLinkHtml;\n",
              "          element.appendChild(docLink);\n",
              "        }\n",
              "      </script>\n",
              "    </div>\n",
              "  </div>\n",
              "  "
            ]
          },
          "metadata": {},
          "execution_count": 10
        }
      ]
    },
    {
      "cell_type": "code",
      "source": [
        "print(dataset.head())"
      ],
      "metadata": {
        "colab": {
          "base_uri": "https://localhost:8080/"
        },
        "id": "1f4shlmmLAMe",
        "outputId": "d2a0095e-64e8-42ab-c8b8-71bb87164946"
      },
      "execution_count": null,
      "outputs": [
        {
          "output_type": "stream",
          "name": "stdout",
          "text": [
            "   boot_size  harness_size\n",
            "0         39            58\n",
            "1         38            58\n",
            "2         37            52\n",
            "3         39            58\n",
            "4         38            57\n"
          ]
        }
      ]
    },
    {
      "cell_type": "code",
      "source": [
        "\n",
        "print(dataset.tail())"
      ],
      "metadata": {
        "colab": {
          "base_uri": "https://localhost:8080/"
        },
        "id": "b7XIkfMMLDVJ",
        "outputId": "21624cbf-722e-4c0f-e162-6b38d5daf782"
      },
      "execution_count": null,
      "outputs": [
        {
          "output_type": "stream",
          "name": "stdout",
          "text": [
            "    boot_size  harness_size\n",
            "45         41            57\n",
            "46         39            58\n",
            "47         39            57\n",
            "48         35            51\n",
            "49         39            59\n"
          ]
        }
      ]
    },
    {
      "cell_type": "code",
      "source": [
        "print(f\"We have {len(dataset)} rows of data\")"
      ],
      "metadata": {
        "colab": {
          "base_uri": "https://localhost:8080/"
        },
        "id": "AQ_aq908L3qm",
        "outputId": "2e06cfe6-f513-48e6-9559-07ab7ea8544b"
      },
      "execution_count": null,
      "outputs": [
        {
          "output_type": "stream",
          "name": "stdout",
          "text": [
            "We have 50 rows of data\n"
          ]
        }
      ]
    },
    {
      "cell_type": "code",
      "source": [
        "is_small = dataset.harness_size < 55"
      ],
      "metadata": {
        "id": "Fe9uwpNaL8hi"
      },
      "execution_count": null,
      "outputs": []
    },
    {
      "cell_type": "code",
      "source": [
        "print(is_small)"
      ],
      "metadata": {
        "colab": {
          "base_uri": "https://localhost:8080/"
        },
        "id": "RaPM0-pMMBKf",
        "outputId": "af8500f8-b1bb-4acb-98ff-574b6422814a"
      },
      "execution_count": null,
      "outputs": [
        {
          "output_type": "stream",
          "name": "stdout",
          "text": [
            "0     False\n",
            "1     False\n",
            "2      True\n",
            "3     False\n",
            "4     False\n",
            "5      True\n",
            "6     False\n",
            "7      True\n",
            "8      True\n",
            "9      True\n",
            "10    False\n",
            "11    False\n",
            "12     True\n",
            "13    False\n",
            "14    False\n",
            "15    False\n",
            "16    False\n",
            "17     True\n",
            "18     True\n",
            "19    False\n",
            "20    False\n",
            "21    False\n",
            "22    False\n",
            "23     True\n",
            "24    False\n",
            "25     True\n",
            "26     True\n",
            "27     True\n",
            "28    False\n",
            "29    False\n",
            "30    False\n",
            "31    False\n",
            "32    False\n",
            "33    False\n",
            "34    False\n",
            "35    False\n",
            "36     True\n",
            "37    False\n",
            "38    False\n",
            "39    False\n",
            "40    False\n",
            "41     True\n",
            "42     True\n",
            "43    False\n",
            "44    False\n",
            "45    False\n",
            "46    False\n",
            "47    False\n",
            "48     True\n",
            "49    False\n",
            "Name: harness_size, dtype: bool\n"
          ]
        }
      ]
    },
    {
      "cell_type": "code",
      "source": [
        "data_from_small_dogs = dataset[is_small]"
      ],
      "metadata": {
        "id": "fyYMwJZwMQWO"
      },
      "execution_count": null,
      "outputs": []
    },
    {
      "cell_type": "code",
      "source": [
        "print(data_from_small_dogs)"
      ],
      "metadata": {
        "colab": {
          "base_uri": "https://localhost:8080/"
        },
        "id": "AM8iP-TKMUpv",
        "outputId": "fb042f9e-a127-49ac-c440-cc7d3691674d"
      },
      "execution_count": null,
      "outputs": [
        {
          "output_type": "stream",
          "name": "stdout",
          "text": [
            "    boot_size  harness_size\n",
            "2          37            52\n",
            "5          35            52\n",
            "7          36            53\n",
            "8          35            49\n",
            "9          40            54\n",
            "12         38            53\n",
            "17         36            51\n",
            "18         35            50\n",
            "23         35            50\n",
            "25         36            52\n",
            "26         35            53\n",
            "27         39            54\n",
            "36         36            53\n",
            "41         35            51\n",
            "42         36            52\n",
            "48         35            51\n"
          ]
        }
      ]
    },
    {
      "cell_type": "code",
      "source": [
        "print(f\"\\nNumber of dogs with harness size less than 55: {len(data_from_small_dogs)}\")"
      ],
      "metadata": {
        "colab": {
          "base_uri": "https://localhost:8080/"
        },
        "id": "RuzZAuW-MdjE",
        "outputId": "209182be-ba8f-4fc2-916c-b6b91d8fb14f"
      },
      "execution_count": null,
      "outputs": [
        {
          "output_type": "stream",
          "name": "stdout",
          "text": [
            "\n",
            "Number of dogs with harness size less than 55: 16\n"
          ]
        }
      ]
    },
    {
      "cell_type": "code",
      "source": [
        "data_smaller_paws = dataset[dataset.boot_size < 40].copy()"
      ],
      "metadata": {
        "id": "xnKnLqusMwLP"
      },
      "execution_count": null,
      "outputs": []
    },
    {
      "cell_type": "code",
      "source": [
        "print(f\"We now have {len(data_smaller_paws)} rows in our dataset. The last few rows are:\")\n",
        "data_smaller_paws.tail()"
      ],
      "metadata": {
        "colab": {
          "base_uri": "https://localhost:8080/",
          "height": 224
        },
        "id": "gpDnPwBcMzCc",
        "outputId": "23b5cd3f-ae07-48fe-8bf6-e978b8934bcf"
      },
      "execution_count": null,
      "outputs": [
        {
          "output_type": "stream",
          "name": "stdout",
          "text": [
            "We now have 34 rows in our dataset. The last few rows are:\n"
          ]
        },
        {
          "output_type": "execute_result",
          "data": {
            "text/plain": [
              "    boot_size  harness_size\n",
              "42         36            52\n",
              "46         39            58\n",
              "47         39            57\n",
              "48         35            51\n",
              "49         39            59"
            ],
            "text/html": [
              "\n",
              "  <div id=\"df-048002c6-96df-4f9a-8e15-657f44114f9b\">\n",
              "    <div class=\"colab-df-container\">\n",
              "      <div>\n",
              "<style scoped>\n",
              "    .dataframe tbody tr th:only-of-type {\n",
              "        vertical-align: middle;\n",
              "    }\n",
              "\n",
              "    .dataframe tbody tr th {\n",
              "        vertical-align: top;\n",
              "    }\n",
              "\n",
              "    .dataframe thead th {\n",
              "        text-align: right;\n",
              "    }\n",
              "</style>\n",
              "<table border=\"1\" class=\"dataframe\">\n",
              "  <thead>\n",
              "    <tr style=\"text-align: right;\">\n",
              "      <th></th>\n",
              "      <th>boot_size</th>\n",
              "      <th>harness_size</th>\n",
              "    </tr>\n",
              "  </thead>\n",
              "  <tbody>\n",
              "    <tr>\n",
              "      <th>42</th>\n",
              "      <td>36</td>\n",
              "      <td>52</td>\n",
              "    </tr>\n",
              "    <tr>\n",
              "      <th>46</th>\n",
              "      <td>39</td>\n",
              "      <td>58</td>\n",
              "    </tr>\n",
              "    <tr>\n",
              "      <th>47</th>\n",
              "      <td>39</td>\n",
              "      <td>57</td>\n",
              "    </tr>\n",
              "    <tr>\n",
              "      <th>48</th>\n",
              "      <td>35</td>\n",
              "      <td>51</td>\n",
              "    </tr>\n",
              "    <tr>\n",
              "      <th>49</th>\n",
              "      <td>39</td>\n",
              "      <td>59</td>\n",
              "    </tr>\n",
              "  </tbody>\n",
              "</table>\n",
              "</div>\n",
              "      <button class=\"colab-df-convert\" onclick=\"convertToInteractive('df-048002c6-96df-4f9a-8e15-657f44114f9b')\"\n",
              "              title=\"Convert this dataframe to an interactive table.\"\n",
              "              style=\"display:none;\">\n",
              "        \n",
              "  <svg xmlns=\"http://www.w3.org/2000/svg\" height=\"24px\"viewBox=\"0 0 24 24\"\n",
              "       width=\"24px\">\n",
              "    <path d=\"M0 0h24v24H0V0z\" fill=\"none\"/>\n",
              "    <path d=\"M18.56 5.44l.94 2.06.94-2.06 2.06-.94-2.06-.94-.94-2.06-.94 2.06-2.06.94zm-11 1L8.5 8.5l.94-2.06 2.06-.94-2.06-.94L8.5 2.5l-.94 2.06-2.06.94zm10 10l.94 2.06.94-2.06 2.06-.94-2.06-.94-.94-2.06-.94 2.06-2.06.94z\"/><path d=\"M17.41 7.96l-1.37-1.37c-.4-.4-.92-.59-1.43-.59-.52 0-1.04.2-1.43.59L10.3 9.45l-7.72 7.72c-.78.78-.78 2.05 0 2.83L4 21.41c.39.39.9.59 1.41.59.51 0 1.02-.2 1.41-.59l7.78-7.78 2.81-2.81c.8-.78.8-2.07 0-2.86zM5.41 20L4 18.59l7.72-7.72 1.47 1.35L5.41 20z\"/>\n",
              "  </svg>\n",
              "      </button>\n",
              "      \n",
              "  <style>\n",
              "    .colab-df-container {\n",
              "      display:flex;\n",
              "      flex-wrap:wrap;\n",
              "      gap: 12px;\n",
              "    }\n",
              "\n",
              "    .colab-df-convert {\n",
              "      background-color: #E8F0FE;\n",
              "      border: none;\n",
              "      border-radius: 50%;\n",
              "      cursor: pointer;\n",
              "      display: none;\n",
              "      fill: #1967D2;\n",
              "      height: 32px;\n",
              "      padding: 0 0 0 0;\n",
              "      width: 32px;\n",
              "    }\n",
              "\n",
              "    .colab-df-convert:hover {\n",
              "      background-color: #E2EBFA;\n",
              "      box-shadow: 0px 1px 2px rgba(60, 64, 67, 0.3), 0px 1px 3px 1px rgba(60, 64, 67, 0.15);\n",
              "      fill: #174EA6;\n",
              "    }\n",
              "\n",
              "    [theme=dark] .colab-df-convert {\n",
              "      background-color: #3B4455;\n",
              "      fill: #D2E3FC;\n",
              "    }\n",
              "\n",
              "    [theme=dark] .colab-df-convert:hover {\n",
              "      background-color: #434B5C;\n",
              "      box-shadow: 0px 1px 3px 1px rgba(0, 0, 0, 0.15);\n",
              "      filter: drop-shadow(0px 1px 2px rgba(0, 0, 0, 0.3));\n",
              "      fill: #FFFFFF;\n",
              "    }\n",
              "  </style>\n",
              "\n",
              "      <script>\n",
              "        const buttonEl =\n",
              "          document.querySelector('#df-048002c6-96df-4f9a-8e15-657f44114f9b button.colab-df-convert');\n",
              "        buttonEl.style.display =\n",
              "          google.colab.kernel.accessAllowed ? 'block' : 'none';\n",
              "\n",
              "        async function convertToInteractive(key) {\n",
              "          const element = document.querySelector('#df-048002c6-96df-4f9a-8e15-657f44114f9b');\n",
              "          const dataTable =\n",
              "            await google.colab.kernel.invokeFunction('convertToInteractive',\n",
              "                                                     [key], {});\n",
              "          if (!dataTable) return;\n",
              "\n",
              "          const docLinkHtml = 'Like what you see? Visit the ' +\n",
              "            '<a target=\"_blank\" href=https://colab.research.google.com/notebooks/data_table.ipynb>data table notebook</a>'\n",
              "            + ' to learn more about interactive tables.';\n",
              "          element.innerHTML = '';\n",
              "          dataTable['output_type'] = 'display_data';\n",
              "          await google.colab.output.renderOutput(dataTable, element);\n",
              "          const docLink = document.createElement('div');\n",
              "          docLink.innerHTML = docLinkHtml;\n",
              "          element.appendChild(docLink);\n",
              "        }\n",
              "      </script>\n",
              "    </div>\n",
              "  </div>\n",
              "  "
            ]
          },
          "metadata": {},
          "execution_count": 20
        }
      ]
    },
    {
      "cell_type": "code",
      "source": [
        "import plotly.express\n",
        "import graphing"
      ],
      "metadata": {
        "id": "9dgje3VBNkM0"
      },
      "execution_count": null,
      "outputs": []
    },
    {
      "cell_type": "code",
      "source": [
        "plotly.express.scatter(data_smaller_paws, x=\"harness_size\", y=\"boot_size\")"
      ],
      "metadata": {
        "colab": {
          "base_uri": "https://localhost:8080/",
          "height": 417
        },
        "id": "LtixqS5KNsEs",
        "outputId": "3d9bcd0a-a705-4766-b216-bc68d8989d32"
      },
      "execution_count": null,
      "outputs": [
        {
          "output_type": "display_data",
          "data": {
            "text/html": [
              "<html>\n",
              "<head><meta charset=\"utf-8\" /></head>\n",
              "<body>\n",
              "    <div>            <script src=\"https://cdnjs.cloudflare.com/ajax/libs/mathjax/2.7.5/MathJax.js?config=TeX-AMS-MML_SVG\"></script><script type=\"text/javascript\">if (window.MathJax && window.MathJax.Hub && window.MathJax.Hub.Config) {window.MathJax.Hub.Config({SVG: {font: \"STIX-Web\"}});}</script>                <script type=\"text/javascript\">window.PlotlyConfig = {MathJaxConfig: 'local'};</script>\n",
              "        <script src=\"https://cdn.plot.ly/plotly-2.18.2.min.js\"></script>                <div id=\"235bb2d8-d8a1-4cb7-8dee-2b95d71d2b6c\" class=\"plotly-graph-div\" style=\"height:400px; width:100%;\"></div>            <script type=\"text/javascript\">                                    window.PLOTLYENV=window.PLOTLYENV || {};                                    if (document.getElementById(\"235bb2d8-d8a1-4cb7-8dee-2b95d71d2b6c\")) {                    Plotly.newPlot(                        \"235bb2d8-d8a1-4cb7-8dee-2b95d71d2b6c\",                        [{\"hovertemplate\":\"harness_size=%{x}<br>boot_size=%{y}<extra></extra>\",\"legendgroup\":\"\",\"marker\":{\"color\":\"#636efa\",\"symbol\":\"circle\"},\"mode\":\"markers\",\"name\":\"\",\"orientation\":\"v\",\"showlegend\":false,\"x\":[58,58,52,58,57,52,55,53,49,56,53,58,56,51,50,59,55,50,52,53,54,56,55,57,53,57,57,55,51,52,58,57,51,59],\"xaxis\":\"x\",\"y\":[39,38,37,39,38,35,37,36,35,36,38,39,36,36,35,38,37,35,36,35,39,37,35,39,36,37,37,39,35,36,39,39,35,39],\"yaxis\":\"y\",\"type\":\"scatter\"}],                        {\"template\":{\"data\":{\"barpolar\":[{\"marker\":{\"line\":{\"color\":\"white\",\"width\":0.5},\"pattern\":{\"fillmode\":\"overlay\",\"size\":10,\"solidity\":0.2}},\"type\":\"barpolar\"}],\"bar\":[{\"error_x\":{\"color\":\"#2a3f5f\"},\"error_y\":{\"color\":\"#2a3f5f\"},\"marker\":{\"line\":{\"color\":\"white\",\"width\":0.5},\"pattern\":{\"fillmode\":\"overlay\",\"size\":10,\"solidity\":0.2}},\"type\":\"bar\"}],\"carpet\":[{\"aaxis\":{\"endlinecolor\":\"#2a3f5f\",\"gridcolor\":\"#C8D4E3\",\"linecolor\":\"#C8D4E3\",\"minorgridcolor\":\"#C8D4E3\",\"startlinecolor\":\"#2a3f5f\"},\"baxis\":{\"endlinecolor\":\"#2a3f5f\",\"gridcolor\":\"#C8D4E3\",\"linecolor\":\"#C8D4E3\",\"minorgridcolor\":\"#C8D4E3\",\"startlinecolor\":\"#2a3f5f\"},\"type\":\"carpet\"}],\"choropleth\":[{\"colorbar\":{\"outlinewidth\":0,\"ticks\":\"\"},\"type\":\"choropleth\"}],\"contourcarpet\":[{\"colorbar\":{\"outlinewidth\":0,\"ticks\":\"\"},\"type\":\"contourcarpet\"}],\"contour\":[{\"colorbar\":{\"outlinewidth\":0,\"ticks\":\"\"},\"colorscale\":[[0.0,\"#0d0887\"],[0.1111111111111111,\"#46039f\"],[0.2222222222222222,\"#7201a8\"],[0.3333333333333333,\"#9c179e\"],[0.4444444444444444,\"#bd3786\"],[0.5555555555555556,\"#d8576b\"],[0.6666666666666666,\"#ed7953\"],[0.7777777777777778,\"#fb9f3a\"],[0.8888888888888888,\"#fdca26\"],[1.0,\"#f0f921\"]],\"type\":\"contour\"}],\"heatmapgl\":[{\"colorbar\":{\"outlinewidth\":0,\"ticks\":\"\"},\"colorscale\":[[0.0,\"#0d0887\"],[0.1111111111111111,\"#46039f\"],[0.2222222222222222,\"#7201a8\"],[0.3333333333333333,\"#9c179e\"],[0.4444444444444444,\"#bd3786\"],[0.5555555555555556,\"#d8576b\"],[0.6666666666666666,\"#ed7953\"],[0.7777777777777778,\"#fb9f3a\"],[0.8888888888888888,\"#fdca26\"],[1.0,\"#f0f921\"]],\"type\":\"heatmapgl\"}],\"heatmap\":[{\"colorbar\":{\"outlinewidth\":0,\"ticks\":\"\"},\"colorscale\":[[0.0,\"#0d0887\"],[0.1111111111111111,\"#46039f\"],[0.2222222222222222,\"#7201a8\"],[0.3333333333333333,\"#9c179e\"],[0.4444444444444444,\"#bd3786\"],[0.5555555555555556,\"#d8576b\"],[0.6666666666666666,\"#ed7953\"],[0.7777777777777778,\"#fb9f3a\"],[0.8888888888888888,\"#fdca26\"],[1.0,\"#f0f921\"]],\"type\":\"heatmap\"}],\"histogram2dcontour\":[{\"colorbar\":{\"outlinewidth\":0,\"ticks\":\"\"},\"colorscale\":[[0.0,\"#0d0887\"],[0.1111111111111111,\"#46039f\"],[0.2222222222222222,\"#7201a8\"],[0.3333333333333333,\"#9c179e\"],[0.4444444444444444,\"#bd3786\"],[0.5555555555555556,\"#d8576b\"],[0.6666666666666666,\"#ed7953\"],[0.7777777777777778,\"#fb9f3a\"],[0.8888888888888888,\"#fdca26\"],[1.0,\"#f0f921\"]],\"type\":\"histogram2dcontour\"}],\"histogram2d\":[{\"colorbar\":{\"outlinewidth\":0,\"ticks\":\"\"},\"colorscale\":[[0.0,\"#0d0887\"],[0.1111111111111111,\"#46039f\"],[0.2222222222222222,\"#7201a8\"],[0.3333333333333333,\"#9c179e\"],[0.4444444444444444,\"#bd3786\"],[0.5555555555555556,\"#d8576b\"],[0.6666666666666666,\"#ed7953\"],[0.7777777777777778,\"#fb9f3a\"],[0.8888888888888888,\"#fdca26\"],[1.0,\"#f0f921\"]],\"type\":\"histogram2d\"}],\"histogram\":[{\"marker\":{\"pattern\":{\"fillmode\":\"overlay\",\"size\":10,\"solidity\":0.2},\"line\":{\"width\":1}},\"type\":\"histogram\"}],\"mesh3d\":[{\"colorbar\":{\"outlinewidth\":0,\"ticks\":\"\"},\"type\":\"mesh3d\"}],\"parcoords\":[{\"line\":{\"colorbar\":{\"outlinewidth\":0,\"ticks\":\"\"}},\"type\":\"parcoords\"}],\"pie\":[{\"automargin\":true,\"type\":\"pie\"}],\"scatter3d\":[{\"line\":{\"colorbar\":{\"outlinewidth\":0,\"ticks\":\"\"}},\"marker\":{\"colorbar\":{\"outlinewidth\":0,\"ticks\":\"\"},\"opacity\":0.8},\"type\":\"scatter3d\"}],\"scattercarpet\":[{\"marker\":{\"colorbar\":{\"outlinewidth\":0,\"ticks\":\"\"}},\"type\":\"scattercarpet\"}],\"scattergeo\":[{\"marker\":{\"colorbar\":{\"outlinewidth\":0,\"ticks\":\"\"}},\"type\":\"scattergeo\"}],\"scattergl\":[{\"marker\":{\"colorbar\":{\"outlinewidth\":0,\"ticks\":\"\"}},\"type\":\"scattergl\"}],\"scattermapbox\":[{\"marker\":{\"colorbar\":{\"outlinewidth\":0,\"ticks\":\"\"}},\"type\":\"scattermapbox\"}],\"scatterpolargl\":[{\"marker\":{\"colorbar\":{\"outlinewidth\":0,\"ticks\":\"\"}},\"type\":\"scatterpolargl\"}],\"scatterpolar\":[{\"marker\":{\"colorbar\":{\"outlinewidth\":0,\"ticks\":\"\"}},\"type\":\"scatterpolar\"}],\"scatter\":[{\"fillpattern\":{\"fillmode\":\"overlay\",\"size\":10,\"solidity\":0.2},\"type\":\"scatter\",\"marker\":{\"opacity\":0.8}}],\"scatterternary\":[{\"marker\":{\"colorbar\":{\"outlinewidth\":0,\"ticks\":\"\"}},\"type\":\"scatterternary\"}],\"surface\":[{\"colorbar\":{\"outlinewidth\":0,\"ticks\":\"\"},\"colorscale\":[[0.0,\"#0d0887\"],[0.1111111111111111,\"#46039f\"],[0.2222222222222222,\"#7201a8\"],[0.3333333333333333,\"#9c179e\"],[0.4444444444444444,\"#bd3786\"],[0.5555555555555556,\"#d8576b\"],[0.6666666666666666,\"#ed7953\"],[0.7777777777777778,\"#fb9f3a\"],[0.8888888888888888,\"#fdca26\"],[1.0,\"#f0f921\"]],\"type\":\"surface\"}],\"table\":[{\"cells\":{\"fill\":{\"color\":\"#EBF0F8\"},\"line\":{\"color\":\"white\"}},\"header\":{\"fill\":{\"color\":\"#C8D4E3\"},\"line\":{\"color\":\"white\"}},\"type\":\"table\"}],\"box\":[{\"boxpoints\":\"outliers\",\"notched\":false,\"type\":\"box\"}]},\"layout\":{\"annotationdefaults\":{\"arrowcolor\":\"#2a3f5f\",\"arrowhead\":0,\"arrowwidth\":1},\"autotypenumbers\":\"strict\",\"coloraxis\":{\"colorbar\":{\"outlinewidth\":0,\"ticks\":\"\"}},\"colorscale\":{\"diverging\":[[0,\"#8e0152\"],[0.1,\"#c51b7d\"],[0.2,\"#de77ae\"],[0.3,\"#f1b6da\"],[0.4,\"#fde0ef\"],[0.5,\"#f7f7f7\"],[0.6,\"#e6f5d0\"],[0.7,\"#b8e186\"],[0.8,\"#7fbc41\"],[0.9,\"#4d9221\"],[1,\"#276419\"]],\"sequential\":[[0.0,\"#0d0887\"],[0.1111111111111111,\"#46039f\"],[0.2222222222222222,\"#7201a8\"],[0.3333333333333333,\"#9c179e\"],[0.4444444444444444,\"#bd3786\"],[0.5555555555555556,\"#d8576b\"],[0.6666666666666666,\"#ed7953\"],[0.7777777777777778,\"#fb9f3a\"],[0.8888888888888888,\"#fdca26\"],[1.0,\"#f0f921\"]],\"sequentialminus\":[[0.0,\"#0d0887\"],[0.1111111111111111,\"#46039f\"],[0.2222222222222222,\"#7201a8\"],[0.3333333333333333,\"#9c179e\"],[0.4444444444444444,\"#bd3786\"],[0.5555555555555556,\"#d8576b\"],[0.6666666666666666,\"#ed7953\"],[0.7777777777777778,\"#fb9f3a\"],[0.8888888888888888,\"#fdca26\"],[1.0,\"#f0f921\"]]},\"colorway\":[\"#636efa\",\"#EF553B\",\"#00cc96\",\"#ab63fa\",\"#FFA15A\",\"#19d3f3\",\"#FF6692\",\"#B6E880\",\"#FF97FF\",\"#FECB52\"],\"font\":{\"color\":\"#2a3f5f\"},\"geo\":{\"bgcolor\":\"white\",\"lakecolor\":\"white\",\"landcolor\":\"white\",\"showlakes\":true,\"showland\":true,\"subunitcolor\":\"#C8D4E3\"},\"hoverlabel\":{\"align\":\"left\"},\"hovermode\":\"closest\",\"mapbox\":{\"style\":\"light\"},\"paper_bgcolor\":\"white\",\"plot_bgcolor\":\"white\",\"polar\":{\"angularaxis\":{\"gridcolor\":\"#EBF0F8\",\"linecolor\":\"#EBF0F8\",\"ticks\":\"\"},\"bgcolor\":\"white\",\"radialaxis\":{\"gridcolor\":\"#EBF0F8\",\"linecolor\":\"#EBF0F8\",\"ticks\":\"\"}},\"scene\":{\"xaxis\":{\"backgroundcolor\":\"white\",\"gridcolor\":\"#DFE8F3\",\"gridwidth\":2,\"linecolor\":\"#EBF0F8\",\"showbackground\":true,\"ticks\":\"\",\"zerolinecolor\":\"#EBF0F8\"},\"yaxis\":{\"backgroundcolor\":\"white\",\"gridcolor\":\"#DFE8F3\",\"gridwidth\":2,\"linecolor\":\"#EBF0F8\",\"showbackground\":true,\"ticks\":\"\",\"zerolinecolor\":\"#EBF0F8\"},\"zaxis\":{\"backgroundcolor\":\"white\",\"gridcolor\":\"#DFE8F3\",\"gridwidth\":2,\"linecolor\":\"#EBF0F8\",\"showbackground\":true,\"ticks\":\"\",\"zerolinecolor\":\"#EBF0F8\"},\"camera\":{\"eye\":{\"x\":1.5,\"y\":1.5,\"z\":0.1}}},\"shapedefaults\":{\"line\":{\"color\":\"#2a3f5f\"}},\"ternary\":{\"aaxis\":{\"gridcolor\":\"#DFE8F3\",\"linecolor\":\"#A2B1C6\",\"ticks\":\"\"},\"baxis\":{\"gridcolor\":\"#DFE8F3\",\"linecolor\":\"#A2B1C6\",\"ticks\":\"\"},\"bgcolor\":\"white\",\"caxis\":{\"gridcolor\":\"#DFE8F3\",\"linecolor\":\"#A2B1C6\",\"ticks\":\"\"}},\"title\":{\"x\":0.5},\"xaxis\":{\"automargin\":true,\"gridcolor\":\"#EBF0F8\",\"linecolor\":\"#EBF0F8\",\"ticks\":\"\",\"title\":{\"standoff\":15},\"zerolinecolor\":\"#EBF0F8\",\"zerolinewidth\":2,\"linewidth\":2,\"showline\":true},\"yaxis\":{\"automargin\":true,\"gridcolor\":\"#EBF0F8\",\"linecolor\":\"#EBF0F8\",\"ticks\":\"\",\"title\":{\"standoff\":15},\"zerolinecolor\":\"#EBF0F8\",\"zerolinewidth\":2,\"linewidth\":2,\"showline\":true},\"height\":400,\"margin\":{\"b\":2,\"l\":2,\"r\":2,\"t\":30}}},\"xaxis\":{\"anchor\":\"y\",\"domain\":[0.0,1.0],\"title\":{\"text\":\"harness_size\"}},\"yaxis\":{\"anchor\":\"x\",\"domain\":[0.0,1.0],\"title\":{\"text\":\"boot_size\"}},\"legend\":{\"tracegroupgap\":0}},                        {\"responsive\": true}                    ).then(function(){\n",
              "                            \n",
              "var gd = document.getElementById('235bb2d8-d8a1-4cb7-8dee-2b95d71d2b6c');\n",
              "var x = new MutationObserver(function (mutations, observer) {{\n",
              "        var display = window.getComputedStyle(gd).display;\n",
              "        if (!display || display === 'none') {{\n",
              "            console.log([gd, 'removed!']);\n",
              "            Plotly.purge(gd);\n",
              "            observer.disconnect();\n",
              "        }}\n",
              "}});\n",
              "\n",
              "// Listen for the removal of the full notebook cells\n",
              "var notebookContainer = gd.closest('#notebook-container');\n",
              "if (notebookContainer) {{\n",
              "    x.observe(notebookContainer, {childList: true});\n",
              "}}\n",
              "\n",
              "// Listen for the clearing of the current output cell\n",
              "var outputEl = gd.closest('.output');\n",
              "if (outputEl) {{\n",
              "    x.observe(outputEl, {childList: true});\n",
              "}}\n",
              "\n",
              "                        })                };                            </script>        </div>\n",
              "</body>\n",
              "</html>"
            ]
          },
          "metadata": {}
        }
      ]
    },
    {
      "cell_type": "code",
      "source": [
        "data_smaller_paws['harness_size_imperial'] = data_smaller_paws.harness_size / 2.54"
      ],
      "metadata": {
        "id": "G6sMLE5mNzh-"
      },
      "execution_count": null,
      "outputs": []
    },
    {
      "cell_type": "code",
      "source": [
        "plotly.express.scatter(data_smaller_paws, x=\"harness_size_imperial\", y=\"boot_size\")"
      ],
      "metadata": {
        "id": "CgNEUeRlN4KG",
        "outputId": "83edf7b6-46f7-4279-9eae-cdac45302c20",
        "colab": {
          "base_uri": "https://localhost:8080/",
          "height": 417
        }
      },
      "execution_count": null,
      "outputs": [
        {
          "output_type": "display_data",
          "data": {
            "text/html": [
              "<html>\n",
              "<head><meta charset=\"utf-8\" /></head>\n",
              "<body>\n",
              "    <div>            <script src=\"https://cdnjs.cloudflare.com/ajax/libs/mathjax/2.7.5/MathJax.js?config=TeX-AMS-MML_SVG\"></script><script type=\"text/javascript\">if (window.MathJax && window.MathJax.Hub && window.MathJax.Hub.Config) {window.MathJax.Hub.Config({SVG: {font: \"STIX-Web\"}});}</script>                <script type=\"text/javascript\">window.PlotlyConfig = {MathJaxConfig: 'local'};</script>\n",
              "        <script src=\"https://cdn.plot.ly/plotly-2.18.2.min.js\"></script>                <div id=\"96deb1b3-50ad-4fa8-b8c4-8a883f28870b\" class=\"plotly-graph-div\" style=\"height:400px; width:100%;\"></div>            <script type=\"text/javascript\">                                    window.PLOTLYENV=window.PLOTLYENV || {};                                    if (document.getElementById(\"96deb1b3-50ad-4fa8-b8c4-8a883f28870b\")) {                    Plotly.newPlot(                        \"96deb1b3-50ad-4fa8-b8c4-8a883f28870b\",                        [{\"hovertemplate\":\"harness_size_imperial=%{x}<br>boot_size=%{y}<extra></extra>\",\"legendgroup\":\"\",\"marker\":{\"color\":\"#636efa\",\"symbol\":\"circle\"},\"mode\":\"markers\",\"name\":\"\",\"orientation\":\"v\",\"showlegend\":false,\"x\":[22.834645669291337,22.834645669291337,20.47244094488189,22.834645669291337,22.440944881889763,20.47244094488189,21.653543307086615,20.866141732283463,19.291338582677167,22.04724409448819,20.866141732283463,22.834645669291337,22.04724409448819,20.078740157480315,19.68503937007874,23.228346456692915,21.653543307086615,19.68503937007874,20.47244094488189,20.866141732283463,21.25984251968504,22.04724409448819,21.653543307086615,22.440944881889763,20.866141732283463,22.440944881889763,22.440944881889763,21.653543307086615,20.078740157480315,20.47244094488189,22.834645669291337,22.440944881889763,20.078740157480315,23.228346456692915],\"xaxis\":\"x\",\"y\":[39,38,37,39,38,35,37,36,35,36,38,39,36,36,35,38,37,35,36,35,39,37,35,39,36,37,37,39,35,36,39,39,35,39],\"yaxis\":\"y\",\"type\":\"scatter\"}],                        {\"template\":{\"data\":{\"barpolar\":[{\"marker\":{\"line\":{\"color\":\"white\",\"width\":0.5},\"pattern\":{\"fillmode\":\"overlay\",\"size\":10,\"solidity\":0.2}},\"type\":\"barpolar\"}],\"bar\":[{\"error_x\":{\"color\":\"#2a3f5f\"},\"error_y\":{\"color\":\"#2a3f5f\"},\"marker\":{\"line\":{\"color\":\"white\",\"width\":0.5},\"pattern\":{\"fillmode\":\"overlay\",\"size\":10,\"solidity\":0.2}},\"type\":\"bar\"}],\"carpet\":[{\"aaxis\":{\"endlinecolor\":\"#2a3f5f\",\"gridcolor\":\"#C8D4E3\",\"linecolor\":\"#C8D4E3\",\"minorgridcolor\":\"#C8D4E3\",\"startlinecolor\":\"#2a3f5f\"},\"baxis\":{\"endlinecolor\":\"#2a3f5f\",\"gridcolor\":\"#C8D4E3\",\"linecolor\":\"#C8D4E3\",\"minorgridcolor\":\"#C8D4E3\",\"startlinecolor\":\"#2a3f5f\"},\"type\":\"carpet\"}],\"choropleth\":[{\"colorbar\":{\"outlinewidth\":0,\"ticks\":\"\"},\"type\":\"choropleth\"}],\"contourcarpet\":[{\"colorbar\":{\"outlinewidth\":0,\"ticks\":\"\"},\"type\":\"contourcarpet\"}],\"contour\":[{\"colorbar\":{\"outlinewidth\":0,\"ticks\":\"\"},\"colorscale\":[[0.0,\"#0d0887\"],[0.1111111111111111,\"#46039f\"],[0.2222222222222222,\"#7201a8\"],[0.3333333333333333,\"#9c179e\"],[0.4444444444444444,\"#bd3786\"],[0.5555555555555556,\"#d8576b\"],[0.6666666666666666,\"#ed7953\"],[0.7777777777777778,\"#fb9f3a\"],[0.8888888888888888,\"#fdca26\"],[1.0,\"#f0f921\"]],\"type\":\"contour\"}],\"heatmapgl\":[{\"colorbar\":{\"outlinewidth\":0,\"ticks\":\"\"},\"colorscale\":[[0.0,\"#0d0887\"],[0.1111111111111111,\"#46039f\"],[0.2222222222222222,\"#7201a8\"],[0.3333333333333333,\"#9c179e\"],[0.4444444444444444,\"#bd3786\"],[0.5555555555555556,\"#d8576b\"],[0.6666666666666666,\"#ed7953\"],[0.7777777777777778,\"#fb9f3a\"],[0.8888888888888888,\"#fdca26\"],[1.0,\"#f0f921\"]],\"type\":\"heatmapgl\"}],\"heatmap\":[{\"colorbar\":{\"outlinewidth\":0,\"ticks\":\"\"},\"colorscale\":[[0.0,\"#0d0887\"],[0.1111111111111111,\"#46039f\"],[0.2222222222222222,\"#7201a8\"],[0.3333333333333333,\"#9c179e\"],[0.4444444444444444,\"#bd3786\"],[0.5555555555555556,\"#d8576b\"],[0.6666666666666666,\"#ed7953\"],[0.7777777777777778,\"#fb9f3a\"],[0.8888888888888888,\"#fdca26\"],[1.0,\"#f0f921\"]],\"type\":\"heatmap\"}],\"histogram2dcontour\":[{\"colorbar\":{\"outlinewidth\":0,\"ticks\":\"\"},\"colorscale\":[[0.0,\"#0d0887\"],[0.1111111111111111,\"#46039f\"],[0.2222222222222222,\"#7201a8\"],[0.3333333333333333,\"#9c179e\"],[0.4444444444444444,\"#bd3786\"],[0.5555555555555556,\"#d8576b\"],[0.6666666666666666,\"#ed7953\"],[0.7777777777777778,\"#fb9f3a\"],[0.8888888888888888,\"#fdca26\"],[1.0,\"#f0f921\"]],\"type\":\"histogram2dcontour\"}],\"histogram2d\":[{\"colorbar\":{\"outlinewidth\":0,\"ticks\":\"\"},\"colorscale\":[[0.0,\"#0d0887\"],[0.1111111111111111,\"#46039f\"],[0.2222222222222222,\"#7201a8\"],[0.3333333333333333,\"#9c179e\"],[0.4444444444444444,\"#bd3786\"],[0.5555555555555556,\"#d8576b\"],[0.6666666666666666,\"#ed7953\"],[0.7777777777777778,\"#fb9f3a\"],[0.8888888888888888,\"#fdca26\"],[1.0,\"#f0f921\"]],\"type\":\"histogram2d\"}],\"histogram\":[{\"marker\":{\"pattern\":{\"fillmode\":\"overlay\",\"size\":10,\"solidity\":0.2},\"line\":{\"width\":1}},\"type\":\"histogram\"}],\"mesh3d\":[{\"colorbar\":{\"outlinewidth\":0,\"ticks\":\"\"},\"type\":\"mesh3d\"}],\"parcoords\":[{\"line\":{\"colorbar\":{\"outlinewidth\":0,\"ticks\":\"\"}},\"type\":\"parcoords\"}],\"pie\":[{\"automargin\":true,\"type\":\"pie\"}],\"scatter3d\":[{\"line\":{\"colorbar\":{\"outlinewidth\":0,\"ticks\":\"\"}},\"marker\":{\"colorbar\":{\"outlinewidth\":0,\"ticks\":\"\"},\"opacity\":0.8},\"type\":\"scatter3d\"}],\"scattercarpet\":[{\"marker\":{\"colorbar\":{\"outlinewidth\":0,\"ticks\":\"\"}},\"type\":\"scattercarpet\"}],\"scattergeo\":[{\"marker\":{\"colorbar\":{\"outlinewidth\":0,\"ticks\":\"\"}},\"type\":\"scattergeo\"}],\"scattergl\":[{\"marker\":{\"colorbar\":{\"outlinewidth\":0,\"ticks\":\"\"}},\"type\":\"scattergl\"}],\"scattermapbox\":[{\"marker\":{\"colorbar\":{\"outlinewidth\":0,\"ticks\":\"\"}},\"type\":\"scattermapbox\"}],\"scatterpolargl\":[{\"marker\":{\"colorbar\":{\"outlinewidth\":0,\"ticks\":\"\"}},\"type\":\"scatterpolargl\"}],\"scatterpolar\":[{\"marker\":{\"colorbar\":{\"outlinewidth\":0,\"ticks\":\"\"}},\"type\":\"scatterpolar\"}],\"scatter\":[{\"fillpattern\":{\"fillmode\":\"overlay\",\"size\":10,\"solidity\":0.2},\"type\":\"scatter\",\"marker\":{\"opacity\":0.8}}],\"scatterternary\":[{\"marker\":{\"colorbar\":{\"outlinewidth\":0,\"ticks\":\"\"}},\"type\":\"scatterternary\"}],\"surface\":[{\"colorbar\":{\"outlinewidth\":0,\"ticks\":\"\"},\"colorscale\":[[0.0,\"#0d0887\"],[0.1111111111111111,\"#46039f\"],[0.2222222222222222,\"#7201a8\"],[0.3333333333333333,\"#9c179e\"],[0.4444444444444444,\"#bd3786\"],[0.5555555555555556,\"#d8576b\"],[0.6666666666666666,\"#ed7953\"],[0.7777777777777778,\"#fb9f3a\"],[0.8888888888888888,\"#fdca26\"],[1.0,\"#f0f921\"]],\"type\":\"surface\"}],\"table\":[{\"cells\":{\"fill\":{\"color\":\"#EBF0F8\"},\"line\":{\"color\":\"white\"}},\"header\":{\"fill\":{\"color\":\"#C8D4E3\"},\"line\":{\"color\":\"white\"}},\"type\":\"table\"}],\"box\":[{\"boxpoints\":\"outliers\",\"notched\":false,\"type\":\"box\"}]},\"layout\":{\"annotationdefaults\":{\"arrowcolor\":\"#2a3f5f\",\"arrowhead\":0,\"arrowwidth\":1},\"autotypenumbers\":\"strict\",\"coloraxis\":{\"colorbar\":{\"outlinewidth\":0,\"ticks\":\"\"}},\"colorscale\":{\"diverging\":[[0,\"#8e0152\"],[0.1,\"#c51b7d\"],[0.2,\"#de77ae\"],[0.3,\"#f1b6da\"],[0.4,\"#fde0ef\"],[0.5,\"#f7f7f7\"],[0.6,\"#e6f5d0\"],[0.7,\"#b8e186\"],[0.8,\"#7fbc41\"],[0.9,\"#4d9221\"],[1,\"#276419\"]],\"sequential\":[[0.0,\"#0d0887\"],[0.1111111111111111,\"#46039f\"],[0.2222222222222222,\"#7201a8\"],[0.3333333333333333,\"#9c179e\"],[0.4444444444444444,\"#bd3786\"],[0.5555555555555556,\"#d8576b\"],[0.6666666666666666,\"#ed7953\"],[0.7777777777777778,\"#fb9f3a\"],[0.8888888888888888,\"#fdca26\"],[1.0,\"#f0f921\"]],\"sequentialminus\":[[0.0,\"#0d0887\"],[0.1111111111111111,\"#46039f\"],[0.2222222222222222,\"#7201a8\"],[0.3333333333333333,\"#9c179e\"],[0.4444444444444444,\"#bd3786\"],[0.5555555555555556,\"#d8576b\"],[0.6666666666666666,\"#ed7953\"],[0.7777777777777778,\"#fb9f3a\"],[0.8888888888888888,\"#fdca26\"],[1.0,\"#f0f921\"]]},\"colorway\":[\"#636efa\",\"#EF553B\",\"#00cc96\",\"#ab63fa\",\"#FFA15A\",\"#19d3f3\",\"#FF6692\",\"#B6E880\",\"#FF97FF\",\"#FECB52\"],\"font\":{\"color\":\"#2a3f5f\"},\"geo\":{\"bgcolor\":\"white\",\"lakecolor\":\"white\",\"landcolor\":\"white\",\"showlakes\":true,\"showland\":true,\"subunitcolor\":\"#C8D4E3\"},\"hoverlabel\":{\"align\":\"left\"},\"hovermode\":\"closest\",\"mapbox\":{\"style\":\"light\"},\"paper_bgcolor\":\"white\",\"plot_bgcolor\":\"white\",\"polar\":{\"angularaxis\":{\"gridcolor\":\"#EBF0F8\",\"linecolor\":\"#EBF0F8\",\"ticks\":\"\"},\"bgcolor\":\"white\",\"radialaxis\":{\"gridcolor\":\"#EBF0F8\",\"linecolor\":\"#EBF0F8\",\"ticks\":\"\"}},\"scene\":{\"xaxis\":{\"backgroundcolor\":\"white\",\"gridcolor\":\"#DFE8F3\",\"gridwidth\":2,\"linecolor\":\"#EBF0F8\",\"showbackground\":true,\"ticks\":\"\",\"zerolinecolor\":\"#EBF0F8\"},\"yaxis\":{\"backgroundcolor\":\"white\",\"gridcolor\":\"#DFE8F3\",\"gridwidth\":2,\"linecolor\":\"#EBF0F8\",\"showbackground\":true,\"ticks\":\"\",\"zerolinecolor\":\"#EBF0F8\"},\"zaxis\":{\"backgroundcolor\":\"white\",\"gridcolor\":\"#DFE8F3\",\"gridwidth\":2,\"linecolor\":\"#EBF0F8\",\"showbackground\":true,\"ticks\":\"\",\"zerolinecolor\":\"#EBF0F8\"},\"camera\":{\"eye\":{\"x\":1.5,\"y\":1.5,\"z\":0.1}}},\"shapedefaults\":{\"line\":{\"color\":\"#2a3f5f\"}},\"ternary\":{\"aaxis\":{\"gridcolor\":\"#DFE8F3\",\"linecolor\":\"#A2B1C6\",\"ticks\":\"\"},\"baxis\":{\"gridcolor\":\"#DFE8F3\",\"linecolor\":\"#A2B1C6\",\"ticks\":\"\"},\"bgcolor\":\"white\",\"caxis\":{\"gridcolor\":\"#DFE8F3\",\"linecolor\":\"#A2B1C6\",\"ticks\":\"\"}},\"title\":{\"x\":0.5},\"xaxis\":{\"automargin\":true,\"gridcolor\":\"#EBF0F8\",\"linecolor\":\"#EBF0F8\",\"ticks\":\"\",\"title\":{\"standoff\":15},\"zerolinecolor\":\"#EBF0F8\",\"zerolinewidth\":2,\"linewidth\":2,\"showline\":true},\"yaxis\":{\"automargin\":true,\"gridcolor\":\"#EBF0F8\",\"linecolor\":\"#EBF0F8\",\"ticks\":\"\",\"title\":{\"standoff\":15},\"zerolinecolor\":\"#EBF0F8\",\"zerolinewidth\":2,\"linewidth\":2,\"showline\":true},\"height\":400,\"margin\":{\"b\":2,\"l\":2,\"r\":2,\"t\":30}}},\"xaxis\":{\"anchor\":\"y\",\"domain\":[0.0,1.0],\"title\":{\"text\":\"harness_size_imperial\"}},\"yaxis\":{\"anchor\":\"x\",\"domain\":[0.0,1.0],\"title\":{\"text\":\"boot_size\"}},\"legend\":{\"tracegroupgap\":0}},                        {\"responsive\": true}                    ).then(function(){\n",
              "                            \n",
              "var gd = document.getElementById('96deb1b3-50ad-4fa8-b8c4-8a883f28870b');\n",
              "var x = new MutationObserver(function (mutations, observer) {{\n",
              "        var display = window.getComputedStyle(gd).display;\n",
              "        if (!display || display === 'none') {{\n",
              "            console.log([gd, 'removed!']);\n",
              "            Plotly.purge(gd);\n",
              "            observer.disconnect();\n",
              "        }}\n",
              "}});\n",
              "\n",
              "// Listen for the removal of the full notebook cells\n",
              "var notebookContainer = gd.closest('#notebook-container');\n",
              "if (notebookContainer) {{\n",
              "    x.observe(notebookContainer, {childList: true});\n",
              "}}\n",
              "\n",
              "// Listen for the clearing of the current output cell\n",
              "var outputEl = gd.closest('.output');\n",
              "if (outputEl) {{\n",
              "    x.observe(outputEl, {childList: true});\n",
              "}}\n",
              "\n",
              "                        })                };                            </script>        </div>\n",
              "</body>\n",
              "</html>"
            ]
          },
          "metadata": {}
        }
      ]
    },
    {
      "cell_type": "code",
      "source": [
        "dataset['boot_size'].mean()"
      ],
      "metadata": {
        "colab": {
          "base_uri": "https://localhost:8080/"
        },
        "id": "J02KKQFTyc-l",
        "outputId": "db209a9f-3d54-4198-de08-d8d7b9d424fc"
      },
      "execution_count": null,
      "outputs": [
        {
          "output_type": "execute_result",
          "data": {
            "text/plain": [
              "38.32"
            ]
          },
          "metadata": {},
          "execution_count": 25
        }
      ]
    },
    {
      "cell_type": "code",
      "source": [
        "import pandas\n",
        "!pip install statsmodels\n",
        "!wget https://raw.githubusercontent.com/MicrosoftDocs/mslearn-introduction-to-machine-learning/main/graphing.py\n",
        "!wget https://raw.githubusercontent.com/MicrosoftDocs/mslearn-introduction-to-machine-learning/main/Data/doggy-boot-harness.csv\n",
        "\n",
        "\n",
        "data = pandas.read_csv('doggy-boot-harness.csv')\n",
        "\n",
        "data.head()"
      ],
      "metadata": {
        "colab": {
          "base_uri": "https://localhost:8080/",
          "height": 778
        },
        "id": "QE8rNOZSMTsf",
        "outputId": "78077942-a326-460a-c911-82f65740d0f2"
      },
      "execution_count": null,
      "outputs": [
        {
          "output_type": "stream",
          "name": "stdout",
          "text": [
            "Looking in indexes: https://pypi.org/simple, https://us-python.pkg.dev/colab-wheels/public/simple/\n",
            "Requirement already satisfied: statsmodels in /usr/local/lib/python3.10/dist-packages (0.13.5)\n",
            "Requirement already satisfied: pandas>=0.25 in /usr/local/lib/python3.10/dist-packages (from statsmodels) (1.5.3)\n",
            "Requirement already satisfied: patsy>=0.5.2 in /usr/local/lib/python3.10/dist-packages (from statsmodels) (0.5.3)\n",
            "Requirement already satisfied: packaging>=21.3 in /usr/local/lib/python3.10/dist-packages (from statsmodels) (23.1)\n",
            "Requirement already satisfied: scipy>=1.3 in /usr/local/lib/python3.10/dist-packages (from statsmodels) (1.10.1)\n",
            "Requirement already satisfied: numpy>=1.17 in /usr/local/lib/python3.10/dist-packages (from statsmodels) (1.22.4)\n",
            "Requirement already satisfied: python-dateutil>=2.8.1 in /usr/local/lib/python3.10/dist-packages (from pandas>=0.25->statsmodels) (2.8.2)\n",
            "Requirement already satisfied: pytz>=2020.1 in /usr/local/lib/python3.10/dist-packages (from pandas>=0.25->statsmodels) (2022.7.1)\n",
            "Requirement already satisfied: six in /usr/local/lib/python3.10/dist-packages (from patsy>=0.5.2->statsmodels) (1.16.0)\n",
            "--2023-06-23 10:13:05--  https://raw.githubusercontent.com/MicrosoftDocs/mslearn-introduction-to-machine-learning/main/graphing.py\n",
            "Resolving raw.githubusercontent.com (raw.githubusercontent.com)... 185.199.109.133, 185.199.110.133, 185.199.108.133, ...\n",
            "Connecting to raw.githubusercontent.com (raw.githubusercontent.com)|185.199.109.133|:443... connected.\n",
            "HTTP request sent, awaiting response... 200 OK\n",
            "Length: 21511 (21K) [text/plain]\n",
            "Saving to: ‘graphing.py.1’\n",
            "\n",
            "graphing.py.1       100%[===================>]  21.01K  --.-KB/s    in 0.001s  \n",
            "\n",
            "2023-06-23 10:13:05 (14.1 MB/s) - ‘graphing.py.1’ saved [21511/21511]\n",
            "\n",
            "--2023-06-23 10:13:05--  https://raw.githubusercontent.com/MicrosoftDocs/mslearn-introduction-to-machine-learning/main/Data/doggy-boot-harness.csv\n",
            "Resolving raw.githubusercontent.com (raw.githubusercontent.com)... 185.199.108.133, 185.199.109.133, 185.199.110.133, ...\n",
            "Connecting to raw.githubusercontent.com (raw.githubusercontent.com)|185.199.108.133|:443... connected.\n",
            "HTTP request sent, awaiting response... 200 OK\n",
            "Length: 838 [text/plain]\n",
            "Saving to: ‘doggy-boot-harness.csv.1’\n",
            "\n",
            "doggy-boot-harness. 100%[===================>]     838  --.-KB/s    in 0s      \n",
            "\n",
            "2023-06-23 10:13:05 (14.3 MB/s) - ‘doggy-boot-harness.csv.1’ saved [838/838]\n",
            "\n"
          ]
        },
        {
          "output_type": "execute_result",
          "data": {
            "text/plain": [
              "   boot_size  harness_size     sex  age_years\n",
              "0         39            58    male       12.0\n",
              "1         38            58    male        9.6\n",
              "2         37            52  female        8.6\n",
              "3         39            58    male       10.2\n",
              "4         38            57    male        7.8"
            ],
            "text/html": [
              "\n",
              "  <div id=\"df-95cd0698-be63-48dc-993b-b4aada7bb24d\">\n",
              "    <div class=\"colab-df-container\">\n",
              "      <div>\n",
              "<style scoped>\n",
              "    .dataframe tbody tr th:only-of-type {\n",
              "        vertical-align: middle;\n",
              "    }\n",
              "\n",
              "    .dataframe tbody tr th {\n",
              "        vertical-align: top;\n",
              "    }\n",
              "\n",
              "    .dataframe thead th {\n",
              "        text-align: right;\n",
              "    }\n",
              "</style>\n",
              "<table border=\"1\" class=\"dataframe\">\n",
              "  <thead>\n",
              "    <tr style=\"text-align: right;\">\n",
              "      <th></th>\n",
              "      <th>boot_size</th>\n",
              "      <th>harness_size</th>\n",
              "      <th>sex</th>\n",
              "      <th>age_years</th>\n",
              "    </tr>\n",
              "  </thead>\n",
              "  <tbody>\n",
              "    <tr>\n",
              "      <th>0</th>\n",
              "      <td>39</td>\n",
              "      <td>58</td>\n",
              "      <td>male</td>\n",
              "      <td>12.0</td>\n",
              "    </tr>\n",
              "    <tr>\n",
              "      <th>1</th>\n",
              "      <td>38</td>\n",
              "      <td>58</td>\n",
              "      <td>male</td>\n",
              "      <td>9.6</td>\n",
              "    </tr>\n",
              "    <tr>\n",
              "      <th>2</th>\n",
              "      <td>37</td>\n",
              "      <td>52</td>\n",
              "      <td>female</td>\n",
              "      <td>8.6</td>\n",
              "    </tr>\n",
              "    <tr>\n",
              "      <th>3</th>\n",
              "      <td>39</td>\n",
              "      <td>58</td>\n",
              "      <td>male</td>\n",
              "      <td>10.2</td>\n",
              "    </tr>\n",
              "    <tr>\n",
              "      <th>4</th>\n",
              "      <td>38</td>\n",
              "      <td>57</td>\n",
              "      <td>male</td>\n",
              "      <td>7.8</td>\n",
              "    </tr>\n",
              "  </tbody>\n",
              "</table>\n",
              "</div>\n",
              "      <button class=\"colab-df-convert\" onclick=\"convertToInteractive('df-95cd0698-be63-48dc-993b-b4aada7bb24d')\"\n",
              "              title=\"Convert this dataframe to an interactive table.\"\n",
              "              style=\"display:none;\">\n",
              "        \n",
              "  <svg xmlns=\"http://www.w3.org/2000/svg\" height=\"24px\"viewBox=\"0 0 24 24\"\n",
              "       width=\"24px\">\n",
              "    <path d=\"M0 0h24v24H0V0z\" fill=\"none\"/>\n",
              "    <path d=\"M18.56 5.44l.94 2.06.94-2.06 2.06-.94-2.06-.94-.94-2.06-.94 2.06-2.06.94zm-11 1L8.5 8.5l.94-2.06 2.06-.94-2.06-.94L8.5 2.5l-.94 2.06-2.06.94zm10 10l.94 2.06.94-2.06 2.06-.94-2.06-.94-.94-2.06-.94 2.06-2.06.94z\"/><path d=\"M17.41 7.96l-1.37-1.37c-.4-.4-.92-.59-1.43-.59-.52 0-1.04.2-1.43.59L10.3 9.45l-7.72 7.72c-.78.78-.78 2.05 0 2.83L4 21.41c.39.39.9.59 1.41.59.51 0 1.02-.2 1.41-.59l7.78-7.78 2.81-2.81c.8-.78.8-2.07 0-2.86zM5.41 20L4 18.59l7.72-7.72 1.47 1.35L5.41 20z\"/>\n",
              "  </svg>\n",
              "      </button>\n",
              "      \n",
              "  <style>\n",
              "    .colab-df-container {\n",
              "      display:flex;\n",
              "      flex-wrap:wrap;\n",
              "      gap: 12px;\n",
              "    }\n",
              "\n",
              "    .colab-df-convert {\n",
              "      background-color: #E8F0FE;\n",
              "      border: none;\n",
              "      border-radius: 50%;\n",
              "      cursor: pointer;\n",
              "      display: none;\n",
              "      fill: #1967D2;\n",
              "      height: 32px;\n",
              "      padding: 0 0 0 0;\n",
              "      width: 32px;\n",
              "    }\n",
              "\n",
              "    .colab-df-convert:hover {\n",
              "      background-color: #E2EBFA;\n",
              "      box-shadow: 0px 1px 2px rgba(60, 64, 67, 0.3), 0px 1px 3px 1px rgba(60, 64, 67, 0.15);\n",
              "      fill: #174EA6;\n",
              "    }\n",
              "\n",
              "    [theme=dark] .colab-df-convert {\n",
              "      background-color: #3B4455;\n",
              "      fill: #D2E3FC;\n",
              "    }\n",
              "\n",
              "    [theme=dark] .colab-df-convert:hover {\n",
              "      background-color: #434B5C;\n",
              "      box-shadow: 0px 1px 3px 1px rgba(0, 0, 0, 0.15);\n",
              "      filter: drop-shadow(0px 1px 2px rgba(0, 0, 0, 0.3));\n",
              "      fill: #FFFFFF;\n",
              "    }\n",
              "  </style>\n",
              "\n",
              "      <script>\n",
              "        const buttonEl =\n",
              "          document.querySelector('#df-95cd0698-be63-48dc-993b-b4aada7bb24d button.colab-df-convert');\n",
              "        buttonEl.style.display =\n",
              "          google.colab.kernel.accessAllowed ? 'block' : 'none';\n",
              "\n",
              "        async function convertToInteractive(key) {\n",
              "          const element = document.querySelector('#df-95cd0698-be63-48dc-993b-b4aada7bb24d');\n",
              "          const dataTable =\n",
              "            await google.colab.kernel.invokeFunction('convertToInteractive',\n",
              "                                                     [key], {});\n",
              "          if (!dataTable) return;\n",
              "\n",
              "          const docLinkHtml = 'Like what you see? Visit the ' +\n",
              "            '<a target=\"_blank\" href=https://colab.research.google.com/notebooks/data_table.ipynb>data table notebook</a>'\n",
              "            + ' to learn more about interactive tables.';\n",
              "          element.innerHTML = '';\n",
              "          dataTable['output_type'] = 'display_data';\n",
              "          await google.colab.output.renderOutput(dataTable, element);\n",
              "          const docLink = document.createElement('div');\n",
              "          docLink.innerHTML = docLinkHtml;\n",
              "          element.appendChild(docLink);\n",
              "        }\n",
              "      </script>\n",
              "    </div>\n",
              "  </div>\n",
              "  "
            ]
          },
          "metadata": {},
          "execution_count": 26
        }
      ]
    },
    {
      "cell_type": "code",
      "source": [
        "import statsmodels.formula.api as smf"
      ],
      "metadata": {
        "id": "b-LuPqlHMkUV"
      },
      "execution_count": null,
      "outputs": []
    },
    {
      "cell_type": "code",
      "source": [
        "model = smf.ols(formula = \"boot_size ~ harness_size\", data = data).fit()"
      ],
      "metadata": {
        "id": "_db-zaVGMphM"
      },
      "execution_count": null,
      "outputs": []
    },
    {
      "cell_type": "code",
      "source": [
        "print(\"Model trained!\")"
      ],
      "metadata": {
        "colab": {
          "base_uri": "https://localhost:8080/"
        },
        "id": "DEGcws1UMs4X",
        "outputId": "5f39019b-3950-42d8-dcac-8a9d9e2d6eb3"
      },
      "execution_count": null,
      "outputs": [
        {
          "output_type": "stream",
          "name": "stdout",
          "text": [
            "Model trained!\n"
          ]
        }
      ]
    },
    {
      "cell_type": "code",
      "source": [
        "import joblib\n",
        "\n",
        "model_filename = './avalanche_dog_boot_model.pkl'\n",
        "joblib.dump(model, model_filename)\n",
        "\n",
        "print(\"Model saved!\")"
      ],
      "metadata": {
        "colab": {
          "base_uri": "https://localhost:8080/"
        },
        "id": "c6RJXzGSM0rj",
        "outputId": "641cd9b4-29a3-4d67-ad86-40cc08e65993"
      },
      "execution_count": null,
      "outputs": [
        {
          "output_type": "stream",
          "name": "stdout",
          "text": [
            "Model saved!\n"
          ]
        }
      ]
    },
    {
      "cell_type": "code",
      "source": [
        "model_loaded = joblib.load(model_filename)\n",
        "\n",
        "print(\"We have loaded a model with the following parameters:\")\n",
        "print(model_loaded.params)"
      ],
      "metadata": {
        "colab": {
          "base_uri": "https://localhost:8080/"
        },
        "id": "URqL88fRNGmU",
        "outputId": "3d4ca268-b527-465e-efb2-4b0253d11426"
      },
      "execution_count": null,
      "outputs": [
        {
          "output_type": "stream",
          "name": "stdout",
          "text": [
            "We have loaded a model with the following parameters:\n",
            "Intercept       5.719110\n",
            "harness_size    0.585925\n",
            "dtype: float64\n"
          ]
        }
      ]
    },
    {
      "cell_type": "code",
      "source": [
        "# Let's write a function that loads and uses our model\n",
        "def load_model_and_predict(harness_size):\n",
        "    '''\n",
        "    This function loads a pretrained model. It uses the model\n",
        "    with the customer's dog's harness size to predict the size of\n",
        "    boots that will fit that dog.\n",
        "\n",
        "    harness_size: The dog harness size, in cm\n",
        "    '''\n",
        "\n",
        "    # Load the model from file and print basic information about it\n",
        "    loaded_model = joblib.load(model_filename)\n",
        "\n",
        "    print(\"We've loaded a model with the following parameters:\")\n",
        "    print(loaded_model.params)\n",
        "\n",
        "    # Prepare data for the model\n",
        "    inputs = {\"harness_size\":[harness_size]}\n",
        "\n",
        "    # Use the model to make a prediction\n",
        "    predicted_boot_size = loaded_model.predict(inputs)[0]\n",
        "\n",
        "    return predicted_boot_size\n",
        "\n",
        "# Practice using our model\n",
        "predicted_boot_size = load_model_and_predict(45)\n",
        "\n",
        "print(\"Predicted dog boot size:\", predicted_boot_size)"
      ],
      "metadata": {
        "colab": {
          "base_uri": "https://localhost:8080/"
        },
        "id": "yufgFq2c-GuB",
        "outputId": "97327320-520e-423f-bafa-f6b864c3e570"
      },
      "execution_count": null,
      "outputs": [
        {
          "output_type": "stream",
          "name": "stdout",
          "text": [
            "We've loaded a model with the following parameters:\n",
            "Intercept       5.719110\n",
            "harness_size    0.585925\n",
            "dtype: float64\n",
            "Predicted dog boot size: 32.08575356590479\n"
          ]
        }
      ]
    },
    {
      "cell_type": "code",
      "source": [
        "def check_size_of_boots(selected_harness_size, selected_boot_size):\n",
        "    '''\n",
        "    Calculates whether the customer has chosen a pair of doggy boots that\n",
        "    are a sensible size. This works by estimating the dog's actual boot\n",
        "    size from their harness size.\n",
        "\n",
        "    This returns a message for the customer that should be shown before\n",
        "    they complete their payment\n",
        "\n",
        "    selected_harness_size: The size of the harness the customer wants to buy\n",
        "    selected_boot_size: The size of the doggy boots the customer wants to buy\n",
        "    '''\n",
        "\n",
        "    # Estimate the customer's dog's boot size\n",
        "    estimated_boot_size = load_model_and_predict(selected_harness_size)\n",
        "\n",
        "    # Round to the nearest whole number because we don't sell partial sizes\n",
        "    estimated_boot_size = int(round(estimated_boot_size))\n",
        "\n",
        "    # Check if the boot size selected is appropriate\n",
        "    if selected_boot_size == estimated_boot_size:\n",
        "        # The selected boots are probably OK\n",
        "        return f\"Great choice! We think these boots will fit your avalanche dog well.\"\n",
        "\n",
        "    if selected_boot_size < estimated_boot_size:\n",
        "        # Selected boots might be too small\n",
        "        return \"The boots you have selected might be TOO SMALL for a dog as \"\\\n",
        "               f\"big as yours. We recommend a doggy boots size of {estimated_boot_size}.\"\n",
        "\n",
        "    if selected_boot_size > estimated_boot_size:\n",
        "        # Selected boots might be too big\n",
        "        return \"The boots you have selected might be TOO BIG for a dog as \"\\\n",
        "               f\"small as yours. We recommend a doggy boots size of {estimated_boot_size}.\"\n",
        "\n",
        "\n",
        "# Practice using our new warning system\n",
        "check_size_of_boots(selected_harness_size=55, selected_boot_size=39)"
      ],
      "metadata": {
        "colab": {
          "base_uri": "https://localhost:8080/",
          "height": 107
        },
        "id": "hbyj9Svv_aV8",
        "outputId": "94232a0a-9e28-4f46-e926-e945b964aad1"
      },
      "execution_count": null,
      "outputs": [
        {
          "output_type": "stream",
          "name": "stdout",
          "text": [
            "We've loaded a model with the following parameters:\n",
            "Intercept       5.719110\n",
            "harness_size    0.585925\n",
            "dtype: float64\n"
          ]
        },
        {
          "output_type": "execute_result",
          "data": {
            "text/plain": [
              "'The boots you have selected might be TOO BIG for a dog as small as yours. We recommend a doggy boots size of 38.'"
            ],
            "application/vnd.google.colaboratory.intrinsic+json": {
              "type": "string"
            }
          },
          "metadata": {},
          "execution_count": 33
        }
      ]
    },
    {
      "cell_type": "markdown",
      "source": [
        "KNOWLEDGE CHECK\n",
        "\n",
        "\n",
        "1. What makes machine-learning algorithms different from traditional algorithms?\n",
        "\n",
        "A. Machine-learning algorithms are always more complicated to build than traditional algorithms.\n",
        "\n",
        "B. Machine-learning algorithms must be trained every time they're used.\n",
        "\n",
        "C. Machine-learning algorithms are shaped by data directly as part of development. Traditional algorithms are based almost entirely on theory or on opinions of the person writing the code.\n",
        "\n",
        "2. When do we want to perform training?\n",
        "\n",
        "A. Whenever we want to use a model\n",
        "\n",
        "B. Only when we want to improve the model\n",
        "\n",
        "C. Every time we load a model from file\n",
        "\n",
        "3. What is the relationship between a model, an objective, and training data?\n",
        "\n",
        "A. The training data is used to make changes to the model. These changes help the model get better at achieving the objective.\n",
        "\n",
        "B. The training data is used to make changes to the objective. These changes help the objective be more like the model.\n",
        "\n",
        "C. The model is used to make changes to the training data. These changes help the training data get better at achieving the objective."
      ],
      "metadata": {
        "id": "MQJR9eC_AF11"
      }
    },
    {
      "cell_type": "code",
      "source": [
        "import seaborn as sns\n",
        "sns.boxplot(dataset['boot_size']);"
      ],
      "metadata": {
        "colab": {
          "base_uri": "https://localhost:8080/",
          "height": 430
        },
        "id": "gARgCpGvC0c0",
        "outputId": "20be312a-b4d6-4c4c-91d8-3c4ed01df825"
      },
      "execution_count": null,
      "outputs": [
        {
          "output_type": "display_data",
          "data": {
            "text/plain": [
              "<Figure size 640x480 with 1 Axes>"
            ],
            "image/png": "[encoded data removed]"
          },
          "metadata": {}
        }
      ]
    },
    {
      "cell_type": "code",
      "source": [
        "sns.boxplot(dataset['harness_size']);"
      ],
      "metadata": {
        "colab": {
          "base_uri": "https://localhost:8080/",
          "height": 430
        },
        "id": "swwhqrzWDfju",
        "outputId": "d918c8e3-f230-487e-fc9c-1f49eed825a6"
      },
      "execution_count": null,
      "outputs": [
        {
          "output_type": "display_data",
          "data": {
            "text/plain": [
              "<Figure size 640x480 with 1 Axes>"
            ],
            "image/png": "[encoded data removed]"
          },
          "metadata": {}
        }
      ]
    },
    {
      "cell_type": "markdown",
      "source": [
        "https://docs.google.com/spreadsheets/d/1Ku_Zpj8mXrrkYUsJBynQifTzKcKuCR4O/edit#gid=1967990280"
      ],
      "metadata": {
        "id": "SPxG71-2P0JW"
      }
    },
    {
      "cell_type": "code",
      "source": [
        "import pandas as pd\n",
        "import numpy as np\n",
        "import matplotlib.pyplot as plt\n",
        "import seaborn\n",
        "import sklearn\n",
        "\n",
        "from sklearn.preprocessing import OneHotEncoder\n",
        "from sklearn.model_selection import train_test_split"
      ],
      "metadata": {
        "id": "Cd_EMxrsOfpP"
      },
      "execution_count": null,
      "outputs": []
    },
    {
      "cell_type": "code",
      "source": [
        "from google.colab import files\n",
        "uploaded = files.upload()"
      ],
      "metadata": {
        "colab": {
          "base_uri": "https://localhost:8080/",
          "height": 74
        },
        "id": "1JZkrJwPTx_A",
        "outputId": "52b3e41b-378b-4d58-cd92-a91d38610c3d"
      },
      "execution_count": null,
      "outputs": [
        {
          "output_type": "display_data",
          "data": {
            "text/plain": [
              "<IPython.core.display.HTML object>"
            ],
            "text/html": [
              "\n",
              "     <input type=\"file\" id=\"files-54eef4e7-9534-415c-a07e-a5bcf1261e02\" name=\"files[]\" multiple disabled\n",
              "        style=\"border:none\" />\n",
              "     <output id=\"result-54eef4e7-9534-415c-a07e-a5bcf1261e02\">\n",
              "      Upload widget is only available when the cell has been executed in the\n",
              "      current browser session. Please rerun this cell to enable.\n",
              "      </output>\n",
              "      <script>// Copyright 2017 Google LLC\n",
              "//\n",
              "// Licensed under the Apache License, Version 2.0 (the \"License\");\n",
              "// you may not use this file except in compliance with the License.\n",
              "// You may obtain a copy of the License at\n",
              "//\n",
              "//      http://www.apache.org/licenses/LICENSE-2.0\n",
              "//\n",
              "// Unless required by applicable law or agreed to in writing, software\n",
              "// distributed under the License is distributed on an \"AS IS\" BASIS,\n",
              "// WITHOUT WARRANTIES OR CONDITIONS OF ANY KIND, either express or implied.\n",
              "// See the License for the specific language governing permissions and\n",
              "// limitations under the License.\n",
              "\n",
              "/**\n",
              " * @fileoverview Helpers for google.colab Python module.\n",
              " */\n",
              "(function(scope) {\n",
              "function span(text, styleAttributes = {}) {\n",
              "  const element = document.createElement('span');\n",
              "  element.textContent = text;\n",
              "  for (const key of Object.keys(styleAttributes)) {\n",
              "    element.style[key] = styleAttributes[key];\n",
              "  }\n",
              "  return element;\n",
              "}\n",
              "\n",
              "// Max number of bytes which will be uploaded at a time.\n",
              "const MAX_PAYLOAD_SIZE = 100 * 1024;\n",
              "\n",
              "function _uploadFiles(inputId, outputId) {\n",
              "  const steps = uploadFilesStep(inputId, outputId);\n",
              "  const outputElement = document.getElementById(outputId);\n",
              "  // Cache steps on the outputElement to make it available for the next call\n",
              "  // to uploadFilesContinue from Python.\n",
              "  outputElement.steps = steps;\n",
              "\n",
              "  return _uploadFilesContinue(outputId);\n",
              "}\n",
              "\n",
              "// This is roughly an async generator (not supported in the browser yet),\n",
              "// where there are multiple asynchronous steps and the Python side is going\n",
              "// to poll for completion of each step.\n",
              "// This uses a Promise to block the python side on completion of each step,\n",
              "// then passes the result of the previous step as the input to the next step.\n",
              "function _uploadFilesContinue(outputId) {\n",
              "  const outputElement = document.getElementById(outputId);\n",
              "  const steps = outputElement.steps;\n",
              "\n",
              "  const next = steps.next(outputElement.lastPromiseValue);\n",
              "  return Promise.resolve(next.value.promise).then((value) => {\n",
              "    // Cache the last promise value to make it available to the next\n",
              "    // step of the generator.\n",
              "    outputElement.lastPromiseValue = value;\n",
              "    return next.value.response;\n",
              "  });\n",
              "}\n",
              "\n",
              "/**\n",
              " * Generator function which is called between each async step of the upload\n",
              " * process.\n",
              " * @param {string} inputId Element ID of the input file picker element.\n",
              " * @param {string} outputId Element ID of the output display.\n",
              " * @return {!Iterable<!Object>} Iterable of next steps.\n",
              " */\n",
              "function* uploadFilesStep(inputId, outputId) {\n",
              "  const inputElement = document.getElementById(inputId);\n",
              "  inputElement.disabled = false;\n",
              "\n",
              "  const outputElement = document.getElementById(outputId);\n",
              "  outputElement.innerHTML = '';\n",
              "\n",
              "  const pickedPromise = new Promise((resolve) => {\n",
              "    inputElement.addEventListener('change', (e) => {\n",
              "      resolve(e.target.files);\n",
              "    });\n",
              "  });\n",
              "\n",
              "  const cancel = document.createElement('button');\n",
              "  inputElement.parentElement.appendChild(cancel);\n",
              "  cancel.textContent = 'Cancel upload';\n",
              "  const cancelPromise = new Promise((resolve) => {\n",
              "    cancel.onclick = () => {\n",
              "      resolve(null);\n",
              "    };\n",
              "  });\n",
              "\n",
              "  // Wait for the user to pick the files.\n",
              "  const files = yield {\n",
              "    promise: Promise.race([pickedPromise, cancelPromise]),\n",
              "    response: {\n",
              "      action: 'starting',\n",
              "    }\n",
              "  };\n",
              "\n",
              "  cancel.remove();\n",
              "\n",
              "  // Disable the input element since further picks are not allowed.\n",
              "  inputElement.disabled = true;\n",
              "\n",
              "  if (!files) {\n",
              "    return {\n",
              "      response: {\n",
              "        action: 'complete',\n",
              "      }\n",
              "    };\n",
              "  }\n",
              "\n",
              "  for (const file of files) {\n",
              "    const li = document.createElement('li');\n",
              "    li.append(span(file.name, {fontWeight: 'bold'}));\n",
              "    li.append(span(\n",
              "        `(${file.type || 'n/a'}) - ${file.size} bytes, ` +\n",
              "        `last modified: ${\n",
              "            file.lastModifiedDate ? file.lastModifiedDate.toLocaleDateString() :\n",
              "                                    'n/a'} - `));\n",
              "    const percent = span('0% done');\n",
              "    li.appendChild(percent);\n",
              "\n",
              "    outputElement.appendChild(li);\n",
              "\n",
              "    const fileDataPromise = new Promise((resolve) => {\n",
              "      const reader = new FileReader();\n",
              "      reader.onload = (e) => {\n",
              "        resolve(e.target.result);\n",
              "      };\n",
              "      reader.readAsArrayBuffer(file);\n",
              "    });\n",
              "    // Wait for the data to be ready.\n",
              "    let fileData = yield {\n",
              "      promise: fileDataPromise,\n",
              "      response: {\n",
              "        action: 'continue',\n",
              "      }\n",
              "    };\n",
              "\n",
              "    // Use a chunked sending to avoid message size limits. See b/62115660.\n",
              "    let position = 0;\n",
              "    do {\n",
              "      const length = Math.min(fileData.byteLength - position, MAX_PAYLOAD_SIZE);\n",
              "      const chunk = new Uint8Array(fileData, position, length);\n",
              "      position += length;\n",
              "\n",
              "      const base64 = btoa(String.fromCharCode.apply(null, chunk));\n",
              "      yield {\n",
              "        response: {\n",
              "          action: 'append',\n",
              "          file: file.name,\n",
              "          data: base64,\n",
              "        },\n",
              "      };\n",
              "\n",
              "      let percentDone = fileData.byteLength === 0 ?\n",
              "          100 :\n",
              "          Math.round((position / fileData.byteLength) * 100);\n",
              "      percent.textContent = `${percentDone}% done`;\n",
              "\n",
              "    } while (position < fileData.byteLength);\n",
              "  }\n",
              "\n",
              "  // All done.\n",
              "  yield {\n",
              "    response: {\n",
              "      action: 'complete',\n",
              "    }\n",
              "  };\n",
              "}\n",
              "\n",
              "scope.google = scope.google || {};\n",
              "scope.google.colab = scope.google.colab || {};\n",
              "scope.google.colab._files = {\n",
              "  _uploadFiles,\n",
              "  _uploadFilesContinue,\n",
              "};\n",
              "})(self);\n",
              "</script> "
            ]
          },
          "metadata": {}
        },
        {
          "output_type": "stream",
          "name": "stdout",
          "text": [
            "Saving AI_Invasion_In-Class_Dataset.xlsx to AI_Invasion_In-Class_Dataset.xlsx\n"
          ]
        }
      ]
    },
    {
      "cell_type": "code",
      "source": [
        "import io\n",
        "df = pd.read_excel(io.BytesIO(uploaded['AI_Invasion_In-Class_Dataset.xlsx']))"
      ],
      "metadata": {
        "id": "20cxtAttURbF"
      },
      "execution_count": null,
      "outputs": []
    },
    {
      "cell_type": "code",
      "source": [
        "df.head()"
      ],
      "metadata": {
        "colab": {
          "base_uri": "https://localhost:8080/",
          "height": 206
        },
        "id": "24p0TJ-bU3tc",
        "outputId": "f3328ab1-0999-40ad-a3b1-68ca7ea79299"
      },
      "execution_count": null,
      "outputs": [
        {
          "output_type": "execute_result",
          "data": {
            "text/plain": [
              "  Location          Maker           Model  Year  Colour  Amount (Million ₦)  \\\n",
              "0    Abuja  Mercedes-Benz         GLA 250  2015   Brown               14.50   \n",
              "1    Abuja        Hyundai          Accent  2013     Red                1.55   \n",
              "2    Lagos          Lexus  GX 460 Premium  2011   White               14.00   \n",
              "3    Lagos          Lexus          ES 350  2011    Gray                4.95   \n",
              "4   Ibadan         Toyota       Verso 1.6  2009  Silver                1.69   \n",
              "\n",
              "            Type  Distance_Km  \n",
              "0   Foreign Used      50000.0  \n",
              "1  Nigerian Used          NaN  \n",
              "2   Foreign Used      85000.0  \n",
              "3   Foreign Used          NaN  \n",
              "4  Nigerian Used     118906.0  "
            ],
            "text/html": [
              "\n",
              "  <div id=\"df-a04da518-da2f-4e88-b0fa-361eaeaa82a4\">\n",
              "    <div class=\"colab-df-container\">\n",
              "      <div>\n",
              "<style scoped>\n",
              "    .dataframe tbody tr th:only-of-type {\n",
              "        vertical-align: middle;\n",
              "    }\n",
              "\n",
              "    .dataframe tbody tr th {\n",
              "        vertical-align: top;\n",
              "    }\n",
              "\n",
              "    .dataframe thead th {\n",
              "        text-align: right;\n",
              "    }\n",
              "</style>\n",
              "<table border=\"1\" class=\"dataframe\">\n",
              "  <thead>\n",
              "    <tr style=\"text-align: right;\">\n",
              "      <th></th>\n",
              "      <th>Location</th>\n",
              "      <th>Maker</th>\n",
              "      <th>Model</th>\n",
              "      <th>Year</th>\n",
              "      <th>Colour</th>\n",
              "      <th>Amount (Million ₦)</th>\n",
              "      <th>Type</th>\n",
              "      <th>Distance_Km</th>\n",
              "    </tr>\n",
              "  </thead>\n",
              "  <tbody>\n",
              "    <tr>\n",
              "      <th>0</th>\n",
              "      <td>Abuja</td>\n",
              "      <td>Mercedes-Benz</td>\n",
              "      <td>GLA 250</td>\n",
              "      <td>2015</td>\n",
              "      <td>Brown</td>\n",
              "      <td>14.50</td>\n",
              "      <td>Foreign Used</td>\n",
              "      <td>50000.0</td>\n",
              "    </tr>\n",
              "    <tr>\n",
              "      <th>1</th>\n",
              "      <td>Abuja</td>\n",
              "      <td>Hyundai</td>\n",
              "      <td>Accent</td>\n",
              "      <td>2013</td>\n",
              "      <td>Red</td>\n",
              "      <td>1.55</td>\n",
              "      <td>Nigerian Used</td>\n",
              "      <td>NaN</td>\n",
              "    </tr>\n",
              "    <tr>\n",
              "      <th>2</th>\n",
              "      <td>Lagos</td>\n",
              "      <td>Lexus</td>\n",
              "      <td>GX 460 Premium</td>\n",
              "      <td>2011</td>\n",
              "      <td>White</td>\n",
              "      <td>14.00</td>\n",
              "      <td>Foreign Used</td>\n",
              "      <td>85000.0</td>\n",
              "    </tr>\n",
              "    <tr>\n",
              "      <th>3</th>\n",
              "      <td>Lagos</td>\n",
              "      <td>Lexus</td>\n",
              "      <td>ES 350</td>\n",
              "      <td>2011</td>\n",
              "      <td>Gray</td>\n",
              "      <td>4.95</td>\n",
              "      <td>Foreign Used</td>\n",
              "      <td>NaN</td>\n",
              "    </tr>\n",
              "    <tr>\n",
              "      <th>4</th>\n",
              "      <td>Ibadan</td>\n",
              "      <td>Toyota</td>\n",
              "      <td>Verso 1.6</td>\n",
              "      <td>2009</td>\n",
              "      <td>Silver</td>\n",
              "      <td>1.69</td>\n",
              "      <td>Nigerian Used</td>\n",
              "      <td>118906.0</td>\n",
              "    </tr>\n",
              "  </tbody>\n",
              "</table>\n",
              "</div>\n",
              "      <button class=\"colab-df-convert\" onclick=\"convertToInteractive('df-a04da518-da2f-4e88-b0fa-361eaeaa82a4')\"\n",
              "              title=\"Convert this dataframe to an interactive table.\"\n",
              "              style=\"display:none;\">\n",
              "        \n",
              "  <svg xmlns=\"http://www.w3.org/2000/svg\" height=\"24px\"viewBox=\"0 0 24 24\"\n",
              "       width=\"24px\">\n",
              "    <path d=\"M0 0h24v24H0V0z\" fill=\"none\"/>\n",
              "    <path d=\"M18.56 5.44l.94 2.06.94-2.06 2.06-.94-2.06-.94-.94-2.06-.94 2.06-2.06.94zm-11 1L8.5 8.5l.94-2.06 2.06-.94-2.06-.94L8.5 2.5l-.94 2.06-2.06.94zm10 10l.94 2.06.94-2.06 2.06-.94-2.06-.94-.94-2.06-.94 2.06-2.06.94z\"/><path d=\"M17.41 7.96l-1.37-1.37c-.4-.4-.92-.59-1.43-.59-.52 0-1.04.2-1.43.59L10.3 9.45l-7.72 7.72c-.78.78-.78 2.05 0 2.83L4 21.41c.39.39.9.59 1.41.59.51 0 1.02-.2 1.41-.59l7.78-7.78 2.81-2.81c.8-.78.8-2.07 0-2.86zM5.41 20L4 18.59l7.72-7.72 1.47 1.35L5.41 20z\"/>\n",
              "  </svg>\n",
              "      </button>\n",
              "      \n",
              "  <style>\n",
              "    .colab-df-container {\n",
              "      display:flex;\n",
              "      flex-wrap:wrap;\n",
              "      gap: 12px;\n",
              "    }\n",
              "\n",
              "    .colab-df-convert {\n",
              "      background-color: #E8F0FE;\n",
              "      border: none;\n",
              "      border-radius: 50%;\n",
              "      cursor: pointer;\n",
              "      display: none;\n",
              "      fill: #1967D2;\n",
              "      height: 32px;\n",
              "      padding: 0 0 0 0;\n",
              "      width: 32px;\n",
              "    }\n",
              "\n",
              "    .colab-df-convert:hover {\n",
              "      background-color: #E2EBFA;\n",
              "      box-shadow: 0px 1px 2px rgba(60, 64, 67, 0.3), 0px 1px 3px 1px rgba(60, 64, 67, 0.15);\n",
              "      fill: #174EA6;\n",
              "    }\n",
              "\n",
              "    [theme=dark] .colab-df-convert {\n",
              "      background-color: #3B4455;\n",
              "      fill: #D2E3FC;\n",
              "    }\n",
              "\n",
              "    [theme=dark] .colab-df-convert:hover {\n",
              "      background-color: #434B5C;\n",
              "      box-shadow: 0px 1px 3px 1px rgba(0, 0, 0, 0.15);\n",
              "      filter: drop-shadow(0px 1px 2px rgba(0, 0, 0, 0.3));\n",
              "      fill: #FFFFFF;\n",
              "    }\n",
              "  </style>\n",
              "\n",
              "      <script>\n",
              "        const buttonEl =\n",
              "          document.querySelector('#df-a04da518-da2f-4e88-b0fa-361eaeaa82a4 button.colab-df-convert');\n",
              "        buttonEl.style.display =\n",
              "          google.colab.kernel.accessAllowed ? 'block' : 'none';\n",
              "\n",
              "        async function convertToInteractive(key) {\n",
              "          const element = document.querySelector('#df-a04da518-da2f-4e88-b0fa-361eaeaa82a4');\n",
              "          const dataTable =\n",
              "            await google.colab.kernel.invokeFunction('convertToInteractive',\n",
              "                                                     [key], {});\n",
              "          if (!dataTable) return;\n",
              "\n",
              "          const docLinkHtml = 'Like what you see? Visit the ' +\n",
              "            '<a target=\"_blank\" href=https://colab.research.google.com/notebooks/data_table.ipynb>data table notebook</a>'\n",
              "            + ' to learn more about interactive tables.';\n",
              "          element.innerHTML = '';\n",
              "          dataTable['output_type'] = 'display_data';\n",
              "          await google.colab.output.renderOutput(dataTable, element);\n",
              "          const docLink = document.createElement('div');\n",
              "          docLink.innerHTML = docLinkHtml;\n",
              "          element.appendChild(docLink);\n",
              "        }\n",
              "      </script>\n",
              "    </div>\n",
              "  </div>\n",
              "  "
            ]
          },
          "metadata": {},
          "execution_count": 39
        }
      ]
    },
    {
      "cell_type": "code",
      "source": [
        "df.info()"
      ],
      "metadata": {
        "colab": {
          "base_uri": "https://localhost:8080/"
        },
        "id": "FXH1p87EPmC3",
        "outputId": "e632fd34-2c5a-4d1a-9f6f-507add2b0bf1"
      },
      "execution_count": null,
      "outputs": [
        {
          "output_type": "stream",
          "name": "stdout",
          "text": [
            "<class 'pandas.core.frame.DataFrame'>\n",
            "RangeIndex: 4487 entries, 0 to 4486\n",
            "Data columns (total 8 columns):\n",
            " #   Column              Non-Null Count  Dtype  \n",
            "---  ------              --------------  -----  \n",
            " 0   Location            4487 non-null   object \n",
            " 1   Maker               4487 non-null   object \n",
            " 2   Model               4487 non-null   object \n",
            " 3   Year                4487 non-null   int64  \n",
            " 4   Colour              4487 non-null   object \n",
            " 5   Amount (Million ₦)  4487 non-null   float64\n",
            " 6   Type                4487 non-null   object \n",
            " 7   Distance_Km         2932 non-null   float64\n",
            "dtypes: float64(2), int64(1), object(5)\n",
            "memory usage: 280.6+ KB\n"
          ]
        }
      ]
    },
    {
      "cell_type": "code",
      "source": [
        "df.describe()"
      ],
      "metadata": {
        "colab": {
          "base_uri": "https://localhost:8080/",
          "height": 300
        },
        "id": "Yfh3BTUQRKFU",
        "outputId": "a8d107a9-1941-4b57-c5b6-460250c18eff"
      },
      "execution_count": null,
      "outputs": [
        {
          "output_type": "execute_result",
          "data": {
            "text/plain": [
              "              Year  Amount (Million ₦)   Distance_Km\n",
              "count  4487.000000         4487.000000  2.932000e+03\n",
              "mean   2011.095610           11.309795  1.010383e+05\n",
              "std       4.823362           20.585915  1.150914e+05\n",
              "min    1982.000000            0.420000  1.000000e+00\n",
              "25%    2008.000000            3.600000  5.237850e+04\n",
              "50%    2011.000000            5.700000  7.900000e+04\n",
              "75%    2014.000000           12.000000  1.099392e+05\n",
              "max    2022.000000          454.000000  1.785448e+06"
            ],
            "text/html": [
              "\n",
              "  <div id=\"df-64ced1e7-d01d-48df-9bab-85c0f0361231\">\n",
              "    <div class=\"colab-df-container\">\n",
              "      <div>\n",
              "<style scoped>\n",
              "    .dataframe tbody tr th:only-of-type {\n",
              "        vertical-align: middle;\n",
              "    }\n",
              "\n",
              "    .dataframe tbody tr th {\n",
              "        vertical-align: top;\n",
              "    }\n",
              "\n",
              "    .dataframe thead th {\n",
              "        text-align: right;\n",
              "    }\n",
              "</style>\n",
              "<table border=\"1\" class=\"dataframe\">\n",
              "  <thead>\n",
              "    <tr style=\"text-align: right;\">\n",
              "      <th></th>\n",
              "      <th>Year</th>\n",
              "      <th>Amount (Million ₦)</th>\n",
              "      <th>Distance_Km</th>\n",
              "    </tr>\n",
              "  </thead>\n",
              "  <tbody>\n",
              "    <tr>\n",
              "      <th>count</th>\n",
              "      <td>4487.000000</td>\n",
              "      <td>4487.000000</td>\n",
              "      <td>2.932000e+03</td>\n",
              "    </tr>\n",
              "    <tr>\n",
              "      <th>mean</th>\n",
              "      <td>2011.095610</td>\n",
              "      <td>11.309795</td>\n",
              "      <td>1.010383e+05</td>\n",
              "    </tr>\n",
              "    <tr>\n",
              "      <th>std</th>\n",
              "      <td>4.823362</td>\n",
              "      <td>20.585915</td>\n",
              "      <td>1.150914e+05</td>\n",
              "    </tr>\n",
              "    <tr>\n",
              "      <th>min</th>\n",
              "      <td>1982.000000</td>\n",
              "      <td>0.420000</td>\n",
              "      <td>1.000000e+00</td>\n",
              "    </tr>\n",
              "    <tr>\n",
              "      <th>25%</th>\n",
              "      <td>2008.000000</td>\n",
              "      <td>3.600000</td>\n",
              "      <td>5.237850e+04</td>\n",
              "    </tr>\n",
              "    <tr>\n",
              "      <th>50%</th>\n",
              "      <td>2011.000000</td>\n",
              "      <td>5.700000</td>\n",
              "      <td>7.900000e+04</td>\n",
              "    </tr>\n",
              "    <tr>\n",
              "      <th>75%</th>\n",
              "      <td>2014.000000</td>\n",
              "      <td>12.000000</td>\n",
              "      <td>1.099392e+05</td>\n",
              "    </tr>\n",
              "    <tr>\n",
              "      <th>max</th>\n",
              "      <td>2022.000000</td>\n",
              "      <td>454.000000</td>\n",
              "      <td>1.785448e+06</td>\n",
              "    </tr>\n",
              "  </tbody>\n",
              "</table>\n",
              "</div>\n",
              "      <button class=\"colab-df-convert\" onclick=\"convertToInteractive('df-64ced1e7-d01d-48df-9bab-85c0f0361231')\"\n",
              "              title=\"Convert this dataframe to an interactive table.\"\n",
              "              style=\"display:none;\">\n",
              "        \n",
              "  <svg xmlns=\"http://www.w3.org/2000/svg\" height=\"24px\"viewBox=\"0 0 24 24\"\n",
              "       width=\"24px\">\n",
              "    <path d=\"M0 0h24v24H0V0z\" fill=\"none\"/>\n",
              "    <path d=\"M18.56 5.44l.94 2.06.94-2.06 2.06-.94-2.06-.94-.94-2.06-.94 2.06-2.06.94zm-11 1L8.5 8.5l.94-2.06 2.06-.94-2.06-.94L8.5 2.5l-.94 2.06-2.06.94zm10 10l.94 2.06.94-2.06 2.06-.94-2.06-.94-.94-2.06-.94 2.06-2.06.94z\"/><path d=\"M17.41 7.96l-1.37-1.37c-.4-.4-.92-.59-1.43-.59-.52 0-1.04.2-1.43.59L10.3 9.45l-7.72 7.72c-.78.78-.78 2.05 0 2.83L4 21.41c.39.39.9.59 1.41.59.51 0 1.02-.2 1.41-.59l7.78-7.78 2.81-2.81c.8-.78.8-2.07 0-2.86zM5.41 20L4 18.59l7.72-7.72 1.47 1.35L5.41 20z\"/>\n",
              "  </svg>\n",
              "      </button>\n",
              "      \n",
              "  <style>\n",
              "    .colab-df-container {\n",
              "      display:flex;\n",
              "      flex-wrap:wrap;\n",
              "      gap: 12px;\n",
              "    }\n",
              "\n",
              "    .colab-df-convert {\n",
              "      background-color: #E8F0FE;\n",
              "      border: none;\n",
              "      border-radius: 50%;\n",
              "      cursor: pointer;\n",
              "      display: none;\n",
              "      fill: #1967D2;\n",
              "      height: 32px;\n",
              "      padding: 0 0 0 0;\n",
              "      width: 32px;\n",
              "    }\n",
              "\n",
              "    .colab-df-convert:hover {\n",
              "      background-color: #E2EBFA;\n",
              "      box-shadow: 0px 1px 2px rgba(60, 64, 67, 0.3), 0px 1px 3px 1px rgba(60, 64, 67, 0.15);\n",
              "      fill: #174EA6;\n",
              "    }\n",
              "\n",
              "    [theme=dark] .colab-df-convert {\n",
              "      background-color: #3B4455;\n",
              "      fill: #D2E3FC;\n",
              "    }\n",
              "\n",
              "    [theme=dark] .colab-df-convert:hover {\n",
              "      background-color: #434B5C;\n",
              "      box-shadow: 0px 1px 3px 1px rgba(0, 0, 0, 0.15);\n",
              "      filter: drop-shadow(0px 1px 2px rgba(0, 0, 0, 0.3));\n",
              "      fill: #FFFFFF;\n",
              "    }\n",
              "  </style>\n",
              "\n",
              "      <script>\n",
              "        const buttonEl =\n",
              "          document.querySelector('#df-64ced1e7-d01d-48df-9bab-85c0f0361231 button.colab-df-convert');\n",
              "        buttonEl.style.display =\n",
              "          google.colab.kernel.accessAllowed ? 'block' : 'none';\n",
              "\n",
              "        async function convertToInteractive(key) {\n",
              "          const element = document.querySelector('#df-64ced1e7-d01d-48df-9bab-85c0f0361231');\n",
              "          const dataTable =\n",
              "            await google.colab.kernel.invokeFunction('convertToInteractive',\n",
              "                                                     [key], {});\n",
              "          if (!dataTable) return;\n",
              "\n",
              "          const docLinkHtml = 'Like what you see? Visit the ' +\n",
              "            '<a target=\"_blank\" href=https://colab.research.google.com/notebooks/data_table.ipynb>data table notebook</a>'\n",
              "            + ' to learn more about interactive tables.';\n",
              "          element.innerHTML = '';\n",
              "          dataTable['output_type'] = 'display_data';\n",
              "          await google.colab.output.renderOutput(dataTable, element);\n",
              "          const docLink = document.createElement('div');\n",
              "          docLink.innerHTML = docLinkHtml;\n",
              "          element.appendChild(docLink);\n",
              "        }\n",
              "      </script>\n",
              "    </div>\n",
              "  </div>\n",
              "  "
            ]
          },
          "metadata": {},
          "execution_count": 41
        }
      ]
    },
    {
      "cell_type": "code",
      "source": [
        "df.columns"
      ],
      "metadata": {
        "colab": {
          "base_uri": "https://localhost:8080/"
        },
        "id": "YzI8xALJRNqT",
        "outputId": "39d21dc4-ae4a-4364-cb27-180d80e64924"
      },
      "execution_count": null,
      "outputs": [
        {
          "output_type": "execute_result",
          "data": {
            "text/plain": [
              "Index(['Location', 'Maker', 'Model', 'Year', 'Colour', 'Amount (Million ₦)',\n",
              "       'Type', 'Distance_Km'],\n",
              "      dtype='object')"
            ]
          },
          "metadata": {},
          "execution_count": 42
        }
      ]
    },
    {
      "cell_type": "code",
      "source": [
        "df.isnull().sum()"
      ],
      "metadata": {
        "colab": {
          "base_uri": "https://localhost:8080/"
        },
        "id": "-YfEdhU0RSCH",
        "outputId": "fb4836d2-7e37-4901-dc60-1640d86d39a5"
      },
      "execution_count": null,
      "outputs": [
        {
          "output_type": "execute_result",
          "data": {
            "text/plain": [
              "Location                 0\n",
              "Maker                    0\n",
              "Model                    0\n",
              "Year                     0\n",
              "Colour                   0\n",
              "Amount (Million ₦)       0\n",
              "Type                     0\n",
              "Distance_Km           1555\n",
              "dtype: int64"
            ]
          },
          "metadata": {},
          "execution_count": 43
        }
      ]
    },
    {
      "cell_type": "code",
      "source": [
        "mean_value = df[\"Distance_Km\"].mean()\n",
        "print(mean_value)\n",
        "\n",
        "df[\"Distance_Km\"].fillna(mean_value, inplace=True)"
      ],
      "metadata": {
        "colab": {
          "base_uri": "https://localhost:8080/"
        },
        "id": "fLp0eyG7RVtk",
        "outputId": "50f05687-2876-461d-aa7c-7e234786abb6"
      },
      "execution_count": null,
      "outputs": [
        {
          "output_type": "stream",
          "name": "stdout",
          "text": [
            "101038.32128240108\n"
          ]
        }
      ]
    },
    {
      "cell_type": "code",
      "source": [
        "df.isnull().sum()"
      ],
      "metadata": {
        "id": "XEKNMarhZd-7",
        "outputId": "4a64603d-711b-4187-82e4-ed4e19e1dd22",
        "colab": {
          "base_uri": "https://localhost:8080/"
        }
      },
      "execution_count": null,
      "outputs": [
        {
          "output_type": "execute_result",
          "data": {
            "text/plain": [
              "Location              0\n",
              "Maker                 0\n",
              "Model                 0\n",
              "Year                  0\n",
              "Colour                0\n",
              "Amount (Million ₦)    0\n",
              "Type                  0\n",
              "Distance_Km           0\n",
              "dtype: int64"
            ]
          },
          "metadata": {},
          "execution_count": 45
        }
      ]
    },
    {
      "cell_type": "code",
      "source": [
        "cat_features = {\n",
        "    \"Location\",\n",
        "    \"Model\",\n",
        "    \"Maker\",\n",
        "    \"Year\",\n",
        "    \"Colour\",\n",
        "    \"Type\",\n",
        "}\n",
        "\n",
        "for cat_feature in cat_features:\n",
        "  print(cat_feature, df[cat_feature].unique(), sep=\":\")\n",
        "  print(\"#\"*50)"
      ],
      "metadata": {
        "id": "xBg2qTg-Zjsj",
        "outputId": "bb34648f-b5d6-40ea-8da1-d0b0eae3ba96",
        "colab": {
          "base_uri": "https://localhost:8080/"
        }
      },
      "execution_count": null,
      "outputs": [
        {
          "output_type": "stream",
          "name": "stdout",
          "text": [
            "Colour:['Brown' 'Red' 'White' 'Gray' 'Silver' 'Black' 'Blue' 'Gold' 'Green'\n",
            " 'Beige' 'Purple' 'Orange' 'Burgandy' 'Ivory' 'Pink' 'Pearl' 'Yellow'\n",
            " 'Luury' 'Teal']\n",
            "##################################################\n",
            "Model:['GLA 250' 'Accent' 'GX 460 Premium' 'ES 350' 'Verso 1.6' 'Corolla 1.8 LE'\n",
            " 'E350' 'GL-Class' 'RX 350 AWD' 'Land Cruiser 3.5 V6' 'Matrix'\n",
            " 'Land Cruiser' 'C350' 'Corolla' 'IS 250 4WD' 'Venza V6' 'CX-7' 'RX 350'\n",
            " 'Highlander Limited 4x4' 'RX' 'RX 350 F Sport AWD' 'Camry'\n",
            " 'Land Cruiser 5.7 V8 VX-S' 'GLK-Class' 'Avalon' 'GS 300' 'Accord'\n",
            " '4-Runner' 'Civic' 'ES 330 Sedan' 'Corolla LE (1.8L 4cyl 2A)' 'Santa Fe'\n",
            " 'Highlander' 'Elantra' '4-Runner Limited V6' 'Venza Limited FWD V6'\n",
            " 'M Class ML 350 4Matic' 'M Class' 'Hyundai Kona' 'C300'\n",
            " 'Camry XLE V6 FWD' 'Range Rover Velar' 'IS 250' 'Highlander Limited'\n",
            " 'RAV4 Limited FWD' 'Cayenne' 'RX 330' 'RDX' 'Corolla XSE (1.8L 4cyl 2A)'\n",
            " 'Micra' 'Vibe 2.4L' 'Tacoma TRD Sport' 'Focus 1.8 TDDi Viva' 'GX 460'\n",
            " 'RAV4 Limited V6 4x4' 'Commander Limited 4x4' 'Tundra' 'Sonata' 'RAV4'\n",
            " 'F-150' 'GX' 'GS 300 Automatic' 'Sienna' 'Altima' 'Hyundai Ioniq'\n",
            " 'Tacoma' 'CLA-Class' 'Venza V6 AWD' 'MDX SUV 4dr AWD (3.7 6cyl 5A)'\n",
            " 'Optima' 'Highlander V6 AWD' 'C250' 206 'GLK-Class 350 4MATIC'\n",
            " 'ES 350 FWD' 'LX 450d' 'F-150 SuperCab 4x4' 'Avensis' 'Equus' 'ES'\n",
            " 'Camry XSE (2.5L 4cyl 8A)' 'GLE-Class' 'CR-V' 'C43' 'Sienna LE 4WD'\n",
            " 'RX 300 4WD' 'Accord 2.4 EX' 'Highlander Sport' 'Venza AWD'\n",
            " 'Pilot EX-L 4x4 (3.5L 6cyl 5A)' 'Camry SE FWD (2.5L 4cyl 8AM)'\n",
            " '6 I Sport' 'Range Rover' 'RX 350 4WD' 'GX 460 Base' 'E550'\n",
            " 'Pilot EX 4x4 (3.5L 6cyl 5A)' '528i' 'Venza LE AWD V6' 'CR-V LX AWD'\n",
            " '5 Series' 'Morning' '328i' 'Edge SE 4dr FWD (3.5L 6cyl 6A)' 'GLA-Class'\n",
            " 'A-Class a 220 4MATIC' 'RX 350L Luxury FWD' 'Highlander Limited V6 4x4'\n",
            " 'Highlander Limited V6' 'Accord Sport 2.0T' 'Hilux'\n",
            " 'GX 470 Sport Utility' 508 'RX 330 AWD' '4-Runner Limited V6 4x4'\n",
            " 'LX 570 (5 Seats) AWD' 'Land Cruiser Prado 2.8' 'E55' 'Almera'\n",
            " 'Corolla S' 'Venza' 'Outlander XLS' 'Accord Sedan LX 3 V6 Automatic'\n",
            " 'Land Cruiser Prado 4 I' 'GL-Class GL 450' 307 'Sportage 2 2WD LX' 'Vibe'\n",
            " 'RAM' 'Titan Crew Cab SE 4x4' 'LX' 'X Class'\n",
            " 'Range Rover Evoque Pure Plus AWD' 'Camry XSE FWD (2.5L 4cyl 8AM)'\n",
            " 'Highlander Sport 4x4' 'Element LX Automatic' 'Genesis 5 RWD'\n",
            " 'RAV4 Limited V6' 'Odyssey' 'E300' 'LX 570 AWD' 'ES 330' 'Sequoia'\n",
            " 'Accord EX-L 2.0T' 'MDX' 'Aveo' 'RAV4 2.5 Sport 4x4' 'Explorer' 'iM Base'\n",
            " 'H300' 'Elantra Limited' 'SLK-Class' 'Highlander 4x4' 'Avalon Limited'\n",
            " 'X3' '307 2 CC' 'Tacoma TRD Off Road' 'ES 300'\n",
            " 'Civic 1.4i Sport Automatic' 'Escape' 'A4' '128i' 'Edge' 'C320'\n",
            " 'G-Class G 65 AMG 4MATIC' 'RX 330 AWD Off' 'RX 330 4WD'\n",
            " 'Corolla L 4-Speed Automatic' 'Land Cruiser Prado 2.7' 'Wrangler' '535i'\n",
            " 'Camaro' 'Quest 3.5' 'Challenger' 'IS' 'GS 350' 'LS'\n",
            " 'Land Cruiser 5.7 V8 VXR' 'RAV4 XLE FWD' 'Venza XLE AWD V6' 'GX 470'\n",
            " 'RAV4 2 4x4' 'Dyna' 'Corolla Verso 1.8' 'Corolla LE Eco (1.8L 4cyl 2A)'\n",
            " 'Avensis 2 D Verso' 'Tacoma 4x4 Double Cab'\n",
            " '4-Runner Sport Edition 4x4 V6' 'G-Class Base G 550 AWD'\n",
            " 'S-Class S 500 4MATIC L (V221)' 'Camry XLE FWD'\n",
            " 'Sienna LE AWD (3.3L V6 5A)' 'G-Class Base G 500 AWD' 'GX 460 Luxury'\n",
            " 'Land Cruiser Prado' 'CR-V 200i i-VTEC 4x4' 'A6 Avant 2.5 D'\n",
            " 'Tacoma Limited' '4-Runner Limited 4WD' 'C-Hr Limited FWD' 'NP300'\n",
            " 'LX 570' 'RAV4 Adventure AWD' 'G35' 'Camry 2.4 LE' 'GL-Class GL 550'\n",
            " 'RAV4 Sport V6 4x4' 'Solara 3.3 Coupe' 'Clubman Cooper' 'Yaris'\n",
            " 'RAV4 3.5 Limited 4x4' 'Passat 2 Sedan' 'GLK-Class 350'\n",
            " 'Highlander XLE AWD' 'RAV4 Limited' 'Corolla Verso 1.8 Luna' 'SX'\n",
            " 'Land Cruiser Prado 4' 'S-Class S 500 (W222)' 'Fusion SE AWD'\n",
            " 'RX 350L Luxury AWD' 'X5 xDrive40i AWD' 'E430' 'GS' 'Civic HF Sedan EX'\n",
            " 'Honda HR-V' 'GL Class' '300 300C RWD' 'Corolla LE'\n",
            " 'Range Rover Evoque Matt' 'Camry LE FWD (2.5L 4cyl 8AM)' 'GX 470 Off'\n",
            " 'G-Class' 'Hilux 2 VVT-i' 'Xterra SE' 'Trailrunner'\n",
            " 'Land Cruiser 4.5 V8 GXR' 'RX 300 2WD' 'C240' 'C400'\n",
            " 'RAV4 XLE Premium AWD' 'Hilux SR 4x4' '230E' 'CL' 'Almera Tino' 'Passat'\n",
            " 'S-Class Off' 'Range Rover Evoque' 'C-Class C 300 CDI 4MATIC (W204)'\n",
            " '4-Runner Limited 4x4 V6' 'Avalon XLS' 'Land Cruiser HDJ 100'\n",
            " 'Sharan 1.8 T' 'C70 Automatic' 'RX 450h' 'Veloster Automatic' 'GLS-Class'\n",
            " 'Ridgeline RTX' 'ZDX Base AWD' 'Pilot' 'Sienna CE AWD'\n",
            " 'Land Cruiser Prado 2.7 VVT-i' 'ES 250' 'Corolla Liftback'\n",
            " 'Tacoma Access Cab' 'Cooper Cabriolet' 'Sportage 2.0L Automatic'\n",
            " 'Edge SE 4dr AWD (3.5L 6cyl 6A) Off' 'Venza Limited AWD V6' 'CLS'\n",
            " 'Sentra 2 SL' 'B-Class' 'CR-V Touring AWD' 'X5 3.0i' 'Range Rover Vogue'\n",
            " 'Almera 1.6 Lux Automatic' 'Venza XLE AWD' 'Rolls-Royce Ghost Matt'\n",
            " 'S-Class S 550' 'Sienna XLE 7 Passenger' 'TL Automatic' 'Corolla SE'\n",
            " 'Altima 2.5' 'Sentra' 'X-Trail' 'Accord Sedan LX'\n",
            " 'Land Cruiser 5.7 V8 VX-S Matt' 'RAV4 2 VVT-i' '4-Runner Limited'\n",
            " 'G-Class G 63 AMG' 3008 'Range Rover Sport HSE 4x4 (5.0L 8cyl 6A)'\n",
            " 'RX 300' 'Hilux WORKMATE 4x4' 'Sharan' 'Genesis 3.8' 'TL SH-AWD'\n",
            " 'Rover Discovery' 'MDX 3.5L 4x4' 'MDX Tech & A-Spec Pkgs SH-AWD'\n",
            " 'RX 450hL Luxury AWD' 'Cruze' 'Sienna CE' 'Golf' '7 Series'\n",
            " 'Highlander Limited V6 FWD' 'LX 570 Three-Row' 'Aveo 1LT' 'SpaceWagon'\n",
            " 406 'GLC-Class' 'A4 3 TDI Automatic' 'JAC S2' 'Yaris 1.3 VVT-i'\n",
            " 'Corolla 1.4' 'Tiida' 'Highlander Limited 3.5l 4WD' 'Genesis 4.6'\n",
            " 'Corolla 1.8 VVTL-i TS' 'L200 Double Cab 2.5 180hp 4WD' 'Highlander V6'\n",
            " 'RX 350 FWD' 'Avalon 3' 'Carens' 'RAV4 2.2 D-4D GX' 'F-150 SuperCrew'\n",
            " 'Odyssey 2.4 4WD' 'RAV4 Sport' 'Elantra 1.6 GL' 'Ridgeline'\n",
            " 'Golf 2 GL 3-Door' 'Camry XSE V6 (3.5L V6 8A)' 'Sienna XLE'\n",
            " 'Accord 2 Comfort Automatic' 'Forester 2.5X Limited' '4-Runner Off'\n",
            " 'HS 250h' 'A6 2' 'JX 35' 'CR-V EX-L 4WD Automatic' 'Duster' 'Jetta'\n",
            " 'Highlander SE 3.5L 4WD' 'Sienna CE FWD (3.3L V6 5A)'\n",
            " 'Rolls-Royce Cullinan Base' 'Accord Sedan EX Automatic'\n",
            " 'CR-V 2.4 EX Automatic' 'Hilux 2.4 Diesel' 'RX 400h'\n",
            " 'M Class ML350 AWD 4MATIC' 'Sienna LE 7 Passenger' 'IS 350'\n",
            " 'Hilux 2.7 VVT-i 4X4 SRX' 'RC 350 AWD' 'C63' 'M Class ML 320'\n",
            " 'Freestar Wagon SE' 'M Class ML 350' 'IS 250 AWD'\n",
            " 'Solara 3.3 Convertible' 'Camry 2.4 SE Automatic' 'Land Cruiser 3.3 DT'\n",
            " 'RX 200t 2WD' 'Tacoma X Runner' 'CR-V EX Automatic' 'Elantra GLS'\n",
            " 'Acadia SLE AWD' 'Rio' '3 Series' 'Fortuner' 'RAV4 3.5 Sport 4x4'\n",
            " 'Mustang' 'IS 350 C' 'RAV4 3.5 Limited' 'Tacoma Access Cab V6 Automatic'\n",
            " 'RAV4 LE AWD' 'M Class ML 350 4x2' 'Tucson' 'GS 250'\n",
            " 'Corolla 1.4 D Automatic' 'Tacoma SR5' 'Sorento' 'Almera 1.6 Comfort'\n",
            " 'Grand Caravan' 'A3' 'Corolla SE (1.8L 4cyl 2A)'\n",
            " 'Highlander XLE 4x4 V6 (3.5L 6cyl 8A)' 'Corsa' 'S-Class' 'GL-Class 450'\n",
            " 'RAV4 LE AWD (2.5L 4cyl 6A)' 'Highlander Limited 3.5l 4WD Off'\n",
            " '407 2 Esplanade' 'RX 350L 4WD' 'Vibe 1.8L Off' 'X5' 'Fuga' 'RX 450H AWD'\n",
            " 'S Class S 63 AMG (W222)' 'EX 35' '75 2 Automatic' 407 'RAV4 XLE AWD'\n",
            " 'Prius' 'IS 200t' 'X6' 'Cooper' 'Quest S' 'Yaris 1.3' 'E63'\n",
            " 'Picnic 2 FWD' 'Camry SE FWD' 'Highlander SE' 'IVM 1021A'\n",
            " 'GL Class GL 450' 'C180' 'Vibe Automatic' 'Highlander 3.5L 4WD'\n",
            " 'Sienna XLE AWD (3.3L V6 5A)' 'Accord Sedan EX-L Automatic'\n",
            " 'Accord Coupe 3.5 EX-L Automatic' 'Montero 3.5 AWD' 'Forte EX'\n",
            " 'X4 xDrive28i Off' 'C200' 'Sienna SE 8 Passenger' 'CT' 'S Class'\n",
            " 'Highlander XLE FWD' 'IS 200 Limited' 'Challenger R/T Scat Pack RWD'\n",
            " 'Camry XSE FWD' 'Sienna LE & 1 Hatch' 'Accord Crosstour EX-L' 'Focus'\n",
            " 'Pathfinder LE RWD SUV (3.5L 6cyl 4A)' 'Camry 3.5 LE'\n",
            " 'Continental Mulliner R' 5008 'M Class ML 350 TEC 4Matic' 'RAV4 2.4'\n",
            " 'E320' '307 X-Line 1.6' 'Gx300' 'Cerato' 'Lite-Ace' '206 1.6 Automatic'\n",
            " 'Titan Crew Cab XE 4x4' 'Santa Fe 2.7 V6 4WD' 'QX'\n",
            " 'G-Class Base G 55 AMG 4x4' 'FJ Cruiser Base 4x4' 3\n",
            " 'Land Cruiser 4 V6 GXR' 'Zafira' 'Corolla 1.4 D-4d' 'Civic 1.8i VTEC'\n",
            " 'Corolla CE' '4-Runner SR5 4WD' 'C-Hr' 'Beetle' 626\n",
            " 'G-Class G 63 AMG 4MATIC' 'IS 250 AWD Automatic' 'Accord Sedan LX SE'\n",
            " 'Corolla 1.8 Exclusive Automatic' 'X5 3.0i Sport' 'Sienna XLE AWD'\n",
            " 'Traverse 1LT' 'Odyssey 2.4 2WD' 'MDX Base FWD' 'SL-Class'\n",
            " 'Tacoma Double Cab V6 4WD' 'Accord Automatic' 'Ranger XL' 'S40 a'\n",
            " 'Civic 1.8 DX' 'Qashqai' 'Cerato 1.6 LX Automatic'\n",
            " 'GX 470 Sport Utility Off' 'Bentley Continental' 'Sienna LE AWD'\n",
            " 'Sportage' 'Land Cruiser 5.7 V8 EXR' 'Highlander V6 4x4'\n",
            " 'Santa Fe Limited' 'Pathfinder' 'RX 350 XE 4x4' 'Honda Accord' 'Picanto'\n",
            " '6 Wagon' 'RX 350 4x4' 'A7' 'Accord Crosstour EX'\n",
            " 'Highlander Limited 3.5L 2WD' 'Tucson Limited AWD' 'Countryman S All4'\n",
            " 'MKS EcoBoost' 'Land Cruiser Prado 3 D-4d (190 Hp)' 'Maxima' 'tC Base'\n",
            " 'Pathfinder Automatic' 'Outlander' 'Rondo EX' 'Accord Sedan DX'\n",
            " 'M Class ML320 TEC AWD 4MATIC' datetime.datetime(2022, 5, 2, 0, 0) '550i'\n",
            " 'Camry XLE V6 (3.5L V6 8A)' 'Tucson GLS FWD' 'Jeep'\n",
            " 'Highlander XLE 4x2 V6 (3.5L 6cyl 8A)' 'xB Base' 'Accord Crosstour'\n",
            " 'Tacoma Double Cab V6 Automatic' 'CLA-Class Base CLA 250 FWD' '508 GT'\n",
            " 'IS 250 Automatic' 'E400' 'Highlander LE 4x4 V6 (3.5L 6cyl 8A)'\n",
            " 'IS 350 AWD' 'Soul Automatic' 'Xterra Automatic' 'Corolla Off'\n",
            " 'IS 250 SE' 'Sentra 2 CVT' 'Venza XLE FWD' 'Quest 3.5 SE'\n",
            " 'Range Rover Sport' 'RAV4 XLE AWD (2.5L 4cyl 6A)' 'Pick-Up'\n",
            " 'Tacoma Cab 4WD' 'Civic LX Sedan' 'Sentra SL' 'C230' 'R-Class'\n",
            " 'Avalon XLS W/ Bucket Seats' 'A-Class' 'IS 250 SE AWD'\n",
            " 'H2 SUV Sport Utility' 'Sorento 3.3L SXL FWD' 200 'Baja Automatic' 'I8'\n",
            " 'M Class ML 550 4Matic' 'Camry Automatic' 'Camry XLE FWD (2.5L 4cyl 8AM)'\n",
            " 'M Class Edition 10 ML 350 4Matic' 'Civic EX-L W/Navi Hatchback'\n",
            " 'Attrage' 'FX35 Base 4x2 (3.5L 6cyl 5A)' 'ES 350 F Sport FWD' 'H1'\n",
            " 'Land Cruiser 4.6 V8 GXR' 'Vue' '4-Runner Limited 4x4' 'GLE-Class Matt'\n",
            " 'CR-V EX-L FWD' 'Cadillac Escalade' 'Highlander LE 4x2 (2.7L 4cyl 6A)'\n",
            " 'RDX Base SH-AWD' 'Highlander Limited V6 AWD' 'Golf GTI'\n",
            " 'Challenger R/T CLASSIC' '206 GTi 180' 'Cooper S' 'CR-V 2 Automatic'\n",
            " 'Elantra 1.6 Automatic' 'Hyundai Sonata SEL Plus' 'GLK-Class 350 SUV'\n",
            " 'Accord Coupe 3.5 EX-L V6' 'MDX Base SH-AWD' 'Lamborghini Urus'\n",
            " 'CX-9 Sport' 'Micra Visia 1.2' 'Mustang V6 Premium' 'RAV4 V6'\n",
            " 'Land Cruiser Prado 3.4 5dr' 'F-150 SuperCab' 'Primera' 'Rogue' 'A8'\n",
            " 'Avalon XSE' 'Pilot EX 4dr SUV (3.5L 6cyl 5A)' 'Sienna LE'\n",
            " 'MDX Touring Package' 'CR-V 2 RVi' 'Corolla 140i GLE F-Lift'\n",
            " 'CR-V 2.4 EX-L Automatic' 'Vibe AWD' 'L400' 'M6 Coupe' 'Venza LE AWD'\n",
            " 'RAV4 2.5 Limited 4x4' 'LS 460 Luxury Sedan' 'QX56' 'M3 Coupe'\n",
            " 'Sienna XLE FWD' 'GLS-Class GLS450 4MATIC' 'Murano' '3 1.6i' '330i'\n",
            " 'Camry Hybrid' 'Pathfinder Platinum 4x4' 'Yaris 1.8 TS' 'Ranger'\n",
            " 'Escape XLS 4WD Automatic' 'Q30' 'Avensis 2 Advanced' '406 2.2 Coupe'\n",
            " 'Highlander XLE V6 4x2 (3.5L 6cyl 6A)' 'Sienna LE 7 Passenger Mobility'\n",
            " 'RAV4 Base AWD' 'Corolla 1.6 VVT-i' 'Hyundai Creta' 'Rover Lr3'\n",
            " '4-Runner Sport Edition' 'X3 3.0i' 'Tundra 4x4 SR5 Access Cab'\n",
            " 'A6 2.0T Premium FWD' 'RAV4 2 Automatic' 'RAV4 2.5 Limited'\n",
            " 'Enclave CXL AWD' 'Hilux 2 VVTi SRX'\n",
            " 'Land Cruiser Prado 3 D-4d (190 Hp) 7 Seats' 'RX 450H 4WD'\n",
            " 'CTS Automatic' 'Venza LE FWD' 'Range Rover Sport SE' 'Picnic'\n",
            " 'Sienna XLE Limited 4WD' 'Xterra' 'Legend 3.7 V6' 'Kia Rio'\n",
            " 'Edge SE 4dr AWD (3.5L 6cyl 6A)' 'Frontier SVE V6 King Cab 4WD'\n",
            " 'S-Class S 63 AMG 4MATIC (W222)' 'Navigator Luxury' 'Corolla 1.8 TS'\n",
            " '406 2' 'RX 350 F Sport AWD Off' 'Accord 3.5 EX-L Automatic'\n",
            " 'A-Class A 220 4MATIC' 'Sonata 2.4 GL' 'Golf 1.4' 'Accord 2.4 Executive'\n",
            " 'Cooper Clubman Classic' 'HiAce' 'Mustang EcoBoost Fastback' 'C450'\n",
            " 'LS 460 L RWD' 'Accord Sedan EX-L' 'Tribute s Grand Touring' 'RAV4 1.8'\n",
            " 'A8 4.2 Quattro' 'Avalon XLE' 'XC90 T6 AWD' 'NX 200t AWD'\n",
            " 'X-Trail SV Premium' 'X6 xDrive35i AWD' 'Noah 2 FWD (8 Seater)'\n",
            " 'RAV4 Sport 4x4' 'GS 450h' 'Ix35' 'Range Rover Sport HST MHEV 4x4'\n",
            " 'Tacoma 4dr Double Cab' 'Focus 2.5 ST' 'S-Class S 450 4MATIC (W222)'\n",
            " 'Land Cruiser 4.5 V8 VXR' 'S60' 'RAV4 2.5 4x4'\n",
            " 'Highlander Hybrid Limited' 'Highlander LE Plus' 'Odyssey EX-L'\n",
            " 'Corolla Sedan' '318i' 'Range Rover Sport 4.2 V8 SC' 'Vibe 1.8L'\n",
            " 'Tucson GLS AWD' 'RX 350 4x4 Matt' 'Clubman' 'E500 500 Sedan' 'ForTwo 1'\n",
            " 'Accord Crosstour EX-L W/Navigation AWD' 'XF 2.7'\n",
            " 'Land Cruiser 100 4.2 TD' 'Accord 2.4 EX Automatic' 'F-150 XLT'\n",
            " 'RX 350 F Sport FWD' '6 Series' 'NX' 'CR-V EX AWD' 'Vibe 1.8 AWD' '540i'\n",
            " 'Highlander V6 FWD' 'Accord 2.2 DTEC Estate' 'Countryman S'\n",
            " 'Land Cruiser J300 4' 300 'CLC' 'S-Class S 500 4MATIC L (V222)'\n",
            " 'Enclave CX AWD' 'Tribute 3.0s 4WD Automatic' 'S-Class S 63 AMG (W222)'\n",
            " 'Premacy' 'Rogue SL' 'FF' '320i' 'Traverse LTZ'\n",
            " 'L200 Double Cab 2.4 181hp 4WD' 'Tacoma PreRunner Access Cab'\n",
            " 'Phantom Coupe' '335i' 'ES 330 Off' 'Accord 2 Comfort' 'Urus'\n",
            " 'RAV4 2 4x4 VX Automatic' 'Camry LE (2.5L 4cyl 8A)' 'Frontier King Cab'\n",
            " 'Routan SEL' 'Land Cruiser Prado 3 TD' 'Terrain SLT-2 AWD'\n",
            " 'RAV4 3.5 Sport' 'Sentra 2' 'LX 570 Base' 'Highlander Hybrid 4x4'\n",
            " 'GLS-Class GLS550 4Matic' 'TL SH-AWD Automatic' '240SX' 'Land'\n",
            " 'Venza Off' 'Accord 2.4 Type S Automatic' 'Frontier' 'RC' 'Infiniti QX80'\n",
            " 'Accord 2.4 i-VTEC Exec Automatic' 'GS 350 4WD Matt' 'Fusion'\n",
            " 'RAV4 SE AWD (2.5L 4cyl 6A)' 'L200 Single Cab 2.5 TD 4WD' '300C SRT8 RWD'\n",
            " 'X5 xDrive50i AWD' 'Cayenne GTS' 'A6 3.2 FSI Quattro Automatic'\n",
            " 'Corolla L (1.8L 4cyl 2A)' 'LX 570 (5 seats) AWD' 'Traverse'\n",
            " 'Acadia SLE-1 AWD' 'Lincoln Navigator' 'S Class S 450 L (V222)'\n",
            " 'Torrent Base AWD' 'Corona' 'F-650' 'Sienna CE FWD'\n",
            " 'Accord Coupe 2.4ex-L Automatic' 'Escalade Off'\n",
            " 'Range Rover Velar P250 SE R-Dynamic 4x4' 'RAV4 LE FWD (2.5L 4cyl 6A)'\n",
            " 'TSX Automatic' 'Cooper John Cooper Works' 'Previa' 'Accord 2.4'\n",
            " 'Land Cruiser 5.7 V8 GXR' 'Creta' 'ILX' 'GLS-Class GLS450 4Matic'\n",
            " 'Camry 2.4 SE' 'Sienna XLE 7 Passenger Mobility' 'Corolla 1.8'\n",
            " 'CX-9 Grand Touring AWD' 'CR-V 2.0i LS Automatic' 'Serena'\n",
            " 'Accord 2 I-Vtec' 'Beetle 1.8 T' 'Sumo Victa Turbo DI' 'Avensis Sedan'\n",
            " 'Land Cruiser Prado 3 190hp' 'Tribute' 'Hilux 2.5 D-4d 4X4 SRX'\n",
            " 'Caliber 2.4 R/T' 'CLK' 'Highlander SE 4x4 V6 (3.5L 6cyl 8A)'\n",
            " '3 2.5 S Grand Touring Sedan' 'Ridgeline RTL'\n",
            " 'Range Rover Velar P380 HSE R-Dynamic 4x4' 'F-150 SuperCrew 4x4'\n",
            " 'Hyundai Palisade' 'Civic LX Hatchback' 'Camry SE (2.5L 4cyl 8A)' 'Sunny'\n",
            " 'Beetle 2.5' 'ES 350 Luxury FWD' 'Sienna XLE Limited'\n",
            " 'Accord 3.5 EX Automatic' 'Forte SX Hatchback' 'Express Cargo Van 1500'\n",
            " 'Explorer Sport Track Automatic' 'Hilux SR5+ 4x4'\n",
            " 'FJ Cruiser 4x4 Automatic' 'Sorento EX 4dr SUV (3.3L 6cyl 6A)' 1117\n",
            " 'Santa Fe Sport 2.0T Off' 'Outlander 2.4' 'Avanza'\n",
            " 'GLS-Class GLS63 AMG Base' 'M Class ML350 4x2' 'X5 3.0si Activity'\n",
            " 'Tacoma Double Cab V6' 'Escalade' 'Corolla 1.8 CE'\n",
            " 'Sienna XLE 7-Passenger AWD' '4-Runner Limited 2WD' 'C280' 'E-350'\n",
            " 'GL Class GL 550' 'Peugeot 5008 2 HDi 180 GT' 'Nissan Armada' 'M6' 'TL'\n",
            " 'C-HR' 'Accord Coupe EX-L' 'Range Rover Evoque HSE Dynamic 4x4 5-Door'\n",
            " 'RAV4 Automatic' 'CX-9 Grand Touring' 'Charger' 'Camry Off'\n",
            " '407 2 HDi ST Comfort' 'Versa 1.8 SL Hatchback' 'Land Cruiser Matt'\n",
            " 'Yaris Sedan' 'Camry 2.4 WT-i' '323i' 'Galaxy' '407 SW 3 V6 ST Sport'\n",
            " 'Frontier Crew Cab SE' 'Rush 1.5 RWD' 'Range Rover Sport Autobiography'\n",
            " 'CR-V EX 4dr SUV (2.4L 4cyl 5A)' '4-Runner Sport Edition 4x4 V8'\n",
            " 'Camry 2.4 XLE' 'Vibe 2.4 4WD' 'Altima Sedan 3.5 S'\n",
            " 'Camry 2.4 XLi Automatic' 'i8 1.5 Roadster' 'Highlander XLE' 'A5'\n",
            " 'Sienna LE FWD' 'ES 350 Luxury' 'RX 350L AWD' 'ES 350 Off' '206 1.4 D'\n",
            " 'RX 350 F SPORT AWD' 'CTS' 'RAV4 Limited AWD' '4-Runner Limited 4X4'\n",
            " 'Elantra Touring SE Automatic' 'TSX Sport Sedan' 'Passat 2' 'GLE43'\n",
            " '406 Break 1.8i' 'Pathfinder 4' 'Solara' 'CC' 'Charger RT'\n",
            " 'S-Class S 500 (W220)' 'Sorento EX'\n",
            " 'Highlander XLE V6 4x4 (3.5L 6cyl 6A)' 'Highlander Base FWD' 'Passat SE'\n",
            " 'IS 300 AWD' 'RX 350 2WD' 'Dart' 'Granvia' 'Fabia' 'Veloster' 'L200'\n",
            " 'Sienna 7 Passenger' 'A4 4.2' 220 'Highlander SE 3.5L 2WD' 'X5 4.8is'\n",
            " 'Pathfinder 4 V6 Automatic' 'C-Class C 300 (W204)' 'Malibu LS'\n",
            " 'C-HR Limited FWD' 'XC90' 'Frontier Automatic'\n",
            " 'Range Rover Velar P380 S 4x4' 'Santa Fe SE' 'Tucson Limited FWD'\n",
            " 'X5 4.8i Sports Activity' 'Elantra 2' 'F-150 Super Cab 4x4' 'Navigator'\n",
            " 'CX-9' 'CR-V LX 4WD Automatic' 'Outback']\n",
            "##################################################\n",
            "Location:['Abuja' 'Lagos' 'Ibadan']\n",
            "##################################################\n",
            "Maker:['Mercedes-Benz' 'Hyundai' 'Lexus' 'Toyota' 'Mazda' 'Honda' 'Land Rover'\n",
            " 'Porsche' 'Acura' 'Nissan' 'Pontiac' 'Ford' 'Jeep' 'Kia' 'Peugeot' 'BMW'\n",
            " 'Mitsubishi' 'Dodge' 'Chevrolet' 'Scion' 'Audi' 'Infiniti' 'Mini'\n",
            " 'Volkswagen' 'Suzuki' 'Chrysler' 'Volvo' 'Rolls-Royce' 'JAC' 'Subaru'\n",
            " 'Renault' 'GMC' 'Rover' 'IVM' 'Bentley' 'Opel' 'Lincoln' 'Hummer'\n",
            " 'Saturn' 'Cadillac' 'Lamborghini' 'Buick' 'Smart' 'Jaguar' 'Ferrari'\n",
            " 'Tata' 'Skoda']\n",
            "##################################################\n",
            "Year:[2015 2013 2011 2009 2008 2010 2014 2012 2022 2006 2021 2017 2007 2002\n",
            " 2016 2019 2020 2004 2018 2005 2003 2000 1999 2001 1989 1998 1982 1994\n",
            " 1993 1997]\n",
            "##################################################\n",
            "Type:['Foreign Used' 'Nigerian Used' 'Brand New']\n",
            "##################################################\n"
          ]
        }
      ]
    },
    {
      "cell_type": "code",
      "source": [
        "df.drop(\"Model\", axis=1, inplace=True)\n",
        "df.head()"
      ],
      "metadata": {
        "colab": {
          "base_uri": "https://localhost:8080/",
          "height": 206
        },
        "id": "ENg5N9c7s5aU",
        "outputId": "f0ff6263-035a-476c-ed97-d938589d1adc"
      },
      "execution_count": null,
      "outputs": [
        {
          "output_type": "execute_result",
          "data": {
            "text/plain": [
              "  Location          Maker  Year  Colour  Amount (Million ₦)           Type  \\\n",
              "0    Abuja  Mercedes-Benz  2015   Brown               14.50   Foreign Used   \n",
              "1    Abuja        Hyundai  2013     Red                1.55  Nigerian Used   \n",
              "2    Lagos          Lexus  2011   White               14.00   Foreign Used   \n",
              "3    Lagos          Lexus  2011    Gray                4.95   Foreign Used   \n",
              "4   Ibadan         Toyota  2009  Silver                1.69  Nigerian Used   \n",
              "\n",
              "     Distance_Km  \n",
              "0   50000.000000  \n",
              "1  101038.321282  \n",
              "2   85000.000000  \n",
              "3  101038.321282  \n",
              "4  118906.000000  "
            ],
            "text/html": [
              "\n",
              "  <div id=\"df-8ebaea89-7d07-43bd-99e8-e327d81c241b\">\n",
              "    <div class=\"colab-df-container\">\n",
              "      <div>\n",
              "<style scoped>\n",
              "    .dataframe tbody tr th:only-of-type {\n",
              "        vertical-align: middle;\n",
              "    }\n",
              "\n",
              "    .dataframe tbody tr th {\n",
              "        vertical-align: top;\n",
              "    }\n",
              "\n",
              "    .dataframe thead th {\n",
              "        text-align: right;\n",
              "    }\n",
              "</style>\n",
              "<table border=\"1\" class=\"dataframe\">\n",
              "  <thead>\n",
              "    <tr style=\"text-align: right;\">\n",
              "      <th></th>\n",
              "      <th>Location</th>\n",
              "      <th>Maker</th>\n",
              "      <th>Year</th>\n",
              "      <th>Colour</th>\n",
              "      <th>Amount (Million ₦)</th>\n",
              "      <th>Type</th>\n",
              "      <th>Distance_Km</th>\n",
              "    </tr>\n",
              "  </thead>\n",
              "  <tbody>\n",
              "    <tr>\n",
              "      <th>0</th>\n",
              "      <td>Abuja</td>\n",
              "      <td>Mercedes-Benz</td>\n",
              "      <td>2015</td>\n",
              "      <td>Brown</td>\n",
              "      <td>14.50</td>\n",
              "      <td>Foreign Used</td>\n",
              "      <td>50000.000000</td>\n",
              "    </tr>\n",
              "    <tr>\n",
              "      <th>1</th>\n",
              "      <td>Abuja</td>\n",
              "      <td>Hyundai</td>\n",
              "      <td>2013</td>\n",
              "      <td>Red</td>\n",
              "      <td>1.55</td>\n",
              "      <td>Nigerian Used</td>\n",
              "      <td>101038.321282</td>\n",
              "    </tr>\n",
              "    <tr>\n",
              "      <th>2</th>\n",
              "      <td>Lagos</td>\n",
              "      <td>Lexus</td>\n",
              "      <td>2011</td>\n",
              "      <td>White</td>\n",
              "      <td>14.00</td>\n",
              "      <td>Foreign Used</td>\n",
              "      <td>85000.000000</td>\n",
              "    </tr>\n",
              "    <tr>\n",
              "      <th>3</th>\n",
              "      <td>Lagos</td>\n",
              "      <td>Lexus</td>\n",
              "      <td>2011</td>\n",
              "      <td>Gray</td>\n",
              "      <td>4.95</td>\n",
              "      <td>Foreign Used</td>\n",
              "      <td>101038.321282</td>\n",
              "    </tr>\n",
              "    <tr>\n",
              "      <th>4</th>\n",
              "      <td>Ibadan</td>\n",
              "      <td>Toyota</td>\n",
              "      <td>2009</td>\n",
              "      <td>Silver</td>\n",
              "      <td>1.69</td>\n",
              "      <td>Nigerian Used</td>\n",
              "      <td>118906.000000</td>\n",
              "    </tr>\n",
              "  </tbody>\n",
              "</table>\n",
              "</div>\n",
              "      <button class=\"colab-df-convert\" onclick=\"convertToInteractive('df-8ebaea89-7d07-43bd-99e8-e327d81c241b')\"\n",
              "              title=\"Convert this dataframe to an interactive table.\"\n",
              "              style=\"display:none;\">\n",
              "        \n",
              "  <svg xmlns=\"http://www.w3.org/2000/svg\" height=\"24px\"viewBox=\"0 0 24 24\"\n",
              "       width=\"24px\">\n",
              "    <path d=\"M0 0h24v24H0V0z\" fill=\"none\"/>\n",
              "    <path d=\"M18.56 5.44l.94 2.06.94-2.06 2.06-.94-2.06-.94-.94-2.06-.94 2.06-2.06.94zm-11 1L8.5 8.5l.94-2.06 2.06-.94-2.06-.94L8.5 2.5l-.94 2.06-2.06.94zm10 10l.94 2.06.94-2.06 2.06-.94-2.06-.94-.94-2.06-.94 2.06-2.06.94z\"/><path d=\"M17.41 7.96l-1.37-1.37c-.4-.4-.92-.59-1.43-.59-.52 0-1.04.2-1.43.59L10.3 9.45l-7.72 7.72c-.78.78-.78 2.05 0 2.83L4 21.41c.39.39.9.59 1.41.59.51 0 1.02-.2 1.41-.59l7.78-7.78 2.81-2.81c.8-.78.8-2.07 0-2.86zM5.41 20L4 18.59l7.72-7.72 1.47 1.35L5.41 20z\"/>\n",
              "  </svg>\n",
              "      </button>\n",
              "      \n",
              "  <style>\n",
              "    .colab-df-container {\n",
              "      display:flex;\n",
              "      flex-wrap:wrap;\n",
              "      gap: 12px;\n",
              "    }\n",
              "\n",
              "    .colab-df-convert {\n",
              "      background-color: #E8F0FE;\n",
              "      border: none;\n",
              "      border-radius: 50%;\n",
              "      cursor: pointer;\n",
              "      display: none;\n",
              "      fill: #1967D2;\n",
              "      height: 32px;\n",
              "      padding: 0 0 0 0;\n",
              "      width: 32px;\n",
              "    }\n",
              "\n",
              "    .colab-df-convert:hover {\n",
              "      background-color: #E2EBFA;\n",
              "      box-shadow: 0px 1px 2px rgba(60, 64, 67, 0.3), 0px 1px 3px 1px rgba(60, 64, 67, 0.15);\n",
              "      fill: #174EA6;\n",
              "    }\n",
              "\n",
              "    [theme=dark] .colab-df-convert {\n",
              "      background-color: #3B4455;\n",
              "      fill: #D2E3FC;\n",
              "    }\n",
              "\n",
              "    [theme=dark] .colab-df-convert:hover {\n",
              "      background-color: #434B5C;\n",
              "      box-shadow: 0px 1px 3px 1px rgba(0, 0, 0, 0.15);\n",
              "      filter: drop-shadow(0px 1px 2px rgba(0, 0, 0, 0.3));\n",
              "      fill: #FFFFFF;\n",
              "    }\n",
              "  </style>\n",
              "\n",
              "      <script>\n",
              "        const buttonEl =\n",
              "          document.querySelector('#df-8ebaea89-7d07-43bd-99e8-e327d81c241b button.colab-df-convert');\n",
              "        buttonEl.style.display =\n",
              "          google.colab.kernel.accessAllowed ? 'block' : 'none';\n",
              "\n",
              "        async function convertToInteractive(key) {\n",
              "          const element = document.querySelector('#df-8ebaea89-7d07-43bd-99e8-e327d81c241b');\n",
              "          const dataTable =\n",
              "            await google.colab.kernel.invokeFunction('convertToInteractive',\n",
              "                                                     [key], {});\n",
              "          if (!dataTable) return;\n",
              "\n",
              "          const docLinkHtml = 'Like what you see? Visit the ' +\n",
              "            '<a target=\"_blank\" href=https://colab.research.google.com/notebooks/data_table.ipynb>data table notebook</a>'\n",
              "            + ' to learn more about interactive tables.';\n",
              "          element.innerHTML = '';\n",
              "          dataTable['output_type'] = 'display_data';\n",
              "          await google.colab.output.renderOutput(dataTable, element);\n",
              "          const docLink = document.createElement('div');\n",
              "          docLink.innerHTML = docLinkHtml;\n",
              "          element.appendChild(docLink);\n",
              "        }\n",
              "      </script>\n",
              "    </div>\n",
              "  </div>\n",
              "  "
            ]
          },
          "metadata": {},
          "execution_count": 47
        }
      ]
    },
    {
      "cell_type": "code",
      "source": [
        "cat_features = [\"Location\",\"Maker\",\"Year\",\"Colour\",\"Type\"]\n",
        "\n",
        "for cat_feature in cat_features:\n",
        "  df[f\"{cat_feature}_cat\"] = df[cat_feature].astype('category')\n",
        "  df[f\"{cat_feature}_cat\"] = df[f\"{cat_feature}_cat\"].cat.codes\n",
        "\n",
        "df.head()"
      ],
      "metadata": {
        "colab": {
          "base_uri": "https://localhost:8080/",
          "height": 206
        },
        "id": "e2EvTff-s_dP",
        "outputId": "cfee0f5a-ff56-4321-f388-ea5f77e8140d"
      },
      "execution_count": null,
      "outputs": [
        {
          "output_type": "execute_result",
          "data": {
            "text/plain": [
              "  Location          Maker  Year  Colour  Amount (Million ₦)           Type  \\\n",
              "0    Abuja  Mercedes-Benz  2015   Brown               14.50   Foreign Used   \n",
              "1    Abuja        Hyundai  2013     Red                1.55  Nigerian Used   \n",
              "2    Lagos          Lexus  2011   White               14.00   Foreign Used   \n",
              "3    Lagos          Lexus  2011    Gray                4.95   Foreign Used   \n",
              "4   Ibadan         Toyota  2009  Silver                1.69  Nigerian Used   \n",
              "\n",
              "     Distance_Km  Location_cat  Maker_cat  Year_cat  Colour_cat  Type_cat  \n",
              "0   50000.000000             0         26        22           3         1  \n",
              "1  101038.321282             0         14        20          14         2  \n",
              "2   85000.000000             2         23        18          17         1  \n",
              "3  101038.321282             2         23        18           6         1  \n",
              "4  118906.000000             1         44        16          15         2  "
            ],
            "text/html": [
              "\n",
              "  <div id=\"df-ff098824-c3ae-4299-8661-ab76b39d6d7b\">\n",
              "    <div class=\"colab-df-container\">\n",
              "      <div>\n",
              "<style scoped>\n",
              "    .dataframe tbody tr th:only-of-type {\n",
              "        vertical-align: middle;\n",
              "    }\n",
              "\n",
              "    .dataframe tbody tr th {\n",
              "        vertical-align: top;\n",
              "    }\n",
              "\n",
              "    .dataframe thead th {\n",
              "        text-align: right;\n",
              "    }\n",
              "</style>\n",
              "<table border=\"1\" class=\"dataframe\">\n",
              "  <thead>\n",
              "    <tr style=\"text-align: right;\">\n",
              "      <th></th>\n",
              "      <th>Location</th>\n",
              "      <th>Maker</th>\n",
              "      <th>Year</th>\n",
              "      <th>Colour</th>\n",
              "      <th>Amount (Million ₦)</th>\n",
              "      <th>Type</th>\n",
              "      <th>Distance_Km</th>\n",
              "      <th>Location_cat</th>\n",
              "      <th>Maker_cat</th>\n",
              "      <th>Year_cat</th>\n",
              "      <th>Colour_cat</th>\n",
              "      <th>Type_cat</th>\n",
              "    </tr>\n",
              "  </thead>\n",
              "  <tbody>\n",
              "    <tr>\n",
              "      <th>0</th>\n",
              "      <td>Abuja</td>\n",
              "      <td>Mercedes-Benz</td>\n",
              "      <td>2015</td>\n",
              "      <td>Brown</td>\n",
              "      <td>14.50</td>\n",
              "      <td>Foreign Used</td>\n",
              "      <td>50000.000000</td>\n",
              "      <td>0</td>\n",
              "      <td>26</td>\n",
              "      <td>22</td>\n",
              "      <td>3</td>\n",
              "      <td>1</td>\n",
              "    </tr>\n",
              "    <tr>\n",
              "      <th>1</th>\n",
              "      <td>Abuja</td>\n",
              "      <td>Hyundai</td>\n",
              "      <td>2013</td>\n",
              "      <td>Red</td>\n",
              "      <td>1.55</td>\n",
              "      <td>Nigerian Used</td>\n",
              "      <td>101038.321282</td>\n",
              "      <td>0</td>\n",
              "      <td>14</td>\n",
              "      <td>20</td>\n",
              "      <td>14</td>\n",
              "      <td>2</td>\n",
              "    </tr>\n",
              "    <tr>\n",
              "      <th>2</th>\n",
              "      <td>Lagos</td>\n",
              "      <td>Lexus</td>\n",
              "      <td>2011</td>\n",
              "      <td>White</td>\n",
              "      <td>14.00</td>\n",
              "      <td>Foreign Used</td>\n",
              "      <td>85000.000000</td>\n",
              "      <td>2</td>\n",
              "      <td>23</td>\n",
              "      <td>18</td>\n",
              "      <td>17</td>\n",
              "      <td>1</td>\n",
              "    </tr>\n",
              "    <tr>\n",
              "      <th>3</th>\n",
              "      <td>Lagos</td>\n",
              "      <td>Lexus</td>\n",
              "      <td>2011</td>\n",
              "      <td>Gray</td>\n",
              "      <td>4.95</td>\n",
              "      <td>Foreign Used</td>\n",
              "      <td>101038.321282</td>\n",
              "      <td>2</td>\n",
              "      <td>23</td>\n",
              "      <td>18</td>\n",
              "      <td>6</td>\n",
              "      <td>1</td>\n",
              "    </tr>\n",
              "    <tr>\n",
              "      <th>4</th>\n",
              "      <td>Ibadan</td>\n",
              "      <td>Toyota</td>\n",
              "      <td>2009</td>\n",
              "      <td>Silver</td>\n",
              "      <td>1.69</td>\n",
              "      <td>Nigerian Used</td>\n",
              "      <td>118906.000000</td>\n",
              "      <td>1</td>\n",
              "      <td>44</td>\n",
              "      <td>16</td>\n",
              "      <td>15</td>\n",
              "      <td>2</td>\n",
              "    </tr>\n",
              "  </tbody>\n",
              "</table>\n",
              "</div>\n",
              "      <button class=\"colab-df-convert\" onclick=\"convertToInteractive('df-ff098824-c3ae-4299-8661-ab76b39d6d7b')\"\n",
              "              title=\"Convert this dataframe to an interactive table.\"\n",
              "              style=\"display:none;\">\n",
              "        \n",
              "  <svg xmlns=\"http://www.w3.org/2000/svg\" height=\"24px\"viewBox=\"0 0 24 24\"\n",
              "       width=\"24px\">\n",
              "    <path d=\"M0 0h24v24H0V0z\" fill=\"none\"/>\n",
              "    <path d=\"M18.56 5.44l.94 2.06.94-2.06 2.06-.94-2.06-.94-.94-2.06-.94 2.06-2.06.94zm-11 1L8.5 8.5l.94-2.06 2.06-.94-2.06-.94L8.5 2.5l-.94 2.06-2.06.94zm10 10l.94 2.06.94-2.06 2.06-.94-2.06-.94-.94-2.06-.94 2.06-2.06.94z\"/><path d=\"M17.41 7.96l-1.37-1.37c-.4-.4-.92-.59-1.43-.59-.52 0-1.04.2-1.43.59L10.3 9.45l-7.72 7.72c-.78.78-.78 2.05 0 2.83L4 21.41c.39.39.9.59 1.41.59.51 0 1.02-.2 1.41-.59l7.78-7.78 2.81-2.81c.8-.78.8-2.07 0-2.86zM5.41 20L4 18.59l7.72-7.72 1.47 1.35L5.41 20z\"/>\n",
              "  </svg>\n",
              "      </button>\n",
              "      \n",
              "  <style>\n",
              "    .colab-df-container {\n",
              "      display:flex;\n",
              "      flex-wrap:wrap;\n",
              "      gap: 12px;\n",
              "    }\n",
              "\n",
              "    .colab-df-convert {\n",
              "      background-color: #E8F0FE;\n",
              "      border: none;\n",
              "      border-radius: 50%;\n",
              "      cursor: pointer;\n",
              "      display: none;\n",
              "      fill: #1967D2;\n",
              "      height: 32px;\n",
              "      padding: 0 0 0 0;\n",
              "      width: 32px;\n",
              "    }\n",
              "\n",
              "    .colab-df-convert:hover {\n",
              "      background-color: #E2EBFA;\n",
              "      box-shadow: 0px 1px 2px rgba(60, 64, 67, 0.3), 0px 1px 3px 1px rgba(60, 64, 67, 0.15);\n",
              "      fill: #174EA6;\n",
              "    }\n",
              "\n",
              "    [theme=dark] .colab-df-convert {\n",
              "      background-color: #3B4455;\n",
              "      fill: #D2E3FC;\n",
              "    }\n",
              "\n",
              "    [theme=dark] .colab-df-convert:hover {\n",
              "      background-color: #434B5C;\n",
              "      box-shadow: 0px 1px 3px 1px rgba(0, 0, 0, 0.15);\n",
              "      filter: drop-shadow(0px 1px 2px rgba(0, 0, 0, 0.3));\n",
              "      fill: #FFFFFF;\n",
              "    }\n",
              "  </style>\n",
              "\n",
              "      <script>\n",
              "        const buttonEl =\n",
              "          document.querySelector('#df-ff098824-c3ae-4299-8661-ab76b39d6d7b button.colab-df-convert');\n",
              "        buttonEl.style.display =\n",
              "          google.colab.kernel.accessAllowed ? 'block' : 'none';\n",
              "\n",
              "        async function convertToInteractive(key) {\n",
              "          const element = document.querySelector('#df-ff098824-c3ae-4299-8661-ab76b39d6d7b');\n",
              "          const dataTable =\n",
              "            await google.colab.kernel.invokeFunction('convertToInteractive',\n",
              "                                                     [key], {});\n",
              "          if (!dataTable) return;\n",
              "\n",
              "          const docLinkHtml = 'Like what you see? Visit the ' +\n",
              "            '<a target=\"_blank\" href=https://colab.research.google.com/notebooks/data_table.ipynb>data table notebook</a>'\n",
              "            + ' to learn more about interactive tables.';\n",
              "          element.innerHTML = '';\n",
              "          dataTable['output_type'] = 'display_data';\n",
              "          await google.colab.output.renderOutput(dataTable, element);\n",
              "          const docLink = document.createElement('div');\n",
              "          docLink.innerHTML = docLinkHtml;\n",
              "          element.appendChild(docLink);\n",
              "        }\n",
              "      </script>\n",
              "    </div>\n",
              "  </div>\n",
              "  "
            ]
          },
          "metadata": {},
          "execution_count": 48
        }
      ]
    },
    {
      "cell_type": "code",
      "source": [
        "df.drop([\"Location\",\"Maker\",\"Year\",\"Colour\", \"Type\"], axis=1, inplace=True)\n",
        "df.head()"
      ],
      "metadata": {
        "colab": {
          "base_uri": "https://localhost:8080/",
          "height": 206
        },
        "id": "M_HQz2IGtB5U",
        "outputId": "e9c2afc4-4d37-4a88-c5a5-331432521898"
      },
      "execution_count": null,
      "outputs": [
        {
          "output_type": "execute_result",
          "data": {
            "text/plain": [
              "   Amount (Million ₦)    Distance_Km  Location_cat  Maker_cat  Year_cat  \\\n",
              "0               14.50   50000.000000             0         26        22   \n",
              "1                1.55  101038.321282             0         14        20   \n",
              "2               14.00   85000.000000             2         23        18   \n",
              "3                4.95  101038.321282             2         23        18   \n",
              "4                1.69  118906.000000             1         44        16   \n",
              "\n",
              "   Colour_cat  Type_cat  \n",
              "0           3         1  \n",
              "1          14         2  \n",
              "2          17         1  \n",
              "3           6         1  \n",
              "4          15         2  "
            ],
            "text/html": [
              "\n",
              "  <div id=\"df-cf5c2da7-2f2a-46f9-b175-5f2b46af958f\">\n",
              "    <div class=\"colab-df-container\">\n",
              "      <div>\n",
              "<style scoped>\n",
              "    .dataframe tbody tr th:only-of-type {\n",
              "        vertical-align: middle;\n",
              "    }\n",
              "\n",
              "    .dataframe tbody tr th {\n",
              "        vertical-align: top;\n",
              "    }\n",
              "\n",
              "    .dataframe thead th {\n",
              "        text-align: right;\n",
              "    }\n",
              "</style>\n",
              "<table border=\"1\" class=\"dataframe\">\n",
              "  <thead>\n",
              "    <tr style=\"text-align: right;\">\n",
              "      <th></th>\n",
              "      <th>Amount (Million ₦)</th>\n",
              "      <th>Distance_Km</th>\n",
              "      <th>Location_cat</th>\n",
              "      <th>Maker_cat</th>\n",
              "      <th>Year_cat</th>\n",
              "      <th>Colour_cat</th>\n",
              "      <th>Type_cat</th>\n",
              "    </tr>\n",
              "  </thead>\n",
              "  <tbody>\n",
              "    <tr>\n",
              "      <th>0</th>\n",
              "      <td>14.50</td>\n",
              "      <td>50000.000000</td>\n",
              "      <td>0</td>\n",
              "      <td>26</td>\n",
              "      <td>22</td>\n",
              "      <td>3</td>\n",
              "      <td>1</td>\n",
              "    </tr>\n",
              "    <tr>\n",
              "      <th>1</th>\n",
              "      <td>1.55</td>\n",
              "      <td>101038.321282</td>\n",
              "      <td>0</td>\n",
              "      <td>14</td>\n",
              "      <td>20</td>\n",
              "      <td>14</td>\n",
              "      <td>2</td>\n",
              "    </tr>\n",
              "    <tr>\n",
              "      <th>2</th>\n",
              "      <td>14.00</td>\n",
              "      <td>85000.000000</td>\n",
              "      <td>2</td>\n",
              "      <td>23</td>\n",
              "      <td>18</td>\n",
              "      <td>17</td>\n",
              "      <td>1</td>\n",
              "    </tr>\n",
              "    <tr>\n",
              "      <th>3</th>\n",
              "      <td>4.95</td>\n",
              "      <td>101038.321282</td>\n",
              "      <td>2</td>\n",
              "      <td>23</td>\n",
              "      <td>18</td>\n",
              "      <td>6</td>\n",
              "      <td>1</td>\n",
              "    </tr>\n",
              "    <tr>\n",
              "      <th>4</th>\n",
              "      <td>1.69</td>\n",
              "      <td>118906.000000</td>\n",
              "      <td>1</td>\n",
              "      <td>44</td>\n",
              "      <td>16</td>\n",
              "      <td>15</td>\n",
              "      <td>2</td>\n",
              "    </tr>\n",
              "  </tbody>\n",
              "</table>\n",
              "</div>\n",
              "      <button class=\"colab-df-convert\" onclick=\"convertToInteractive('df-cf5c2da7-2f2a-46f9-b175-5f2b46af958f')\"\n",
              "              title=\"Convert this dataframe to an interactive table.\"\n",
              "              style=\"display:none;\">\n",
              "        \n",
              "  <svg xmlns=\"http://www.w3.org/2000/svg\" height=\"24px\"viewBox=\"0 0 24 24\"\n",
              "       width=\"24px\">\n",
              "    <path d=\"M0 0h24v24H0V0z\" fill=\"none\"/>\n",
              "    <path d=\"M18.56 5.44l.94 2.06.94-2.06 2.06-.94-2.06-.94-.94-2.06-.94 2.06-2.06.94zm-11 1L8.5 8.5l.94-2.06 2.06-.94-2.06-.94L8.5 2.5l-.94 2.06-2.06.94zm10 10l.94 2.06.94-2.06 2.06-.94-2.06-.94-.94-2.06-.94 2.06-2.06.94z\"/><path d=\"M17.41 7.96l-1.37-1.37c-.4-.4-.92-.59-1.43-.59-.52 0-1.04.2-1.43.59L10.3 9.45l-7.72 7.72c-.78.78-.78 2.05 0 2.83L4 21.41c.39.39.9.59 1.41.59.51 0 1.02-.2 1.41-.59l7.78-7.78 2.81-2.81c.8-.78.8-2.07 0-2.86zM5.41 20L4 18.59l7.72-7.72 1.47 1.35L5.41 20z\"/>\n",
              "  </svg>\n",
              "      </button>\n",
              "      \n",
              "  <style>\n",
              "    .colab-df-container {\n",
              "      display:flex;\n",
              "      flex-wrap:wrap;\n",
              "      gap: 12px;\n",
              "    }\n",
              "\n",
              "    .colab-df-convert {\n",
              "      background-color: #E8F0FE;\n",
              "      border: none;\n",
              "      border-radius: 50%;\n",
              "      cursor: pointer;\n",
              "      display: none;\n",
              "      fill: #1967D2;\n",
              "      height: 32px;\n",
              "      padding: 0 0 0 0;\n",
              "      width: 32px;\n",
              "    }\n",
              "\n",
              "    .colab-df-convert:hover {\n",
              "      background-color: #E2EBFA;\n",
              "      box-shadow: 0px 1px 2px rgba(60, 64, 67, 0.3), 0px 1px 3px 1px rgba(60, 64, 67, 0.15);\n",
              "      fill: #174EA6;\n",
              "    }\n",
              "\n",
              "    [theme=dark] .colab-df-convert {\n",
              "      background-color: #3B4455;\n",
              "      fill: #D2E3FC;\n",
              "    }\n",
              "\n",
              "    [theme=dark] .colab-df-convert:hover {\n",
              "      background-color: #434B5C;\n",
              "      box-shadow: 0px 1px 3px 1px rgba(0, 0, 0, 0.15);\n",
              "      filter: drop-shadow(0px 1px 2px rgba(0, 0, 0, 0.3));\n",
              "      fill: #FFFFFF;\n",
              "    }\n",
              "  </style>\n",
              "\n",
              "      <script>\n",
              "        const buttonEl =\n",
              "          document.querySelector('#df-cf5c2da7-2f2a-46f9-b175-5f2b46af958f button.colab-df-convert');\n",
              "        buttonEl.style.display =\n",
              "          google.colab.kernel.accessAllowed ? 'block' : 'none';\n",
              "\n",
              "        async function convertToInteractive(key) {\n",
              "          const element = document.querySelector('#df-cf5c2da7-2f2a-46f9-b175-5f2b46af958f');\n",
              "          const dataTable =\n",
              "            await google.colab.kernel.invokeFunction('convertToInteractive',\n",
              "                                                     [key], {});\n",
              "          if (!dataTable) return;\n",
              "\n",
              "          const docLinkHtml = 'Like what you see? Visit the ' +\n",
              "            '<a target=\"_blank\" href=https://colab.research.google.com/notebooks/data_table.ipynb>data table notebook</a>'\n",
              "            + ' to learn more about interactive tables.';\n",
              "          element.innerHTML = '';\n",
              "          dataTable['output_type'] = 'display_data';\n",
              "          await google.colab.output.renderOutput(dataTable, element);\n",
              "          const docLink = document.createElement('div');\n",
              "          docLink.innerHTML = docLinkHtml;\n",
              "          element.appendChild(docLink);\n",
              "        }\n",
              "      </script>\n",
              "    </div>\n",
              "  </div>\n",
              "  "
            ]
          },
          "metadata": {},
          "execution_count": 49
        }
      ]
    },
    {
      "cell_type": "code",
      "source": [
        "y = df[\"Amount (Million ₦)\"]\n",
        "X = df.drop(\"Amount (Million ₦)\", axis=1)"
      ],
      "metadata": {
        "id": "bm7oMpN5tF4c"
      },
      "execution_count": null,
      "outputs": []
    },
    {
      "cell_type": "code",
      "source": [
        "X_train, X_test, y_train, y_test = train_test_split(X, y, test_size=0.3)"
      ],
      "metadata": {
        "id": "3VaW-HkU3eUA"
      },
      "execution_count": null,
      "outputs": []
    },
    {
      "cell_type": "code",
      "source": [
        "from sklearn.linear_model import LinearRegression\n",
        "reg = LinearRegression()\n",
        "reg.fit(X_train, y_train)"
      ],
      "metadata": {
        "colab": {
          "base_uri": "https://localhost:8080/",
          "height": 75
        },
        "id": "Qn1ntT3itKfu",
        "outputId": "32e9a392-ecad-449a-d583-41c5212e31a0"
      },
      "execution_count": null,
      "outputs": [
        {
          "output_type": "execute_result",
          "data": {
            "text/plain": [
              "LinearRegression()"
            ],
            "text/html": [
              "<style>#sk-container-id-4 {color: black;background-color: white;}#sk-container-id-4 pre{padding: 0;}#sk-container-id-4 div.sk-toggleable {background-color: white;}#sk-container-id-4 label.sk-toggleable__label {cursor: pointer;display: block;width: 100%;margin-bottom: 0;padding: 0.3em;box-sizing: border-box;text-align: center;}#sk-container-id-4 label.sk-toggleable__label-arrow:before {content: \"▸\";float: left;margin-right: 0.25em;color: #696969;}#sk-container-id-4 label.sk-toggleable__label-arrow:hover:before {color: black;}#sk-container-id-4 div.sk-estimator:hover label.sk-toggleable__label-arrow:before {color: black;}#sk-container-id-4 div.sk-toggleable__content {max-height: 0;max-width: 0;overflow: hidden;text-align: left;background-color: #f0f8ff;}#sk-container-id-4 div.sk-toggleable__content pre {margin: 0.2em;color: black;border-radius: 0.25em;background-color: #f0f8ff;}#sk-container-id-4 input.sk-toggleable__control:checked~div.sk-toggleable__content {max-height: 200px;max-width: 100%;overflow: auto;}#sk-container-id-4 input.sk-toggleable__control:checked~label.sk-toggleable__label-arrow:before {content: \"▾\";}#sk-container-id-4 div.sk-estimator input.sk-toggleable__control:checked~label.sk-toggleable__label {background-color: #d4ebff;}#sk-container-id-4 div.sk-label input.sk-toggleable__control:checked~label.sk-toggleable__label {background-color: #d4ebff;}#sk-container-id-4 input.sk-hidden--visually {border: 0;clip: rect(1px 1px 1px 1px);clip: rect(1px, 1px, 1px, 1px);height: 1px;margin: -1px;overflow: hidden;padding: 0;position: absolute;width: 1px;}#sk-container-id-4 div.sk-estimator {font-family: monospace;background-color: #f0f8ff;border: 1px dotted black;border-radius: 0.25em;box-sizing: border-box;margin-bottom: 0.5em;}#sk-container-id-4 div.sk-estimator:hover {background-color: #d4ebff;}#sk-container-id-4 div.sk-parallel-item::after {content: \"\";width: 100%;border-bottom: 1px solid gray;flex-grow: 1;}#sk-container-id-4 div.sk-label:hover label.sk-toggleable__label {background-color: #d4ebff;}#sk-container-id-4 div.sk-serial::before {content: \"\";position: absolute;border-left: 1px solid gray;box-sizing: border-box;top: 0;bottom: 0;left: 50%;z-index: 0;}#sk-container-id-4 div.sk-serial {display: flex;flex-direction: column;align-items: center;background-color: white;padding-right: 0.2em;padding-left: 0.2em;position: relative;}#sk-container-id-4 div.sk-item {position: relative;z-index: 1;}#sk-container-id-4 div.sk-parallel {display: flex;align-items: stretch;justify-content: center;background-color: white;position: relative;}#sk-container-id-4 div.sk-item::before, #sk-container-id-4 div.sk-parallel-item::before {content: \"\";position: absolute;border-left: 1px solid gray;box-sizing: border-box;top: 0;bottom: 0;left: 50%;z-index: -1;}#sk-container-id-4 div.sk-parallel-item {display: flex;flex-direction: column;z-index: 1;position: relative;background-color: white;}#sk-container-id-4 div.sk-parallel-item:first-child::after {align-self: flex-end;width: 50%;}#sk-container-id-4 div.sk-parallel-item:last-child::after {align-self: flex-start;width: 50%;}#sk-container-id-4 div.sk-parallel-item:only-child::after {width: 0;}#sk-container-id-4 div.sk-dashed-wrapped {border: 1px dashed gray;margin: 0 0.4em 0.5em 0.4em;box-sizing: border-box;padding-bottom: 0.4em;background-color: white;}#sk-container-id-4 div.sk-label label {font-family: monospace;font-weight: bold;display: inline-block;line-height: 1.2em;}#sk-container-id-4 div.sk-label-container {text-align: center;}#sk-container-id-4 div.sk-container {/* jupyter's `normalize.less` sets `[hidden] { display: none; }` but bootstrap.min.css set `[hidden] { display: none !important; }` so we also need the `!important` here to be able to override the default hidden behavior on the sphinx rendered scikit-learn.org. See: https://github.com/scikit-learn/scikit-learn/issues/21755 */display: inline-block !important;position: relative;}#sk-container-id-4 div.sk-text-repr-fallback {display: none;}</style><div id=\"sk-container-id-4\" class=\"sk-top-container\"><div class=\"sk-text-repr-fallback\"><pre>LinearRegression()</pre><b>In a Jupyter environment, please rerun this cell to show the HTML representation or trust the notebook. <br />On GitHub, the HTML representation is unable to render, please try loading this page with nbviewer.org.</b></div><div class=\"sk-container\" hidden><div class=\"sk-item\"><div class=\"sk-estimator sk-toggleable\"><input class=\"sk-toggleable__control sk-hidden--visually\" id=\"sk-estimator-id-4\" type=\"checkbox\" checked><label for=\"sk-estimator-id-4\" class=\"sk-toggleable__label sk-toggleable__label-arrow\">LinearRegression</label><div class=\"sk-toggleable__content\"><pre>LinearRegression()</pre></div></div></div></div></div>"
            ]
          },
          "metadata": {},
          "execution_count": 76
        }
      ]
    },
    {
      "cell_type": "code",
      "source": [
        "reg.predict(X_test)"
      ],
      "metadata": {
        "colab": {
          "base_uri": "https://localhost:8080/"
        },
        "id": "s0OgfilUtRew",
        "outputId": "5c1d3ec0-db72-49e8-ade1-ef3547c690b5"
      },
      "execution_count": null,
      "outputs": [
        {
          "output_type": "execute_result",
          "data": {
            "text/plain": [
              "array([ 8.3635797 , 21.44820119, -4.80832081, ..., -0.96444375,\n",
              "       17.36340861,  1.28371493])"
            ]
          },
          "metadata": {},
          "execution_count": 77
        }
      ]
    },
    {
      "cell_type": "code",
      "source": [
        "from sklearn.metrics import mean_absolute_error\n",
        "y_pred = reg.predict(X_test)\n",
        "print(\"MAE\",mean_absolute_error(y_test,y_pred))"
      ],
      "metadata": {
        "id": "d8Yirb-O383h",
        "outputId": "995e034f-6793-4189-fb78-0bb42638817e",
        "colab": {
          "base_uri": "https://localhost:8080/"
        }
      },
      "execution_count": null,
      "outputs": [
        {
          "output_type": "stream",
          "name": "stdout",
          "text": [
            "MAE 7.563289386706154\n"
          ]
        }
      ]
    },
    {
      "cell_type": "code",
      "source": [
        "from sklearn.tree import DecisionTreeRegressor\n",
        "\n",
        "dt_reg = DecisionTreeRegressor()\n",
        "dt_reg.fit(X_train, y_train)\n",
        "y_pred = dt_reg.predict(X_test)\n",
        "\n",
        "print(\"MAE\",mean_absolute_error(y_test,y_pred))"
      ],
      "metadata": {
        "colab": {
          "base_uri": "https://localhost:8080/"
        },
        "id": "NWPV0inqtcnY",
        "outputId": "7a144c2b-e5bc-4b3e-fa00-943a900a6835"
      },
      "execution_count": null,
      "outputs": [
        {
          "output_type": "stream",
          "name": "stdout",
          "text": [
            "MAE 5.057523970799307\n"
          ]
        }
      ]
    },
    {
      "cell_type": "code",
      "source": [
        "from sklearn.svm import SVR\n",
        "\n",
        "sv_reg = SVR()\n",
        "sv_reg.fit(X_train, y_train)\n",
        "y_pred = sv_reg.predict(X_test)\n",
        "print(\"MAE\",mean_absolute_error(y_test,y_pred))"
      ],
      "metadata": {
        "colab": {
          "base_uri": "https://localhost:8080/"
        },
        "id": "gz6aD9UNtgpK",
        "outputId": "132015cf-371c-4437-dcc5-935a8553e47e"
      },
      "execution_count": null,
      "outputs": [
        {
          "output_type": "stream",
          "name": "stdout",
          "text": [
            "MAE 6.827446911476295\n"
          ]
        }
      ]
    },
    {
      "cell_type": "code",
      "source": [
        "from sklearn.preprocessing import StandardScaler\n",
        "s = StandardScaler()\n",
        "X_train = s.fit_transform(X_train)"
      ],
      "metadata": {
        "id": "T4rysYCT1k4b"
      },
      "execution_count": null,
      "outputs": []
    },
    {
      "cell_type": "markdown",
      "source": [
        "Using Numpy and Sympy to solve mathematical operations"
      ],
      "metadata": {
        "id": "1Vvlt3N8y9XR"
      }
    },
    {
      "cell_type": "markdown",
      "source": [
        "Solve the equation x² − 5x + 6 = 0"
      ],
      "metadata": {
        "id": "CppBjuGkvN3O"
      }
    },
    {
      "cell_type": "code",
      "source": [
        "from sympy import symbols, Eq, solve\n",
        "x = symbols('x')\n",
        "eq1 = Eq(x**2 -5*x + 6, 0)\n",
        "sol = solve(eq1, dict = True)\n",
        "(sol)"
      ],
      "metadata": {
        "id": "IrzqvmsYwbIZ",
        "outputId": "33f46822-b9c4-4ad3-d756-89dac0f9303e",
        "colab": {
          "base_uri": "https://localhost:8080/"
        }
      },
      "execution_count": null,
      "outputs": [
        {
          "output_type": "execute_result",
          "data": {
            "text/plain": [
              "[{x: 2}, {x: 3}]"
            ]
          },
          "metadata": {},
          "execution_count": 18
        }
      ]
    },
    {
      "cell_type": "code",
      "source": [
        "a = 3^2\n",
        "b = int(4^2)\n",
        "print(a == b)"
      ],
      "metadata": {
        "id": "zvuzSzAqvORw",
        "outputId": "ae95ee83-cff1-4170-db21-e2eb665fdcb9",
        "colab": {
          "base_uri": "https://localhost:8080/"
        }
      },
      "execution_count": null,
      "outputs": [
        {
          "output_type": "stream",
          "name": "stdout",
          "text": [
            "False\n"
          ]
        }
      ]
    },
    {
      "cell_type": "markdown",
      "source": [
        "Exercise 1: Solving Polynomials\n",
        "\n",
        "4e² - 20e + 25 = 0"
      ],
      "metadata": {
        "id": "SL9L6KS0w6R3"
      }
    },
    {
      "cell_type": "code",
      "source": [
        "from sympy import symbols, Eq, solve\n",
        "e = symbols('e')\n",
        "eq1 = Eq(4*e**2 -20*e + 25)\n",
        "sol = solve(eq1, dict = True)\n",
        "sol"
      ],
      "metadata": {
        "id": "W68Pz9Xjw8Vw",
        "outputId": "8475f068-64ca-40e9-d335-47e1adefae02",
        "colab": {
          "base_uri": "https://localhost:8080/"
        }
      },
      "execution_count": null,
      "outputs": [
        {
          "output_type": "stream",
          "name": "stderr",
          "text": [
            "<ipython-input-8-d48b71a8ecc1>:3: SymPyDeprecationWarning: \n",
            "\n",
            "Eq(expr) with a single argument with the right-hand side\n",
            "defaulting to 0 is deprecated. Use Eq(expr, 0) instead.\n",
            "\n",
            "See https://docs.sympy.org/latest/explanation/active-deprecations.html#deprecated-eq-expr\n",
            "for details.\n",
            "\n",
            "This has been deprecated since SymPy version 1.5. It\n",
            "will be removed in a future version of SymPy.\n",
            "\n",
            "  eq1 = Eq(4*e**2 -20*e + 25)\n"
          ]
        },
        {
          "output_type": "execute_result",
          "data": {
            "text/plain": [
              "[{e: 5/2}]"
            ]
          },
          "metadata": {},
          "execution_count": 8
        }
      ]
    },
    {
      "cell_type": "code",
      "source": [
        "saved_pin = 20221609\n",
        "new_pin = input(\"Please enter your pin: \")\n",
        "if int(new_pin) == saved_pin:\n",
        "  print(\"Pin was correctly entered, you are now logged in\")\n",
        "else:\n",
        "  print(\"You do not have permission to access this account\")"
      ],
      "metadata": {
        "id": "4E8767Ovx7-0",
        "outputId": "2138437d-a615-4e19-a047-5fe5119e9373",
        "colab": {
          "base_uri": "https://localhost:8080/"
        }
      },
      "execution_count": null,
      "outputs": [
        {
          "output_type": "stream",
          "name": "stdout",
          "text": [
            "Please enter your pin: 20221609\n",
            "Pin was correctly entered, you are now logged in\n"
          ]
        }
      ]
    },
    {
      "cell_type": "markdown",
      "source": [
        "Solving Two Equations with Two Unknown\n",
        "\n",
        "x − y + 3 = 0\n",
        "\n",
        "x + y − 5 = 0"
      ],
      "metadata": {
        "id": "Y9Z4N00eyZbp"
      }
    },
    {
      "cell_type": "code",
      "source": [
        "from sympy import symbols, Eq, solve\n"
      ],
      "metadata": {
        "id": "trleWOSEyaQa"
      },
      "execution_count": null,
      "outputs": []
    },
    {
      "cell_type": "code",
      "source": [
        "x, y = symbols('x y')\n",
        "eq1 = Eq(x - y + 3, 0)\n",
        "eq2 = Eq(x + y - 5, 0)"
      ],
      "metadata": {
        "id": "ADk5mTvRylKW"
      },
      "execution_count": null,
      "outputs": []
    },
    {
      "cell_type": "code",
      "source": [
        "sol = solve((eq1, eq2), (x, y))\n",
        "sol"
      ],
      "metadata": {
        "id": "bhcMUaNfyqRt",
        "outputId": "67f359a8-57bd-4212-ddb2-5a0e03509367",
        "colab": {
          "base_uri": "https://localhost:8080/"
        }
      },
      "execution_count": null,
      "outputs": [
        {
          "output_type": "execute_result",
          "data": {
            "text/plain": [
              "{x: 1, y: 4}"
            ]
          },
          "metadata": {},
          "execution_count": 13
        }
      ]
    },
    {
      "cell_type": "code",
      "source": [
        "sol_dict = solve((eq1, eq2), (x, y))\n",
        "print(f'x = {sol_dict[x]}')\n",
        "print(f'y = {sol_dict[y]}')"
      ],
      "metadata": {
        "id": "SzCO7hoRyt60",
        "outputId": "5dd320fa-f99e-452e-83af-b24ee37d3d84",
        "colab": {
          "base_uri": "https://localhost:8080/"
        }
      },
      "execution_count": null,
      "outputs": [
        {
          "output_type": "stream",
          "name": "stdout",
          "text": [
            "x = 1\n",
            "y = 4\n"
          ]
        }
      ]
    },
    {
      "cell_type": "markdown",
      "source": [
        "Question 1: 6h² + 13h -5 = 0\n",
        "Question 2: 4x2 + x - 1"
      ],
      "metadata": {
        "id": "ufutZS1GhCIE"
      }
    },
    {
      "cell_type": "markdown",
      "source": [
        "p(x) = x4 - 4x2 + 3x"
      ],
      "metadata": {
        "id": "QxiY22QCjh1w"
      }
    },
    {
      "cell_type": "code",
      "source": [
        "def p(x):\n",
        "    return x**4 - 4*x**2 + 3*x"
      ],
      "metadata": {
        "id": "EaPf9p-tjev_"
      },
      "execution_count": 2,
      "outputs": []
    },
    {
      "cell_type": "code",
      "source": [
        "for x in [-1, 0, 2, 3, 4]:\n",
        "    print(x, p(x))"
      ],
      "metadata": {
        "colab": {
          "base_uri": "https://localhost:8080/"
        },
        "id": "gEK3MSNWj5A_",
        "outputId": "1f9eba9d-971d-48f0-9730-89101c1c9067"
      },
      "execution_count": 8,
      "outputs": [
        {
          "output_type": "stream",
          "name": "stdout",
          "text": [
            "-1 -6\n",
            "0 0\n",
            "2 6\n",
            "3 54\n",
            "4 204\n"
          ]
        }
      ]
    },
    {
      "cell_type": "code",
      "source": [
        "import numpy as np\n",
        "import matplotlib.pyplot as plt\n",
        "\n",
        "X = np.linspace(-3, 3, 50, endpoint=True)\n",
        "F = p(X)\n",
        "plt.plot(X,F)\n",
        "\n",
        "plt.show()"
      ],
      "metadata": {
        "colab": {
          "base_uri": "https://localhost:8080/",
          "height": 430
        },
        "id": "xwS0mYrvhnGc",
        "outputId": "f3ba571f-daee-4919-a13a-0787966de53c"
      },
      "execution_count": 12,
      "outputs": [
        {
          "output_type": "display_data",
          "data": {
            "text/plain": [
              "<Figure size 640x480 with 1 Axes>"
            ],
            "image/png": "[encoded data removed]"
          },
          "metadata": {}
        }
      ]
    },
    {
      "cell_type": "markdown",
      "source": [
        "Question 2: Differentiate x - 4x² +6x -2 with respect to x"
      ],
      "metadata": {
        "id": "Ynv0yrZstRzl"
      }
    },
    {
      "cell_type": "code",
      "source": [
        "from sympy import symbols, diff"
      ],
      "metadata": {
        "id": "RikBa689tedi"
      },
      "execution_count": 26,
      "outputs": []
    },
    {
      "cell_type": "code",
      "source": [
        "x = symbols(\"x\")\n",
        "f = x**3 -4*x**2 +6*x -2\n",
        "ans = diff(f, x)\n",
        "ans"
      ],
      "metadata": {
        "colab": {
          "base_uri": "https://localhost:8080/",
          "height": 39
        },
        "id": "HrAP5domtToe",
        "outputId": "5ced9540-38d4-4b8e-ad4c-a13a3bcd17ae"
      },
      "execution_count": 27,
      "outputs": [
        {
          "output_type": "execute_result",
          "data": {
            "text/plain": [
              "3*x**2 - 8*x + 6"
            ],
            "text/latex": "$\\displaystyle 3 x^{2} - 8 x + 6$"
          },
          "metadata": {},
          "execution_count": 27
        }
      ]
    },
    {
      "cell_type": "markdown",
      "source": [
        "Question 3: ∫sinx dx"
      ],
      "metadata": {
        "id": "AJ7C5QN6t2Yv"
      }
    },
    {
      "cell_type": "code",
      "source": [
        "from sympy import *"
      ],
      "metadata": {
        "id": "fRPsLX46t_Bx"
      },
      "execution_count": 24,
      "outputs": []
    },
    {
      "cell_type": "code",
      "source": [
        "x = symbols('x')\n",
        "f = sin(x)\n",
        "integral = integrate(f, x)\n",
        "integral"
      ],
      "metadata": {
        "colab": {
          "base_uri": "https://localhost:8080/",
          "height": 39
        },
        "id": "oZZ4oLsZt3Ba",
        "outputId": "7ad3f8e3-269d-4452-9d77-84fd8985378e"
      },
      "execution_count": 25,
      "outputs": [
        {
          "output_type": "execute_result",
          "data": {
            "text/plain": [
              "-cos(x)"
            ],
            "text/latex": "$\\displaystyle - \\cos{\\left(x \\right)}$"
          },
          "metadata": {},
          "execution_count": 25
        }
      ]
    },
    {
      "cell_type": "markdown",
      "source": [
        "∫2x cos (x2 – 5)"
      ],
      "metadata": {
        "id": "MljA7c_kwZXT"
      }
    },
    {
      "cell_type": "code",
      "source": [
        "from sympy import *\n",
        "x = symbols ('x')\n",
        "f = 2 * x * cos(x**2 - 5)\n",
        "integral = integrate(f, x)\n",
        "integral"
      ],
      "metadata": {
        "id": "OlRV1vDN24yw",
        "outputId": "aae79abc-7560-4801-d8af-962c327e7865",
        "colab": {
          "base_uri": "https://localhost:8080/",
          "height": 39
        }
      },
      "execution_count": 34,
      "outputs": [
        {
          "output_type": "execute_result",
          "data": {
            "text/plain": [
              "sin(x**2 - 5)"
            ],
            "text/latex": "$\\displaystyle \\sin{\\left(x^{2} - 5 \\right)}$"
          },
          "metadata": {},
          "execution_count": 34
        }
      ]
    },
    {
      "cell_type": "markdown",
      "source": [
        "∫8x3 dx"
      ],
      "metadata": {
        "id": "-TRoa4oJwg27"
      }
    },
    {
      "cell_type": "code",
      "source": [
        "from sympy import *\n",
        "x = symbols ('x')\n",
        "dx = 8 * x ** 3\n",
        "integral = integrate (dx, x)\n",
        "integral"
      ],
      "metadata": {
        "id": "Nx0gvdiu2-w2",
        "outputId": "6fd1c45b-a6d5-487c-efc3-e1b4b1d96956",
        "colab": {
          "base_uri": "https://localhost:8080/",
          "height": 39
        }
      },
      "execution_count": 35,
      "outputs": [
        {
          "output_type": "execute_result",
          "data": {
            "text/plain": [
              "2*x**4"
            ],
            "text/latex": "$\\displaystyle 2 x^{4}$"
          },
          "metadata": {},
          "execution_count": 35
        }
      ]
    }
  ]
}